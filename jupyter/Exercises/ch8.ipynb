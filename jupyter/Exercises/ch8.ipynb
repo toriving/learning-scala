{
 "cells": [
  {
   "cell_type": "markdown",
   "metadata": {},
   "source": [
    "# Chapter 8.  Exercises\n",
    "## 1"
   ]
  },
  {
   "cell_type": "markdown",
   "metadata": {},
   "source": [
    "a"
   ]
  },
  {
   "cell_type": "code",
   "execution_count": 2,
   "metadata": {},
   "outputs": [
    {
     "data": {
      "text/plain": [
       "\u001b[32mimport \u001b[39m\u001b[36mjava.util.Date\u001b[39m"
      ]
     },
     "execution_count": 2,
     "metadata": {},
     "output_type": "execute_result"
    }
   ],
   "source": [
    "import java.util.Date"
   ]
  },
  {
   "cell_type": "code",
   "execution_count": 9,
   "metadata": {},
   "outputs": [
    {
     "data": {
      "text/plain": [
       "defined \u001b[32mclass\u001b[39m \u001b[36mConsole\u001b[39m"
      ]
     },
     "execution_count": 9,
     "metadata": {},
     "output_type": "execute_result"
    }
   ],
   "source": [
    "class Console(val make: String, val model: String, val debutDate: Date, val wifiType: Option[String], val format: List[String], val videoResolution: Long) {\n",
    "\n",
    "    override def toString = s\"Console: $make, $model, video resolution = $videoResolution, $debutDate\"\n",
    "\n",
    "}"
   ]
  },
  {
   "cell_type": "code",
   "execution_count": 10,
   "metadata": {},
   "outputs": [
    {
     "data": {
      "text/plain": [
       "\u001b[36mres9\u001b[39m: \u001b[32mConsole\u001b[39m = Console: A, B, video resolution = 1234, Tue May 26 23:51:01 KST 2020"
      ]
     },
     "execution_count": 10,
     "metadata": {},
     "output_type": "execute_result"
    }
   ],
   "source": [
    "new Console(\"A\", \"B\", new Date(), Option(\"aa\"), List(\"abc\"), 1234)"
   ]
  },
  {
   "cell_type": "markdown",
   "metadata": {},
   "source": [
    "b"
   ]
  },
  {
   "cell_type": "code",
   "execution_count": 11,
   "metadata": {},
   "outputs": [
    {
     "data": {
      "text/plain": [
       "defined \u001b[32mclass\u001b[39m \u001b[36mConsoleZip\u001b[39m"
      ]
     },
     "execution_count": 11,
     "metadata": {},
     "output_type": "execute_result"
    }
   ],
   "source": [
    "class ConsoleZip {\n",
    "\n",
    "  val one = new Console(\"Dongju\", \"One\", new Date(), Some(\"5G\"), List(\"a\"), 1920*1080)\n",
    "\n",
    "  val two = new Console(\"Dongju\", \"Two\", new Date(), Some(\"5G\"), List(\"b\"), 1280*720)\n",
    "\n",
    "  val three = new Console(\"Dongju\", \"Three\", new Date(), Some(\"None\"), List(\"c\"), 3840*2160)\n",
    "\n",
    "  val four = new Console(\"Dongju\", \"Four\", new Date(), Some(\"5G\"), List(\"d\"), 720*360)\n",
    "\n",
    "}\n"
   ]
  },
  {
   "cell_type": "markdown",
   "metadata": {},
   "source": [
    "c"
   ]
  },
  {
   "cell_type": "code",
   "execution_count": 14,
   "metadata": {},
   "outputs": [
    {
     "data": {
      "text/plain": [
       "defined \u001b[32mclass\u001b[39m \u001b[36mGame\u001b[39m"
      ]
     },
     "execution_count": 14,
     "metadata": {},
     "output_type": "execute_result"
    }
   ],
   "source": [
    "class Game(val name: String, val maker: String, val supportConsole: List[Console]){\n",
    "    def isSupported(console: Console) = supportConsole contains console\n",
    "}"
   ]
  },
  {
   "cell_type": "markdown",
   "metadata": {},
   "source": [
    "d"
   ]
  },
  {
   "cell_type": "code",
   "execution_count": 15,
   "metadata": {},
   "outputs": [
    {
     "data": {
      "text/plain": [
       "\u001b[36mconsoles\u001b[39m: \u001b[32mConsoleZip\u001b[39m = ammonite.$sess.cmd10$Helper$ConsoleZip@bd24840"
      ]
     },
     "execution_count": 15,
     "metadata": {},
     "output_type": "execute_result"
    }
   ],
   "source": [
    "val consoles = new ConsoleZip()"
   ]
  },
  {
   "cell_type": "code",
   "execution_count": 16,
   "metadata": {},
   "outputs": [
    {
     "data": {
      "text/plain": [
       "\u001b[36mgames\u001b[39m: \u001b[32mList\u001b[39m[\u001b[32mGame\u001b[39m] = \u001b[33mList\u001b[39m(\n",
       "  ammonite.$sess.cmd13$Helper$Game@6fa43ab7,\n",
       "  ammonite.$sess.cmd13$Helper$Game@1d003ec,\n",
       "  ammonite.$sess.cmd13$Helper$Game@65cad655\n",
       ")"
      ]
     },
     "execution_count": 16,
     "metadata": {},
     "output_type": "execute_result"
    }
   ],
   "source": [
    "val games = List(\n",
    "new Game(\"Run\", \"Dongju\", List(consoles.one)),\n",
    "new Game(\"Jump\", \"Dongju Park\", List(consoles.two, consoles.three)),\n",
    "new Game(\"Marathon\", \"Danny\", List(consoles.four))\n",
    ")"
   ]
  },
  {
   "cell_type": "markdown",
   "metadata": {},
   "source": [
    "## 2"
   ]
  },
  {
   "cell_type": "code",
   "execution_count": 9,
   "metadata": {},
   "outputs": [
    {
     "data": {
      "text/plain": [
       "\u001b[32mimport \u001b[39m\u001b[36mscala.util.Try\u001b[39m"
      ]
     },
     "execution_count": 9,
     "metadata": {},
     "output_type": "execute_result"
    }
   ],
   "source": [
    "import scala.util.Try"
   ]
  },
  {
   "cell_type": "code",
   "execution_count": 14,
   "metadata": {},
   "outputs": [
    {
     "data": {
      "text/plain": [
       "defined \u001b[32mclass\u001b[39m \u001b[36mContainer\u001b[39m\n",
       "defined \u001b[32mclass\u001b[39m \u001b[36mMyList\u001b[39m"
      ]
     },
     "execution_count": 14,
     "metadata": {},
     "output_type": "execute_result"
    }
   ],
   "source": [
    "class Container[A](val content:A, val nxt:Container[A]=null){\n",
    "  override def toString = content.toString\n",
    "}\n",
    "\n",
    "class MyList[A](val self:A*){\n",
    "  var pointer = new Container(self.last)\n",
    "  for (x<-self.reverse.tail){pointer = new Container(x, pointer)}\n",
    "  pointer\n",
    "  private def genericIterator[B](fn:A=>B)(c:Container[A]=pointer){\n",
    "    if(c.content!=null){fn(c.content); scala.util.Try(genericIterator(fn)(c.nxt))}\n",
    "  }\n",
    "  def foreach[B](fn:A=>B) = genericIterator(fn)(pointer)\n",
    "  def printContents = foreach(println)\n",
    "  def apply(n:Int):A={\n",
    "    var cell = pointer\n",
    "    for (i<- 1 to n) cell = cell.nxt\n",
    "    cell.content\n",
    "  }\n",
    "}"
   ]
  },
  {
   "cell_type": "code",
   "execution_count": 15,
   "metadata": {},
   "outputs": [
    {
     "name": "stdout",
     "output_type": "stream",
     "text": [
      "1\n",
      "2\n",
      "3\n",
      "4\n"
     ]
    },
    {
     "data": {
      "text/plain": [
       "\u001b[36mx\u001b[39m: \u001b[32mMyList\u001b[39m[\u001b[32mInt\u001b[39m] = ammonite.$sess.cmd13$Helper$MyList@7b7cdd42\n",
       "\u001b[36mres14_3\u001b[39m: \u001b[32mInt\u001b[39m = \u001b[32m4\u001b[39m"
      ]
     },
     "execution_count": 15,
     "metadata": {},
     "output_type": "execute_result"
    }
   ],
   "source": [
    "val x = new MyList(1,2,3,4)\n",
    "x.foreach(_*2)\n",
    "x.printContents\n",
    "x(3)"
   ]
  },
  {
   "cell_type": "code",
   "execution_count": 16,
   "metadata": {},
   "outputs": [
    {
     "data": {
      "text/plain": [
       "defined \u001b[32mfunction\u001b[39m \u001b[36mexample\u001b[39m\n",
       "defined \u001b[32mclass\u001b[39m \u001b[36mSingular\u001b[39m"
      ]
     },
     "execution_count": 16,
     "metadata": {},
     "output_type": "execute_result"
    }
   ],
   "source": [
    "// CREATE OWN COLLECTION WITH OWN TYPE-PARAMETER POSSIBILITY, like in:\n",
    "def example[A](x:A) = List[A](x, x, x) // try with example(2); example(\"two\")\n",
    "// Traversable is the parent of iterable. lets take it to define a monadic collection:\n",
    "class Singular[A](element:A) extends Traversable[A]{\n",
    "  def foreach[B](f:A=>B) = f(element)\n",
    "}"
   ]
  },
  {
   "cell_type": "code",
   "execution_count": 17,
   "metadata": {},
   "outputs": [
    {
     "data": {
      "text/plain": [
       "\u001b[36ms\u001b[39m: \u001b[32mSingular\u001b[39m[\u001b[32mString\u001b[39m] = cmd15.Helper.Singular(asdf)\n",
       "\u001b[36mres16_1\u001b[39m: \u001b[32mTraversable\u001b[39m[\u001b[32mString\u001b[39m] = \u001b[33mList\u001b[39m()\n",
       "\u001b[36mres16_2\u001b[39m: \u001b[32mSeq\u001b[39m[\u001b[32mInt\u001b[39m] = \u001b[33mList\u001b[39m(\u001b[32m1\u001b[39m)"
      ]
     },
     "execution_count": 17,
     "metadata": {},
     "output_type": "execute_result"
    }
   ],
   "source": [
    "val s = new Singular(\"asdf\")\n",
    "s.tail // the traversable methods are there\n",
    "\n",
    "Seq(1)"
   ]
  },
  {
   "cell_type": "markdown",
   "metadata": {},
   "source": [
    "## 3"
   ]
  },
  {
   "cell_type": "code",
   "execution_count": 1,
   "metadata": {},
   "outputs": [
    {
     "data": {
      "text/plain": [
       "\u001b[32mimport \u001b[39m\u001b[36mjava.io.{FilenameFilter, File}\u001b[39m"
      ]
     },
     "execution_count": 1,
     "metadata": {},
     "output_type": "execute_result"
    }
   ],
   "source": [
    "import java.io.{FilenameFilter, File}"
   ]
  },
  {
   "cell_type": "code",
   "execution_count": 3,
   "metadata": {},
   "outputs": [
    {
     "data": {
      "text/plain": [
       "defined \u001b[32mclass\u001b[39m \u001b[36mDirLister\u001b[39m"
      ]
     },
     "execution_count": 3,
     "metadata": {},
     "output_type": "execute_result"
    }
   ],
   "source": [
    "class DirLister(path: String, f: String => Boolean) {\n",
    "\n",
    "  lazy val file: File = new File(path)\n",
    "\n",
    "  lazy val filter = new FilenameFilter {\n",
    "    override def accept(dir: File, name: String): Boolean = f(name)\n",
    "  }\n",
    "\n",
    "  def list: List[String] = file.list(filter).toList\n",
    "\n",
    "}"
   ]
  },
  {
   "cell_type": "markdown",
   "metadata": {},
   "source": [
    "## 4"
   ]
  },
  {
   "cell_type": "code",
   "execution_count": 20,
   "metadata": {},
   "outputs": [
    {
     "ename": "",
     "evalue": "",
     "output_type": "error",
     "traceback": [
      "\u001b[31mjavax.sound.midi.MidiUnavailableException: Can not open line\u001b[39m\n  com.sun.media.sound.SoftSynthesizer.open(\u001b[32mSoftSynthesizer.java\u001b[39m:\u001b[32m1155\u001b[39m)\n  com.sun.media.sound.SoftSynthesizer.open(\u001b[32mSoftSynthesizer.java\u001b[39m:\u001b[32m1066\u001b[39m)\n  ammonite.$sess.cmd19$Helper.<init>(\u001b[32mcmd19.sc\u001b[39m:\u001b[32m2\u001b[39m)\n  ammonite.$sess.cmd19$.<init>(\u001b[32mcmd19.sc\u001b[39m:\u001b[32m7\u001b[39m)\n  ammonite.$sess.cmd19$.<clinit>(\u001b[32mcmd19.sc\u001b[39m:\u001b[32m-1\u001b[39m)\n\u001b[31mjavax.sound.sampled.LineUnavailableException\u001b[39m\n  org.classpath.icedtea.pulseaudio.PulseAudioMixer.openImpl(\u001b[32mPulseAudioMixer.java\u001b[39m:\u001b[32m714\u001b[39m)\n  org.classpath.icedtea.pulseaudio.PulseAudioMixer.openLocal(\u001b[32mPulseAudioMixer.java\u001b[39m:\u001b[32m588\u001b[39m)\n  org.classpath.icedtea.pulseaudio.PulseAudioMixer.openLocal(\u001b[32mPulseAudioMixer.java\u001b[39m:\u001b[32m584\u001b[39m)\n  org.classpath.icedtea.pulseaudio.PulseAudioMixer.open(\u001b[32mPulseAudioMixer.java\u001b[39m:\u001b[32m579\u001b[39m)\n  org.classpath.icedtea.pulseaudio.PulseAudioDataLine.open(\u001b[32mPulseAudioDataLine.java\u001b[39m:\u001b[32m94\u001b[39m)\n  org.classpath.icedtea.pulseaudio.PulseAudioSourceDataLine.open(\u001b[32mPulseAudioSourceDataLine.java\u001b[39m:\u001b[32m75\u001b[39m)\n  com.sun.media.sound.SoftSynthesizer.open(\u001b[32mSoftSynthesizer.java\u001b[39m:\u001b[32m1106\u001b[39m)\n  com.sun.media.sound.SoftSynthesizer.open(\u001b[32mSoftSynthesizer.java\u001b[39m:\u001b[32m1066\u001b[39m)\n  ammonite.$sess.cmd19$Helper.<init>(\u001b[32mcmd19.sc\u001b[39m:\u001b[32m2\u001b[39m)\n  ammonite.$sess.cmd19$.<init>(\u001b[32mcmd19.sc\u001b[39m:\u001b[32m7\u001b[39m)\n  ammonite.$sess.cmd19$.<clinit>(\u001b[32mcmd19.sc\u001b[39m:\u001b[32m-1\u001b[39m)"
     ]
    }
   ],
   "source": [
    "val synth = javax.sound.midi.MidiSystem.getSynthesizer\n",
    "synth.open()\n",
    "val channel = synth.getChannels.head\n",
    "channel.noteOn(50, 80); Thread.sleep(250); channel.noteOff(30)\n",
    "synth.close()"
   ]
  },
  {
   "cell_type": "code",
   "execution_count": 12,
   "metadata": {
    "collapsed": true,
    "jupyter": {
     "outputs_hidden": true
    }
   },
   "outputs": [
    {
     "ename": "",
     "evalue": "",
     "output_type": "error",
     "traceback": [
      "\u001b[31mjavax.sound.midi.MidiUnavailableException: Can not open line\u001b[39m\n  com.sun.media.sound.SoftSynthesizer.open(\u001b[32mSoftSynthesizer.java\u001b[39m:\u001b[32m1155\u001b[39m)\n  com.sun.media.sound.SoftSynthesizer.open(\u001b[32mSoftSynthesizer.java\u001b[39m:\u001b[32m1066\u001b[39m)\n  ammonite.$sess.cmd11$Helper.playSeq(\u001b[32mcmd11.sc\u001b[39m:\u001b[32m9\u001b[39m)\n  ammonite.$sess.cmd11$Helper.<init>(\u001b[32mcmd11.sc\u001b[39m:\u001b[32m18\u001b[39m)\n  ammonite.$sess.cmd11$.<init>(\u001b[32mcmd11.sc\u001b[39m:\u001b[32m7\u001b[39m)\n  ammonite.$sess.cmd11$.<clinit>(\u001b[32mcmd11.sc\u001b[39m:\u001b[32m-1\u001b[39m)\n\u001b[31mjavax.sound.sampled.LineUnavailableException\u001b[39m\n  org.classpath.icedtea.pulseaudio.PulseAudioMixer.openImpl(\u001b[32mPulseAudioMixer.java\u001b[39m:\u001b[32m714\u001b[39m)\n  org.classpath.icedtea.pulseaudio.PulseAudioMixer.openLocal(\u001b[32mPulseAudioMixer.java\u001b[39m:\u001b[32m588\u001b[39m)\n  org.classpath.icedtea.pulseaudio.PulseAudioMixer.openLocal(\u001b[32mPulseAudioMixer.java\u001b[39m:\u001b[32m584\u001b[39m)\n  org.classpath.icedtea.pulseaudio.PulseAudioMixer.open(\u001b[32mPulseAudioMixer.java\u001b[39m:\u001b[32m579\u001b[39m)\n  org.classpath.icedtea.pulseaudio.PulseAudioDataLine.open(\u001b[32mPulseAudioDataLine.java\u001b[39m:\u001b[32m94\u001b[39m)\n  org.classpath.icedtea.pulseaudio.PulseAudioSourceDataLine.open(\u001b[32mPulseAudioSourceDataLine.java\u001b[39m:\u001b[32m75\u001b[39m)\n  com.sun.media.sound.SoftSynthesizer.open(\u001b[32mSoftSynthesizer.java\u001b[39m:\u001b[32m1106\u001b[39m)\n  com.sun.media.sound.SoftSynthesizer.open(\u001b[32mSoftSynthesizer.java\u001b[39m:\u001b[32m1066\u001b[39m)\n  ammonite.$sess.cmd11$Helper.playSeq(\u001b[32mcmd11.sc\u001b[39m:\u001b[32m9\u001b[39m)\n  ammonite.$sess.cmd11$Helper.<init>(\u001b[32mcmd11.sc\u001b[39m:\u001b[32m18\u001b[39m)\n  ammonite.$sess.cmd11$.<init>(\u001b[32mcmd11.sc\u001b[39m:\u001b[32m7\u001b[39m)\n  ammonite.$sess.cmd11$.<clinit>(\u001b[32mcmd11.sc\u001b[39m:\u001b[32m-1\u001b[39m)"
     ]
    }
   ],
   "source": [
    "def playSeq(seq:Seq[Int], synth:javax.sound.midi.Synthesizer, dur:Int=250):Unit={\n",
    "  val velocity = 127 // max midi volume\n",
    "  lazy val ch = synth.getChannels.head\n",
    "  /*\n",
    "  val threads = for (i<- seq) yield new Thread(){\n",
    "      override def run(){channel.noteOn(i, 127); Thread.sleep(duration); channel.noteOff(i)}\n",
    "    }\n",
    "   */\n",
    "  synth.open()\n",
    " // threads.foreach(t => {t.start(); t.join()})\n",
    "  seq.foreach(t => {ch.noteOn(t, velocity); Thread.sleep(dur); ch.noteOff(t)})\n",
    "  synth.close()\n",
    "}\n",
    "var synth:javax.sound.midi.Synthesizer = null\n",
    "synth = Option(synth).getOrElse(javax.sound.midi.MidiSystem.getSynthesizer)\n",
    "playSeq(Seq(60, 62, 64, 65, 67, 69, 71, 72), synth)\n",
    "playSeq(50 to 100 by 5, synth, 100)\n",
    "playSeq(10 to 120 by 3, synth, 30)\n"
   ]
  },
  {
   "cell_type": "code",
   "execution_count": null,
   "metadata": {},
   "outputs": [],
   "source": []
  }
 ],
 "metadata": {
  "kernelspec": {
   "display_name": "Scala",
   "language": "scala",
   "name": "scala"
  },
  "language_info": {
   "codemirror_mode": "text/x-scala",
   "file_extension": ".scala",
   "mimetype": "text/x-scala",
   "name": "scala",
   "nbconvert_exporter": "script",
   "version": "2.12.10"
  }
 },
 "nbformat": 4,
 "nbformat_minor": 4
}
