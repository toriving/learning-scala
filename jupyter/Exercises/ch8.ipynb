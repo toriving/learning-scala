{
 "cells": [
  {
   "cell_type": "markdown",
   "metadata": {},
   "source": [
    "# Chapter 8.  Exercises\n",
    "## 1"
   ]
  },
  {
   "cell_type": "markdown",
   "metadata": {},
   "source": [
    "a"
   ]
  },
  {
   "cell_type": "code",
   "execution_count": 2,
   "metadata": {},
   "outputs": [
    {
     "data": {
      "text/plain": [
       "\u001b[32mimport \u001b[39m\u001b[36mjava.util.Date\u001b[39m"
      ]
     },
     "execution_count": 2,
     "metadata": {},
     "output_type": "execute_result"
    }
   ],
   "source": [
    "import java.util.Date"
   ]
  },
  {
   "cell_type": "code",
   "execution_count": 9,
   "metadata": {},
   "outputs": [
    {
     "data": {
      "text/plain": [
       "defined \u001b[32mclass\u001b[39m \u001b[36mConsole\u001b[39m"
      ]
     },
     "execution_count": 9,
     "metadata": {},
     "output_type": "execute_result"
    }
   ],
   "source": [
    "class Console(val make: String, val model: String, val debutDate: Date, val wifiType: Option[String], val format: List[String], val videoResolution: Long) {\n",
    "\n",
    "    override def toString = s\"Console: $make, $model, video resolution = $videoResolution, $debutDate\"\n",
    "\n",
    "}"
   ]
  },
  {
   "cell_type": "code",
   "execution_count": 10,
   "metadata": {},
   "outputs": [
    {
     "data": {
      "text/plain": [
       "\u001b[36mres9\u001b[39m: \u001b[32mConsole\u001b[39m = Console: A, B, video resolution = 1234, Tue May 26 23:51:01 KST 2020"
      ]
     },
     "execution_count": 10,
     "metadata": {},
     "output_type": "execute_result"
    }
   ],
   "source": [
    "new Console(\"A\", \"B\", new Date(), Option(\"aa\"), List(\"abc\"), 1234)"
   ]
  },
  {
   "cell_type": "markdown",
   "metadata": {},
   "source": [
    "b"
   ]
  },
  {
   "cell_type": "code",
   "execution_count": 11,
   "metadata": {},
   "outputs": [
    {
     "data": {
      "text/plain": [
       "defined \u001b[32mclass\u001b[39m \u001b[36mConsoleZip\u001b[39m"
      ]
     },
     "execution_count": 11,
     "metadata": {},
     "output_type": "execute_result"
    }
   ],
   "source": [
    "class ConsoleZip {\n",
    "\n",
    "  val one = new Console(\"Dongju\", \"One\", new Date(), Some(\"5G\"), List(\"a\"), 1920*1080)\n",
    "\n",
    "  val two = new Console(\"Dongju\", \"Two\", new Date(), Some(\"5G\"), List(\"b\"), 1280*720)\n",
    "\n",
    "  val three = new Console(\"Dongju\", \"Three\", new Date(), Some(\"None\"), List(\"c\"), 3840*2160)\n",
    "\n",
    "  val four = new Console(\"Dongju\", \"Four\", new Date(), Some(\"5G\"), List(\"d\"), 720*360)\n",
    "\n",
    "}\n"
   ]
  },
  {
   "cell_type": "markdown",
   "metadata": {},
   "source": [
    "c"
   ]
  },
  {
   "cell_type": "code",
   "execution_count": 14,
   "metadata": {},
   "outputs": [
    {
     "data": {
      "text/plain": [
       "defined \u001b[32mclass\u001b[39m \u001b[36mGame\u001b[39m"
      ]
     },
     "execution_count": 14,
     "metadata": {},
     "output_type": "execute_result"
    }
   ],
   "source": [
    "class Game(val name: String, val maker: String, val supportConsole: List[Console]){\n",
    "    def isSupported(console: Console) = supportConsole contains console\n",
    "}"
   ]
  },
  {
   "cell_type": "markdown",
   "metadata": {},
   "source": [
    "d"
   ]
  },
  {
   "cell_type": "code",
   "execution_count": 15,
   "metadata": {},
   "outputs": [
    {
     "data": {
      "text/plain": [
       "\u001b[36mconsoles\u001b[39m: \u001b[32mConsoleZip\u001b[39m = ammonite.$sess.cmd10$Helper$ConsoleZip@bd24840"
      ]
     },
     "execution_count": 15,
     "metadata": {},
     "output_type": "execute_result"
    }
   ],
   "source": [
    "val consoles = new ConsoleZip()"
   ]
  },
  {
   "cell_type": "code",
   "execution_count": 16,
   "metadata": {},
   "outputs": [
    {
     "data": {
      "text/plain": [
       "\u001b[36mgames\u001b[39m: \u001b[32mList\u001b[39m[\u001b[32mGame\u001b[39m] = \u001b[33mList\u001b[39m(\n",
       "  ammonite.$sess.cmd13$Helper$Game@6fa43ab7,\n",
       "  ammonite.$sess.cmd13$Helper$Game@1d003ec,\n",
       "  ammonite.$sess.cmd13$Helper$Game@65cad655\n",
       ")"
      ]
     },
     "execution_count": 16,
     "metadata": {},
     "output_type": "execute_result"
    }
   ],
   "source": [
    "val games = List(\n",
    "new Game(\"Run\", \"Dongju\", List(consoles.one)),\n",
    "new Game(\"Jump\", \"Dongju Park\", List(consoles.two, consoles.three)),\n",
    "new Game(\"Marathon\", \"Danny\", List(consoles.four))\n",
    ")"
   ]
  },
  {
   "cell_type": "markdown",
   "metadata": {},
   "source": [
    "## 2"
   ]
  },
  {
   "cell_type": "code",
   "execution_count": null,
   "metadata": {},
   "outputs": [],
   "source": []
  }
 ],
 "metadata": {
  "kernelspec": {
   "display_name": "Scala",
   "language": "scala",
   "name": "scala"
  },
  "language_info": {
   "codemirror_mode": "text/x-scala",
   "file_extension": ".scala",
   "mimetype": "text/x-scala",
   "name": "scala",
   "nbconvert_exporter": "script",
   "version": "2.12.10"
  }
 },
 "nbformat": 4,
 "nbformat_minor": 4
}
