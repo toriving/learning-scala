{
 "cells": [
  {
   "cell_type": "markdown",
   "metadata": {},
   "source": [
    "# Chapter 7.  Exercises\n",
    "## 1"
   ]
  },
  {
   "cell_type": "markdown",
   "metadata": {},
   "source": [
    "a"
   ]
  },
  {
   "cell_type": "code",
   "execution_count": 1,
   "metadata": {},
   "outputs": [
    {
     "data": {
      "text/plain": [
       "defined \u001b[32mfunction\u001b[39m \u001b[36mfibo\u001b[39m"
      ]
     },
     "execution_count": 1,
     "metadata": {},
     "output_type": "execute_result"
    }
   ],
   "source": [
    "def fibo(n: Int): List[Int] = {\n",
    "    val b = List(1, 1).toBuffer\n",
    "    while (b.size < n) b += b.takeRight(2).sum\n",
    "    b.toList\n",
    "}"
   ]
  },
  {
   "cell_type": "code",
   "execution_count": 2,
   "metadata": {},
   "outputs": [
    {
     "data": {
      "text/plain": [
       "\u001b[36mf\u001b[39m: \u001b[32mList\u001b[39m[\u001b[32mInt\u001b[39m] = \u001b[33mList\u001b[39m(\u001b[32m1\u001b[39m, \u001b[32m1\u001b[39m, \u001b[32m2\u001b[39m, \u001b[32m3\u001b[39m, \u001b[32m5\u001b[39m, \u001b[32m8\u001b[39m, \u001b[32m13\u001b[39m, \u001b[32m21\u001b[39m, \u001b[32m34\u001b[39m, \u001b[32m55\u001b[39m, \u001b[32m89\u001b[39m, \u001b[32m144\u001b[39m)"
      ]
     },
     "execution_count": 2,
     "metadata": {},
     "output_type": "execute_result"
    }
   ],
   "source": [
    "val f = fibo(12)"
   ]
  },
  {
   "cell_type": "markdown",
   "metadata": {},
   "source": [
    "b"
   ]
  },
  {
   "cell_type": "code",
   "execution_count": 3,
   "metadata": {},
   "outputs": [
    {
     "data": {
      "text/plain": [
       "defined \u001b[32mfunction\u001b[39m \u001b[36mfibo2\u001b[39m"
      ]
     },
     "execution_count": 3,
     "metadata": {},
     "output_type": "execute_result"
    }
   ],
   "source": [
    "def fibo2(l: List[Int], n:Int): List[Int] = {\n",
    "    val b = l.toBuffer\n",
    "    for (i <- 1 to n) b += b.takeRight(2).sum\n",
    "    b.toList\n",
    "}"
   ]
  },
  {
   "cell_type": "code",
   "execution_count": 4,
   "metadata": {},
   "outputs": [
    {
     "data": {
      "text/plain": [
       "\u001b[36mf2\u001b[39m: \u001b[32mList\u001b[39m[\u001b[32mInt\u001b[39m] = \u001b[33mList\u001b[39m(\u001b[32m1\u001b[39m, \u001b[32m1\u001b[39m, \u001b[32m2\u001b[39m, \u001b[32m3\u001b[39m, \u001b[32m5\u001b[39m, \u001b[32m8\u001b[39m, \u001b[32m13\u001b[39m, \u001b[32m21\u001b[39m, \u001b[32m34\u001b[39m, \u001b[32m55\u001b[39m, \u001b[32m89\u001b[39m, \u001b[32m144\u001b[39m, \u001b[32m233\u001b[39m, \u001b[32m377\u001b[39m)"
      ]
     },
     "execution_count": 4,
     "metadata": {},
     "output_type": "execute_result"
    }
   ],
   "source": [
    "val f2 = fibo2(List(1,1,2,3), 10)"
   ]
  },
  {
   "cell_type": "markdown",
   "metadata": {},
   "source": [
    "c"
   ]
  },
  {
   "cell_type": "code",
   "execution_count": 5,
   "metadata": {},
   "outputs": [
    {
     "data": {
      "text/plain": [
       "defined \u001b[32mfunction\u001b[39m \u001b[36mfibo3\u001b[39m"
      ]
     },
     "execution_count": 5,
     "metadata": {},
     "output_type": "execute_result"
    }
   ],
   "source": [
    "def fibo3(t: Int, n: Int): Stream[Int] = t #:: fibo3(n, t+n)"
   ]
  },
  {
   "cell_type": "code",
   "execution_count": 6,
   "metadata": {},
   "outputs": [
    {
     "data": {
      "text/plain": [
       "\u001b[36mf3\u001b[39m: \u001b[32mList\u001b[39m[\u001b[32mInt\u001b[39m] = \u001b[33mList\u001b[39m(\n",
       "  \u001b[32m1\u001b[39m,\n",
       "  \u001b[32m1\u001b[39m,\n",
       "  \u001b[32m2\u001b[39m,\n",
       "  \u001b[32m3\u001b[39m,\n",
       "  \u001b[32m5\u001b[39m,\n",
       "  \u001b[32m8\u001b[39m,\n",
       "  \u001b[32m13\u001b[39m,\n",
       "  \u001b[32m21\u001b[39m,\n",
       "  \u001b[32m34\u001b[39m,\n",
       "  \u001b[32m55\u001b[39m,\n",
       "  \u001b[32m89\u001b[39m,\n",
       "  \u001b[32m144\u001b[39m,\n",
       "  \u001b[32m233\u001b[39m,\n",
       "  \u001b[32m377\u001b[39m,\n",
       "  \u001b[32m610\u001b[39m,\n",
       "  \u001b[32m987\u001b[39m,\n",
       "  \u001b[32m1597\u001b[39m,\n",
       "  \u001b[32m2584\u001b[39m,\n",
       "  \u001b[32m4181\u001b[39m,\n",
       "  \u001b[32m6765\u001b[39m,\n",
       "  \u001b[32m10946\u001b[39m,\n",
       "  \u001b[32m17711\u001b[39m,\n",
       "  \u001b[32m28657\u001b[39m,\n",
       "  \u001b[32m46368\u001b[39m,\n",
       "  \u001b[32m75025\u001b[39m,\n",
       "  \u001b[32m121393\u001b[39m,\n",
       "  \u001b[32m196418\u001b[39m,\n",
       "  \u001b[32m317811\u001b[39m,\n",
       "  \u001b[32m514229\u001b[39m,\n",
       "  \u001b[32m832040\u001b[39m,\n",
       "  \u001b[32m1346269\u001b[39m,\n",
       "  \u001b[32m2178309\u001b[39m,\n",
       "  \u001b[32m3524578\u001b[39m,\n",
       "  \u001b[32m5702887\u001b[39m,\n",
       "  \u001b[32m9227465\u001b[39m,\n",
       "  \u001b[32m14930352\u001b[39m,\n",
       "  \u001b[32m24157817\u001b[39m,\n",
       "  \u001b[32m39088169\u001b[39m,\n",
       "..."
      ]
     },
     "execution_count": 6,
     "metadata": {},
     "output_type": "execute_result"
    }
   ],
   "source": [
    "val f3 = fibo3(1, 1).take(100).toList"
   ]
  },
  {
   "cell_type": "code",
   "execution_count": 8,
   "metadata": {},
   "outputs": [
    {
     "data": {
      "text/plain": [
       "\u001b[36mtemp\u001b[39m: \u001b[32mIterator\u001b[39m[\u001b[32mString\u001b[39m] = \u001b[32mnon-empty iterator\u001b[39m"
      ]
     },
     "execution_count": 8,
     "metadata": {},
     "output_type": "execute_result"
    }
   ],
   "source": [
    "val temp = f3 grouped 10 map (_.mkString(\",\"))"
   ]
  },
  {
   "cell_type": "code",
   "execution_count": 9,
   "metadata": {},
   "outputs": [
    {
     "name": "stdout",
     "output_type": "stream",
     "text": [
      "1,1,2,3,5,8,13,21,34,55\n",
      "89,144,233,377,610,987,1597,2584,4181,6765\n",
      "10946,17711,28657,46368,75025,121393,196418,317811,514229,832040\n",
      "1346269,2178309,3524578,5702887,9227465,14930352,24157817,39088169,63245986,102334155\n",
      "165580141,267914296,433494437,701408733,1134903170,1836311903,-1323752223,512559680,-811192543,-298632863\n",
      "-1109825406,-1408458269,1776683621,368225352,2144908973,-1781832971,363076002,-1418756969,-1055680967,1820529360\n",
      "764848393,-1709589543,-944741150,1640636603,695895453,-1958435240,-1262539787,1073992269,-188547518,885444751\n",
      "696897233,1582341984,-2015728079,-433386095,1845853122,1412467027,-1036647147,375819880,-660827267,-285007387\n",
      "-945834654,-1230842041,2118290601,887448560,-1289228135,-401779575,-1691007710,-2092787285,511172301,-1581614984\n",
      "-1070442683,1642909629,572466946,-2079590721,-1507123775,708252800,-798870975,-90618175,-889489150,-980107325\n"
     ]
    }
   ],
   "source": [
    "temp foreach println"
   ]
  },
  {
   "cell_type": "markdown",
   "metadata": {},
   "source": [
    "d"
   ]
  },
  {
   "cell_type": "code",
   "execution_count": 10,
   "metadata": {},
   "outputs": [
    {
     "data": {
      "text/plain": [
       "defined \u001b[32mfunction\u001b[39m \u001b[36mfibo4\u001b[39m"
      ]
     },
     "execution_count": 10,
     "metadata": {},
     "output_type": "execute_result"
    }
   ],
   "source": [
    "def fibo4(t: Long, n: Long): Stream[Long] = t #:: fibo4(n, t+n)"
   ]
  },
  {
   "cell_type": "code",
   "execution_count": 11,
   "metadata": {},
   "outputs": [
    {
     "data": {
      "text/plain": [
       "defined \u001b[32mfunction\u001b[39m \u001b[36mnext\u001b[39m"
      ]
     },
     "execution_count": 11,
     "metadata": {},
     "output_type": "execute_result"
    }
   ],
   "source": [
    "def next(i: Int): Option[Long] = {\n",
    "    val start = fibo4(1,1)\n",
    "    val preceeding = start.takeWhile( _ <= i).toList\n",
    "    if (preceeding.last == i) Some(preceeding.takeRight(2).sum)\n",
    "    else None\n",
    "}"
   ]
  },
  {
   "cell_type": "code",
   "execution_count": 12,
   "metadata": {},
   "outputs": [
    {
     "data": {
      "text/plain": [
       "\u001b[36mx\u001b[39m: \u001b[32mOption\u001b[39m[\u001b[32mLong\u001b[39m] = \u001b[33mSome\u001b[39m(\u001b[32m34L\u001b[39m)"
      ]
     },
     "execution_count": 12,
     "metadata": {},
     "output_type": "execute_result"
    }
   ],
   "source": [
    "val x = next(21)"
   ]
  },
  {
   "cell_type": "code",
   "execution_count": 13,
   "metadata": {},
   "outputs": [
    {
     "data": {
      "text/plain": [
       "\u001b[36my\u001b[39m: \u001b[32mOption\u001b[39m[\u001b[32mLong\u001b[39m] = \u001b[32mNone\u001b[39m"
      ]
     },
     "execution_count": 13,
     "metadata": {},
     "output_type": "execute_result"
    }
   ],
   "source": [
    "val y = next(22)"
   ]
  },
  {
   "cell_type": "markdown",
   "metadata": {},
   "source": [
    "## 2"
   ]
  },
  {
   "cell_type": "code",
   "execution_count": 14,
   "metadata": {},
   "outputs": [
    {
     "data": {
      "text/plain": [
       "defined \u001b[32mfunction\u001b[39m \u001b[36mprintFiles\u001b[39m"
      ]
     },
     "execution_count": 14,
     "metadata": {},
     "output_type": "execute_result"
    }
   ],
   "source": [
    "def printFiles(path: String): List[String] = {\n",
    "    val files = new java.io.File(path).listFiles.toList\n",
    "    files.map(_.toString.replaceFirst(\"./\", \"\"))\n",
    "}"
   ]
  },
  {
   "cell_type": "code",
   "execution_count": 15,
   "metadata": {},
   "outputs": [
    {
     "data": {
      "text/plain": [
       "\u001b[36mfiles\u001b[39m: \u001b[32mList\u001b[39m[\u001b[32mString\u001b[39m] = \u001b[33mList\u001b[39m(\n",
       "  \u001b[32m\"Hello.scala\"\u001b[39m,\n",
       "  \u001b[32m\"ch4.ipynb\"\u001b[39m,\n",
       "  \u001b[32m\"ch3.ipynb\"\u001b[39m,\n",
       "  \u001b[32m\"ch5.ipynb\"\u001b[39m,\n",
       "  \u001b[32m\".ipynb_checkpoints\"\u001b[39m,\n",
       "  \u001b[32m\"ch2.ipynb\"\u001b[39m,\n",
       "  \u001b[32m\"ch7.ipynb\"\u001b[39m,\n",
       "  \u001b[32m\"ch6.ipynb\"\u001b[39m\n",
       ")"
      ]
     },
     "execution_count": 15,
     "metadata": {},
     "output_type": "execute_result"
    }
   ],
   "source": [
    "val files = printFiles(\".\")"
   ]
  },
  {
   "cell_type": "code",
   "execution_count": 16,
   "metadata": {},
   "outputs": [
    {
     "data": {
      "text/plain": [
       "\u001b[36mfiles\u001b[39m: \u001b[32mList\u001b[39m[\u001b[32mString\u001b[39m] = \u001b[33mList\u001b[39m(\n",
       "  \u001b[32m\"Hello.scala\"\u001b[39m,\n",
       "  \u001b[32m\"ch4.ipynb\"\u001b[39m,\n",
       "  \u001b[32m\"ch3.ipynb\"\u001b[39m,\n",
       "  \u001b[32m\"ch5.ipynb\"\u001b[39m,\n",
       "  \u001b[32m\"ch2.ipynb\"\u001b[39m,\n",
       "  \u001b[32m\"ch7.ipynb\"\u001b[39m,\n",
       "  \u001b[32m\"ch6.ipynb\"\u001b[39m\n",
       ")"
      ]
     },
     "execution_count": 16,
     "metadata": {},
     "output_type": "execute_result"
    }
   ],
   "source": [
    "val files = printFiles(\".\").filterNot(_ startsWith \".\")"
   ]
  },
  {
   "cell_type": "code",
   "execution_count": 17,
   "metadata": {},
   "outputs": [
    {
     "name": "stdout",
     "output_type": "stream",
     "text": [
      "Found these files: Hello.scala;ch4.ipynb;ch3.ipynb;ch5.ipynb;ch2.ipynb;ch7.ipynb;ch6.ipynb\n"
     ]
    }
   ],
   "source": [
    "println(\"Found these files: \" + files.mkString(\";\"))"
   ]
  },
  {
   "cell_type": "markdown",
   "metadata": {},
   "source": [
    "## 3"
   ]
  },
  {
   "cell_type": "code",
   "execution_count": 18,
   "metadata": {},
   "outputs": [
    {
     "data": {
      "text/plain": [
       "\u001b[36mfindAlphabet\u001b[39m: \u001b[32mList\u001b[39m[(\u001b[32mChar\u001b[39m, \u001b[32mList\u001b[39m[\u001b[32mString\u001b[39m])] = \u001b[33mList\u001b[39m(\n",
       "  (\n",
       "    \u001b[32m'c'\u001b[39m,\n",
       "    \u001b[33mList\u001b[39m(\n",
       "      \u001b[32m\"ch4.ipynb\"\u001b[39m,\n",
       "      \u001b[32m\"ch3.ipynb\"\u001b[39m,\n",
       "      \u001b[32m\"ch5.ipynb\"\u001b[39m,\n",
       "      \u001b[32m\"ch2.ipynb\"\u001b[39m,\n",
       "      \u001b[32m\"ch7.ipynb\"\u001b[39m,\n",
       "      \u001b[32m\"ch6.ipynb\"\u001b[39m\n",
       "    )\n",
       "  ),\n",
       "  (\u001b[32m'h'\u001b[39m, \u001b[33mList\u001b[39m(\u001b[32m\"Hello.scala\"\u001b[39m))\n",
       ")"
      ]
     },
     "execution_count": 18,
     "metadata": {},
     "output_type": "execute_result"
    }
   ],
   "source": [
    "val findAlphabet = files.groupBy(_.head.toLower).toList.sortBy(_._1)"
   ]
  },
  {
   "cell_type": "code",
   "execution_count": 19,
   "metadata": {},
   "outputs": [
    {
     "name": "stdout",
     "output_type": "stream",
     "text": [
      "'c' has 6 files\n",
      "'h' has 1 files\n"
     ]
    }
   ],
   "source": [
    "for { (c,l) <- findAlphabet } {println(s\"'$c' has ${l.size} files\")}"
   ]
  },
  {
   "cell_type": "markdown",
   "metadata": {},
   "source": [
    "## 4"
   ]
  },
  {
   "cell_type": "code",
   "execution_count": 20,
   "metadata": {},
   "outputs": [
    {
     "data": {
      "text/plain": [
       "\u001b[32mimport \u001b[39m\u001b[36mscala.util\u001b[39m"
      ]
     },
     "execution_count": 20,
     "metadata": {},
     "output_type": "execute_result"
    }
   ],
   "source": [
    "import scala.util"
   ]
  },
  {
   "cell_type": "code",
   "execution_count": 21,
   "metadata": {},
   "outputs": [
    {
     "data": {
      "text/plain": [
       "defined \u001b[32mfunction\u001b[39m \u001b[36mtoDouble\u001b[39m"
      ]
     },
     "execution_count": 21,
     "metadata": {},
     "output_type": "execute_result"
    }
   ],
   "source": [
    "def toDouble(a: String) = util.Try(a.toDouble).toOption"
   ]
  },
  {
   "cell_type": "code",
   "execution_count": 27,
   "metadata": {},
   "outputs": [
    {
     "data": {
      "text/plain": [
       "defined \u001b[32mfunction\u001b[39m \u001b[36mproductString\u001b[39m"
      ]
     },
     "execution_count": 27,
     "metadata": {},
     "output_type": "execute_result"
    }
   ],
   "source": [
    "def productString(a: String, b: String): Option[Double] = {\n",
    "    (toDouble(a), toDouble(b)) match {\n",
    "        case (Some(a1), Some(b1)) => Some(a1 * b1)\n",
    "        case _ => None\n",
    "    }\n",
    "}"
   ]
  },
  {
   "cell_type": "code",
   "execution_count": 28,
   "metadata": {},
   "outputs": [
    {
     "data": {
      "text/plain": [
       "\u001b[36mx\u001b[39m: \u001b[32mOption\u001b[39m[\u001b[32mDouble\u001b[39m] = \u001b[33mSome\u001b[39m(\u001b[32m22.0\u001b[39m)"
      ]
     },
     "execution_count": 28,
     "metadata": {},
     "output_type": "execute_result"
    }
   ],
   "source": [
    "val x = productString(\"2\", \"11\")"
   ]
  },
  {
   "cell_type": "code",
   "execution_count": 24,
   "metadata": {},
   "outputs": [
    {
     "data": {
      "text/plain": [
       "\u001b[36my\u001b[39m: \u001b[32mOption\u001b[39m[\u001b[32mDouble\u001b[39m] = \u001b[32mNone\u001b[39m"
      ]
     },
     "execution_count": 24,
     "metadata": {},
     "output_type": "execute_result"
    }
   ],
   "source": [
    "val y = productString(\"asd\", \"12\")"
   ]
  },
  {
   "cell_type": "markdown",
   "metadata": {},
   "source": [
    "## 5"
   ]
  },
  {
   "cell_type": "code",
   "execution_count": 29,
   "metadata": {},
   "outputs": [
    {
     "ename": "",
     "evalue": "",
     "output_type": "error",
     "traceback": [
      "\u001b[31mjava.lang.NullPointerException: key can't be null\u001b[39m\n  java.lang.System.checkKey(\u001b[32mSystem.java\u001b[39m:\u001b[32m840\u001b[39m)\n  java.lang.System.getProperty(\u001b[32mSystem.java\u001b[39m:\u001b[32m716\u001b[39m)\n  ammonite.$sess.cmd28$Helper.<init>(\u001b[32mcmd28.sc\u001b[39m:\u001b[32m1\u001b[39m)\n  ammonite.$sess.cmd28$.<init>(\u001b[32mcmd28.sc\u001b[39m:\u001b[32m7\u001b[39m)\n  ammonite.$sess.cmd28$.<clinit>(\u001b[32mcmd28.sc\u001b[39m:\u001b[32m-1\u001b[39m)"
     ]
    }
   ],
   "source": [
    "System.getProperty(null)"
   ]
  },
  {
   "cell_type": "code",
   "execution_count": 30,
   "metadata": {},
   "outputs": [
    {
     "data": {
      "text/plain": [
       "\u001b[36march\u001b[39m: \u001b[32mString\u001b[39m = \u001b[32m\"amd64\"\u001b[39m"
      ]
     },
     "execution_count": 30,
     "metadata": {},
     "output_type": "execute_result"
    }
   ],
   "source": [
    "val arch = System.getProperty(\"os.arch\")"
   ]
  },
  {
   "cell_type": "code",
   "execution_count": 31,
   "metadata": {},
   "outputs": [
    {
     "data": {
      "text/plain": [
       "\u001b[36mblarg\u001b[39m: \u001b[32mString\u001b[39m = \u001b[32mnull\u001b[39m"
      ]
     },
     "execution_count": 31,
     "metadata": {},
     "output_type": "execute_result"
    }
   ],
   "source": [
    "val blarg = System.getProperty(\"blarg\")"
   ]
  },
  {
   "cell_type": "code",
   "execution_count": 32,
   "metadata": {},
   "outputs": [
    {
     "data": {
      "text/plain": [
       "defined \u001b[32mfunction\u001b[39m \u001b[36mgetProperty\u001b[39m"
      ]
     },
     "execution_count": 32,
     "metadata": {},
     "output_type": "execute_result"
    }
   ],
   "source": [
    "def getProperty(s: String): Option[String] = {\n",
    "    util.Try(System.getProperty(s)) match {\n",
    "        case util.Success(x) => Option(x)\n",
    "        case util.Failure(ex) => None\n",
    "    }\n",
    "}"
   ]
  },
  {
   "cell_type": "code",
   "execution_count": 33,
   "metadata": {},
   "outputs": [
    {
     "data": {
      "text/plain": [
       "\u001b[36mres32\u001b[39m: \u001b[32mOption\u001b[39m[\u001b[32mString\u001b[39m] = \u001b[32mNone\u001b[39m"
      ]
     },
     "execution_count": 33,
     "metadata": {},
     "output_type": "execute_result"
    }
   ],
   "source": [
    "getProperty(null)"
   ]
  },
  {
   "cell_type": "code",
   "execution_count": 34,
   "metadata": {},
   "outputs": [
    {
     "data": {
      "text/plain": [
       "\u001b[36mres33\u001b[39m: \u001b[32mOption\u001b[39m[\u001b[32mString\u001b[39m] = \u001b[33mSome\u001b[39m(\u001b[32m\"amd64\"\u001b[39m)"
      ]
     },
     "execution_count": 34,
     "metadata": {},
     "output_type": "execute_result"
    }
   ],
   "source": [
    "getProperty(\"os.arch\")"
   ]
  },
  {
   "cell_type": "code",
   "execution_count": 35,
   "metadata": {},
   "outputs": [
    {
     "data": {
      "text/plain": [
       "\u001b[36mres34\u001b[39m: \u001b[32mOption\u001b[39m[\u001b[32mString\u001b[39m] = \u001b[32mNone\u001b[39m"
      ]
     },
     "execution_count": 35,
     "metadata": {},
     "output_type": "execute_result"
    }
   ],
   "source": [
    "getProperty(\"blarg\")"
   ]
  },
  {
   "cell_type": "markdown",
   "metadata": {},
   "source": [
    "## 6"
   ]
  },
  {
   "cell_type": "code",
   "execution_count": 36,
   "metadata": {},
   "outputs": [
    {
     "data": {
      "text/plain": [
       "defined \u001b[32mfunction\u001b[39m \u001b[36mgithubRss\u001b[39m"
      ]
     },
     "execution_count": 36,
     "metadata": {},
     "output_type": "execute_result"
    }
   ],
   "source": [
    "def githubRss(user: String, repo: String, branch: String): String = {\n",
    "    val url = s\"https://github.com/$user/$repo/commits/$branch.atom\"\n",
    "    val lines = io.Source.fromURL(url).getLines.toList\n",
    "    val xml = lines.map(_.trim).mkString(\"\")\n",
    "    xml\n",
    "}"
   ]
  },
  {
   "cell_type": "code",
   "execution_count": 37,
   "metadata": {},
   "outputs": [
    {
     "data": {
      "text/plain": [
       "\u001b[36mxml\u001b[39m: \u001b[32mString\u001b[39m = \u001b[32m\"<?xml version=\\\"1.0\\\" encoding=\\\"UTF-8\\\"?><feed xmlns=\\\"http://www.w3.org/2005/Atom\\\" xmlns:media=\\\"http://search.yahoo.com/mrss/\\\" xml:lang=\\\"en-US\\\"><id>tag:github.com,2008:/slick/slick/commits/master</id><link type=\\\"text/html\\\" rel=\\\"alternate\\\" href=\\\"https://github.com/slick/slick/commits/master\\\"/><link type=\\\"application/atom+xml\\\" rel=\\\"self\\\" href=\\\"https://github.com/slick/slick/commits/master.atom\\\"/><title>Recent Commits to slick:master</title><updated>2020-02-13T19:56:25Z</updated><entry><id>tag:github.com,2008:Grit::Commit/eecc74fa1ba8e477e6fbd991b5b9bbb87b8f3918</id><link type=\\\"text/html\\\" rel=\\\"alternate\\\" href=\\\"https://github.com/slick/slick/commit/eecc74fa1ba8e477e6fbd991b5b9bbb87b8f3918\\\"/><title>Run OptionBooleanTest.testFilterWithOption test against all databases.</title><updated>2020-02-13T19:56:25Z</updated><media:thumbnail height=\\\"30\\\" width=\\\"30\\\" url=\\\"https://avatars3.githubusercontent.com/u/11091671?s=30&amp;v=4\\\"/><author><name>alexFrankfurt</name><uri>https://github.com/alexFrankfurt</uri></author><content type=\\\"html\\\">&lt;pre style=&#39;white-space:pre-wrap;width:81ex&#39;&gt;Run OptionBooleanTest.testFilterWithOption test against all databases.&lt;/pre&gt;</content></entry><entry><id>tag:github.com,2008:Grit::Commit/c456cda6b5b9f61e1130ac2eefd135376146aaa3</id><link type=\\\"text/html\\\" rel=\\\"alternate\\\" href=\\\"https://github.com/slick/slick/commit/c456cda6b5b9f61e1130ac2eefd135376146aaa3\\\"/><title>In oracle profile allow nullable fake boolean to play a role of condi\\u2026</title><updated>2020-02-13T19:56:25Z</updated><media:thumbnail height=\\\"30\\\" width=\\\"30\\\" url=\\\"https://avatars3.githubusercontent.com/u/11091671?s=30&amp;v=4\\\"/><author><name>alexFrankfurt</name><uri>https://github.com/alexFrankfurt</uri></author><content type=\\\"html\\\">&lt;pre style=&#39;white-space:pre-wrap;width:81ex&#39;&gt;In oracle profile allow nullable fake boolean to play a role of condition when suplied with default value through getOrElse.&lt;/pre&gt;</content></entry><entry><id>tag:github.com,2008:Grit::Commit/275237e7f4a32b51e5a0a06aa3f53a2d34a36596</id><link type=\\\"text/html\\\" rel=\\\"alternate\\\" href=\\\"https://github.com/slick/slick/commit/275237e7f4a32b51e5a0a06aa3f53a2d34a36596\\\"/><title>reduce sdkman cache, fixes #2087 (#2095)</title><updated>2020-02-12T09:48:52Z</updated><media:thumbnail height=\\\"30\\\" width=\\\"30\\\" url=\\\"https://avatars1.githubusercontent.com/u/102661?s=30&amp;u=4512ca62d54680646752187936c229d9aad80899&amp;v=4\\\"/><author><name>d6y</name><uri>https://github.com/d6y</uri></author><content type=\\\"html\\\">&lt;pre style=&#39;white-space:pre-wrap;width:81ex&#39;&gt;reduce sdkman cache, fixes #2087 (#2095)&lt;/pre&gt;</content></entry><entry><id>tag:github.com,2008:Grit::Commit/af8195056a75dc6e8bcef75d02df7ef69a241c91</id><link type=\\\"text/html\\\" rel=\\\"alternate\\\" href=\\\"https://github.com/slick/slick/commit/af8195056a75dc6e8bcef75d02df7ef69a241c91\\\"/><title>Merge pull request #2067 from TimMoore/patch-1</title><updated>2020-01-02T19:10:47Z</updated><media:thumbnail height=\\\"30\\\" width=\\\"30\\\" url=\\\"https://avatars1.githubusercontent.co\u001b[39m..."
      ]
     },
     "execution_count": 37,
     "metadata": {},
     "output_type": "execute_result"
    }
   ],
   "source": [
    "val xml = githubRss(\"slick\", \"slick\", \"master\")"
   ]
  },
  {
   "cell_type": "code",
   "execution_count": 38,
   "metadata": {},
   "outputs": [
    {
     "data": {
      "text/plain": [
       "defined \u001b[32mfunction\u001b[39m \u001b[36mxmlToEntryList\u001b[39m"
      ]
     },
     "execution_count": 38,
     "metadata": {},
     "output_type": "execute_result"
    }
   ],
   "source": [
    "def xmlToEntryList(xml: String) = xml.split(\"</?entry>\").filterNot(_.isEmpty).tail"
   ]
  },
  {
   "cell_type": "code",
   "execution_count": 39,
   "metadata": {},
   "outputs": [
    {
     "name": "stdout",
     "output_type": "stream",
     "text": [
      "Got 21 entries\n"
     ]
    },
    {
     "data": {
      "text/plain": [
       "\u001b[36mentries\u001b[39m: \u001b[32mArray\u001b[39m[\u001b[32mString\u001b[39m] = \u001b[33mArray\u001b[39m(\n",
       "  \u001b[32m\"<id>tag:github.com,2008:Grit::Commit/eecc74fa1ba8e477e6fbd991b5b9bbb87b8f3918</id><link type=\\\"text/html\\\" rel=\\\"alternate\\\" href=\\\"https://github.com/slick/slick/commit/eecc74fa1ba8e477e6fbd991b5b9bbb87b8f3918\\\"/><title>Run OptionBooleanTest.testFilterWithOption test against all databases.</title><updated>2020-02-13T19:56:25Z</updated><media:thumbnail height=\\\"30\\\" width=\\\"30\\\" url=\\\"https://avatars3.githubusercontent.com/u/11091671?s=30&amp;v=4\\\"/><author><name>alexFrankfurt</name><uri>https://github.com/alexFrankfurt</uri></author><content type=\\\"html\\\">&lt;pre style=&#39;white-space:pre-wrap;width:81ex&#39;&gt;Run OptionBooleanTest.testFilterWithOption test against all databases.&lt;/pre&gt;</content>\"\u001b[39m,\n",
       "  \u001b[32m\"<id>tag:github.com,2008:Grit::Commit/c456cda6b5b9f61e1130ac2eefd135376146aaa3</id><link type=\\\"text/html\\\" rel=\\\"alternate\\\" href=\\\"https://github.com/slick/slick/commit/c456cda6b5b9f61e1130ac2eefd135376146aaa3\\\"/><title>In oracle profile allow nullable fake boolean to play a role of condi\\u2026</title><updated>2020-02-13T19:56:25Z</updated><media:thumbnail height=\\\"30\\\" width=\\\"30\\\" url=\\\"https://avatars3.githubusercontent.com/u/11091671?s=30&amp;v=4\\\"/><author><name>alexFrankfurt</name><uri>https://github.com/alexFrankfurt</uri></author><content type=\\\"html\\\">&lt;pre style=&#39;white-space:pre-wrap;width:81ex&#39;&gt;In oracle profile allow nullable fake boolean to play a role of condition when suplied with default value through getOrElse.&lt;/pre&gt;</content>\"\u001b[39m,\n",
       "  \u001b[32m\"<id>tag:github.com,2008:Grit::Commit/275237e7f4a32b51e5a0a06aa3f53a2d34a36596</id><link type=\\\"text/html\\\" rel=\\\"alternate\\\" href=\\\"https://github.com/slick/slick/commit/275237e7f4a32b51e5a0a06aa3f53a2d34a36596\\\"/><title>reduce sdkman cache, fixes #2087 (#2095)</title><updated>2020-02-12T09:48:52Z</updated><media:thumbnail height=\\\"30\\\" width=\\\"30\\\" url=\\\"https://avatars1.githubusercontent.com/u/102661?s=30&amp;u=4512ca62d54680646752187936c229d9aad80899&amp;v=4\\\"/><author><name>d6y</name><uri>https://github.com/d6y</uri></author><content type=\\\"html\\\">&lt;pre style=&#39;white-space:pre-wrap;width:81ex&#39;&gt;reduce sdkman cache, fixes #2087 (#2095)&lt;/pre&gt;</content>\"\u001b[39m,\n",
       "  \u001b[32m\"<id>tag:github.com,2008:Grit::Commit/af8195056a75dc6e8bcef75d02df7ef69a241c91</id><link type=\\\"text/html\\\" rel=\\\"alternate\\\" href=\\\"https://github.com/slick/slick/commit/af8195056a75dc6e8bcef75d02df7ef69a241c91\\\"/><title>Merge pull request #2067 from TimMoore/patch-1</title><updated>2020-01-02T19:10:47Z</updated><media:thumbnail height=\\\"30\\\" width=\\\"30\\\" url=\\\"https://avatars1.githubusercontent.com/u/4576?s=30&amp;u=aed4410f0ca17049de01d84cb2636524993f86f6&amp;v=4\\\"/><author><name>marcospereira</name><uri>https://github.com/marcospereira</uri></author><content type=\\\"html\\\">&lt;pre style=&#39;white-space:pre-wrap;width:81ex&#39;&gt;Merge pull request #2067 from TimMoore/patch-1Link to Lightbend Community Code of Conduct&lt;/pre&gt;</content>\"\u001b[39m,\n",
       "..."
      ]
     },
     "execution_count": 39,
     "metadata": {},
     "output_type": "execute_result"
    }
   ],
   "source": [
    "val entries = xmlToEntryList(xml); println(s\"Got ${entries.size} entries\")"
   ]
  },
  {
   "cell_type": "code",
   "execution_count": 40,
   "metadata": {},
   "outputs": [
    {
     "data": {
      "text/plain": [
       "defined \u001b[32mfunction\u001b[39m \u001b[36mchild\u001b[39m"
      ]
     },
     "execution_count": 40,
     "metadata": {},
     "output_type": "execute_result"
    }
   ],
   "source": [
    "def child(xml: String, name: String): Option[String] = {\n",
    "   val p = s\".*<$name>(.*)</$name>.*\".r\n",
    "   xml match {\n",
    "     case p(result) => Option(result)\n",
    "     case _ => None\n",
    "   }\n",
    " }"
   ]
  },
  {
   "cell_type": "code",
   "execution_count": 41,
   "metadata": {},
   "outputs": [
    {
     "data": {
      "text/plain": [
       "\u001b[36mfirstTitle\u001b[39m: \u001b[32mOption\u001b[39m[\u001b[32mString\u001b[39m] = \u001b[33mSome\u001b[39m(\n",
       "  \u001b[32m\"Run OptionBooleanTest.testFilterWithOption test against all databases.\"\u001b[39m\n",
       ")"
      ]
     },
     "execution_count": 41,
     "metadata": {},
     "output_type": "execute_result"
    }
   ],
   "source": [
    "val firstTitle = child(entries(0), \"title\")"
   ]
  },
  {
   "cell_type": "code",
   "execution_count": 42,
   "metadata": {},
   "outputs": [
    {
     "data": {
      "text/plain": [
       "defined \u001b[32mfunction\u001b[39m \u001b[36mreport\u001b[39m"
      ]
     },
     "execution_count": 42,
     "metadata": {},
     "output_type": "execute_result"
    }
   ],
   "source": [
    "def report(entryXml: String): Option[String] = {\n",
    "    for {\n",
    "        title <- child(entryXml, \"title\")\n",
    "        date <- child(entryXml, \"updated\").map(_.replaceAll(\"T.*\",\"\"))\n",
    "        author <- child(entryXml, \"name\")\n",
    "    }\n",
    "    yield s\"title:  $title\\ndate:   $date\\nauthor: $author\"\n",
    "}"
   ]
  },
  {
   "cell_type": "code",
   "execution_count": 43,
   "metadata": {},
   "outputs": [
    {
     "data": {
      "text/plain": [
       "\u001b[36mfirstReport\u001b[39m: \u001b[32mOption\u001b[39m[\u001b[32mString\u001b[39m] = \u001b[33mSome\u001b[39m(\n",
       "  \u001b[32m\"\"\"title:  Run OptionBooleanTest.testFilterWithOption test against all databases.\n",
       "date:   2020-02-13\n",
       "author: alexFrankfurt\"\"\"\u001b[39m\n",
       ")"
      ]
     },
     "execution_count": 43,
     "metadata": {},
     "output_type": "execute_result"
    }
   ],
   "source": [
    "val firstReport = report(entries(0))"
   ]
  },
  {
   "cell_type": "code",
   "execution_count": 44,
   "metadata": {},
   "outputs": [
    {
     "data": {
      "text/plain": [
       "defined \u001b[32mfunction\u001b[39m \u001b[36mgetGithubReport\u001b[39m"
      ]
     },
     "execution_count": 44,
     "metadata": {},
     "output_type": "execute_result"
    }
   ],
   "source": [
    "def getGithubReport(user: String, repo: String, branch: String): String = {\n",
    "   val xml = githubRss(user, repo, branch)\n",
    "   val entries = xmlToEntryList(xml).toList\n",
    "   val formattedEntries = entries flatMap report\n",
    "   val title = s\"Github commit activity for $repo:$branch\"\n",
    "   title :: formattedEntries mkString (\"\\n\" + \"=\" * 80 + \"\\n\")\n",
    "}"
   ]
  },
  {
   "cell_type": "code",
   "execution_count": 45,
   "metadata": {},
   "outputs": [
    {
     "data": {
      "text/plain": [
       "\u001b[36mslickReport\u001b[39m: \u001b[32mString\u001b[39m = \u001b[32m\"\"\"Github commit activity for slick:master\n",
       "================================================================================\n",
       "title:  Run OptionBooleanTest.testFilterWithOption test against all databases.\n",
       "date:   2020-02-13\n",
       "author: alexFrankfurt\n",
       "================================================================================\n",
       "title:  In oracle profile allow nullable fake boolean to play a role of condi…\n",
       "date:   2020-02-13\n",
       "author: alexFrankfurt\n",
       "================================================================================\n",
       "title:  reduce sdkman cache, fixes #2087 (#2095)\n",
       "date:   2020-02-12\n",
       "author: d6y\n",
       "================================================================================\n",
       "title:  Merge pull request #2067 from TimMoore/patch-1\n",
       "date:   2020-01-02\n",
       "author: marcospereira\n",
       "================================================================================\n",
       "title:  Merge pull request #2077 from xuwei-k/remove-asInstanceOf\n",
       "date:   2020-01-02\n",
       "author: marcospereira\n",
       "================================================================================\n",
       "title:  Merge pull request #2073 from WellingR/feature/test-with-jdk-13\n",
       "date:   2020-01-02\n",
       "author: marcospereira\n",
       "================================================================================\n",
       "title:  Merge pull request #2072 from sullis/scala-2.13.1\n",
       "date:   2020-01-02\n",
       "author: marcospereira\n",
       "================================================================================\n",
       "title:  typo fixed (#2062)\n",
       "date:   2019-12-03\n",
       "author: ikr0m\n",
       "================================================================================\n",
       "title:  typo fix: &quot;There cases&quot; → &quot;There are cases&quot; (#2068)\n",
       "date:   2019-12-03\n",
       "author: tymofij\n",
       "================================================================================\n",
       "title:  Fixing typo (#2075)\n",
       "\u001b[39m..."
      ]
     },
     "execution_count": 45,
     "metadata": {},
     "output_type": "execute_result"
    }
   ],
   "source": [
    " val slickReport = getGithubReport(\"slick\", \"slick\", \"master\")"
   ]
  },
  {
   "cell_type": "markdown",
   "metadata": {},
   "source": [
    "### a"
   ]
  },
  {
   "cell_type": "code",
   "execution_count": 46,
   "metadata": {},
   "outputs": [
    {
     "data": {
      "text/plain": [
       "defined \u001b[32mfunction\u001b[39m \u001b[36mgetGithubReport\u001b[39m"
      ]
     },
     "execution_count": 46,
     "metadata": {},
     "output_type": "execute_result"
    }
   ],
   "source": [
    "def getGithubReport(urb: (String,String,String)): String = {\n",
    "   val xml = githubRss(urb._1, urb._2, urb._3)\n",
    "   val entries = xmlToEntryList(xml).toList\n",
    "   val formattedEntries = entries flatMap report\n",
    "   val title = s\"Github commit activity for ${urb._2}:${urb._3}\"\n",
    "   title :: formattedEntries mkString (\"\\n\" + \"=\" * 80 + \"\\n\")\n",
    " }"
   ]
  },
  {
   "cell_type": "markdown",
   "metadata": {},
   "source": [
    "### b"
   ]
  },
  {
   "cell_type": "code",
   "execution_count": 47,
   "metadata": {},
   "outputs": [
    {
     "data": {
      "text/plain": [
       "defined \u001b[32mfunction\u001b[39m \u001b[36mgetGithubReports\u001b[39m"
      ]
     },
     "execution_count": 47,
     "metadata": {},
     "output_type": "execute_result"
    }
   ],
   "source": [
    "def getGithubReports(urbs: List[(String,String,String)]) = urbs map getGithubReport"
   ]
  },
  {
   "cell_type": "code",
   "execution_count": 48,
   "metadata": {},
   "outputs": [
    {
     "data": {
      "text/plain": [
       "\u001b[36mslickUrb\u001b[39m: (\u001b[32mString\u001b[39m, \u001b[32mString\u001b[39m, \u001b[32mString\u001b[39m) = (\u001b[32m\"slick\"\u001b[39m, \u001b[32m\"slick\"\u001b[39m, \u001b[32m\"master\"\u001b[39m)"
      ]
     },
     "execution_count": 48,
     "metadata": {},
     "output_type": "execute_result"
    }
   ],
   "source": [
    "val slickUrb = (\"slick\",\"slick\",\"master\")"
   ]
  },
  {
   "cell_type": "code",
   "execution_count": 49,
   "metadata": {},
   "outputs": [
    {
     "data": {
      "text/plain": [
       "\u001b[36makkaUrb\u001b[39m: (\u001b[32mString\u001b[39m, \u001b[32mString\u001b[39m, \u001b[32mString\u001b[39m) = (\u001b[32m\"akka\"\u001b[39m, \u001b[32m\"akka\"\u001b[39m, \u001b[32m\"master\"\u001b[39m)"
      ]
     },
     "execution_count": 49,
     "metadata": {},
     "output_type": "execute_result"
    }
   ],
   "source": [
    "val akkaUrb = (\"akka\",\"akka\",\"master\")"
   ]
  },
  {
   "cell_type": "code",
   "execution_count": 50,
   "metadata": {},
   "outputs": [
    {
     "data": {
      "text/plain": [
       "\u001b[36mscalaUrb\u001b[39m: (\u001b[32mString\u001b[39m, \u001b[32mString\u001b[39m, \u001b[32mString\u001b[39m) = (\u001b[32m\"scala\"\u001b[39m, \u001b[32m\"scala\"\u001b[39m, \u001b[32m\"2.11.x\"\u001b[39m)"
      ]
     },
     "execution_count": 50,
     "metadata": {},
     "output_type": "execute_result"
    }
   ],
   "source": [
    "val scalaUrb = (\"scala\",\"scala\",\"2.11.x\")"
   ]
  },
  {
   "cell_type": "code",
   "execution_count": 51,
   "metadata": {},
   "outputs": [
    {
     "data": {
      "text/plain": [
       "\u001b[36mscalazUrb\u001b[39m: (\u001b[32mString\u001b[39m, \u001b[32mString\u001b[39m, \u001b[32mString\u001b[39m) = (\u001b[32m\"scalaz\"\u001b[39m, \u001b[32m\"scalaz\"\u001b[39m, \u001b[32m\"series/7.2.x\"\u001b[39m)"
      ]
     },
     "execution_count": 51,
     "metadata": {},
     "output_type": "execute_result"
    }
   ],
   "source": [
    "val scalazUrb = (\"scalaz\",\"scalaz\",\"series/7.2.x\")"
   ]
  },
  {
   "cell_type": "code",
   "execution_count": 52,
   "metadata": {},
   "outputs": [
    {
     "name": "stdout",
     "output_type": "stream",
     "text": [
      "List(Github commit activity for akka:master\n",
      "================================================================================\n",
      "title:  Merge pull request #29089 from chbatey/issue-29060\n",
      "date:   2020-05-18\n",
      "author: patriknw\n",
      "================================================================================\n",
      "title:  Fix grammer error in cluster-concepts\n",
      "date:   2020-05-18\n",
      "author: chbatey\n",
      "================================================================================\n",
      "title:  Don&#39;t set fields of actor / actorcell using reflection (#27614)\n",
      "date:   2020-05-18\n",
      "author: jrudolph\n",
      "================================================================================\n",
      "title:  Use new TLS algorithm defaults in remoting tests (#29074)\n",
      "date:   2020-05-18\n",
      "author: ignasi35\n",
      "================================================================================\n",
      "title:  Adds support to read PEM keys (#29039)\n",
      "date:   2020-05-16\n",
      "author: ignasi35\n",
      "================================================================================\n",
      "title:  Docs for lazy stream operators (#28897)\n",
      "date:   2020-05-15\n",
      "author: johanandren\n",
      "================================================================================\n",
      "title:  Merge pull request #29070 from ennru/log-capture-init\n",
      "date:   2020-05-14\n",
      "author: patriknw\n",
      "================================================================================\n",
      "title:  Typed testkit: log capture logger initalisation\n",
      "date:   2020-05-14\n",
      "author: ennru\n",
      "================================================================================\n",
      "title:  Replace LazyFlow with FutureFlow (#28729)\n",
      "date:   2020-05-14\n",
      "author: eyalfa\n",
      "================================================================================\n",
      "title:  Allow taking a stream snapshot of a stream that uses TLS (#29047)\n",
      "date:   2020-05-13\n",
      "author: raboof\n",
      "================================================================================\n",
      "title:  Merge pull request #29049 from ignasi35/bump-algorithm-defaults\n",
      "date:   2020-05-12\n",
      "author: ignasi35\n",
      "================================================================================\n",
      "title:  Additional testing of duplicated extensions (#29013)\n",
      "date:   2020-05-12\n",
      "author: patriknw\n",
      "================================================================================\n",
      "title:  Reviews tests asserting default values\n",
      "date:   2020-05-11\n",
      "author: ignasi35\n",
      "================================================================================\n",
      "title:  =build Fix commandAlias for fixall and sortImports (#28984)\n",
      "date:   2020-05-11\n",
      "author: hepin1989\n",
      "================================================================================\n",
      "title:  cancellable var -&gt; private val (#29041)\n",
      "date:   2020-05-11\n",
      "author: YikSanChan\n",
      "================================================================================\n",
      "title:  Review defaults for TLS algorithms defaults\n",
      "date:   2020-05-08\n",
      "author: ignasi35\n",
      "================================================================================\n",
      "title:  Cleanup reference to TLS1.3 (#29048)\n",
      "date:   2020-05-08\n",
      "author: ignasi35\n",
      "================================================================================\n",
      "title:  Merge pull request #29032 from ignasi35/remove-signature-directive\n",
      "date:   2020-05-08\n",
      "author: ignasi35\n",
      "================================================================================\n",
      "title:  Clarification about receptionist subscription (#29046)\n",
      "date:   2020-05-08\n",
      "author: johanandren\n",
      "================================================================================\n",
      "title:  Merge pull request #29014 from akka/wip-protobuf-3.11-patriknw\n",
      "date:   2020-05-08\n",
      "author: patriknw, Github commit activity for slick:master\n",
      "================================================================================\n",
      "title:  Run OptionBooleanTest.testFilterWithOption test against all databases.\n",
      "date:   2020-02-13\n",
      "author: alexFrankfurt\n",
      "================================================================================\n",
      "title:  In oracle profile allow nullable fake boolean to play a role of condi…\n",
      "date:   2020-02-13\n",
      "author: alexFrankfurt\n",
      "================================================================================\n",
      "title:  reduce sdkman cache, fixes #2087 (#2095)\n",
      "date:   2020-02-12\n",
      "author: d6y\n",
      "================================================================================\n",
      "title:  Merge pull request #2067 from TimMoore/patch-1\n",
      "date:   2020-01-02\n",
      "author: marcospereira\n",
      "================================================================================\n",
      "title:  Merge pull request #2077 from xuwei-k/remove-asInstanceOf\n",
      "date:   2020-01-02\n",
      "author: marcospereira\n",
      "================================================================================\n",
      "title:  Merge pull request #2073 from WellingR/feature/test-with-jdk-13\n",
      "date:   2020-01-02\n",
      "author: marcospereira\n",
      "================================================================================\n",
      "title:  Merge pull request #2072 from sullis/scala-2.13.1\n",
      "date:   2020-01-02\n",
      "author: marcospereira\n",
      "================================================================================\n",
      "title:  typo fixed (#2062)\n",
      "date:   2019-12-03\n",
      "author: ikr0m\n",
      "================================================================================\n",
      "title:  typo fix: &quot;There cases&quot; → &quot;There are cases&quot; (#2068)\n",
      "date:   2019-12-03\n",
      "author: tymofij\n",
      "================================================================================\n",
      "title:  Fixing typo (#2075)\n",
      "date:   2019-12-03\n",
      "author: paulosman\n",
      "================================================================================\n",
      "title:  Fix link to code generator api documentation (#2086)\n",
      "date:   2019-12-03\n",
      "author: michih57\n",
      "================================================================================\n",
      "title:  remove unnecessary asInstanceOf\n",
      "date:   2019-10-08\n",
      "author: xuwei-k\n",
      "================================================================================\n",
      "title:  Swap JDK 12 for JDK 13 now that java 12 is EOL\n",
      "date:   2019-09-29\n",
      "author: WellingR\n",
      "================================================================================\n",
      "title:  Scala 2.13.1\n",
      "date:   2019-09-22\n",
      "author: sullis\n",
      "================================================================================\n",
      "title:  Link to Lightbend Community Code of Conduct\n",
      "date:   2019-09-03\n",
      "author: \n",
      "================================================================================\n",
      "title:  Merge pull request #2060 from TimMoore/scala-2.12.9\n",
      "date:   2019-08-09\n",
      "author: szeiger\n",
      "================================================================================\n",
      "title:  Update Scala 2.12 to 2.12.9\n",
      "date:   2019-08-08\n",
      "author: \n",
      "================================================================================\n",
      "title:  Merge pull request #2050 from eed3si9n/wip/adoptopenjdk\n",
      "date:   2019-08-08\n",
      "author: szeiger\n",
      "================================================================================\n",
      "title:  Install Java then run Docker\n",
      "date:   2019-08-07\n",
      "author: eed3si9n\n",
      "================================================================================\n",
      "title:  Use AdoptOpenJDK JDK 8 and 11\n",
      "date:   2019-08-07\n",
      "author: eed3si9n)\n"
     ]
    }
   ],
   "source": [
    " println( getGithubReports(List(akkaUrb,slickUrb)) )"
   ]
  },
  {
   "cell_type": "code",
   "execution_count": 53,
   "metadata": {},
   "outputs": [
    {
     "data": {
      "text/plain": [
       "defined \u001b[32mfunction\u001b[39m \u001b[36mgetGithubCommitReports\u001b[39m"
      ]
     },
     "execution_count": 53,
     "metadata": {},
     "output_type": "execute_result"
    }
   ],
   "source": [
    "def getGithubCommitReports(urb: (String,String,String)): List[String] = {\n",
    "   val xml = githubRss(urb._1, urb._2, urb._3)\n",
    "   val entries = xmlToEntryList(xml).toList\n",
    "   val branchInfo = s\"branch: ${urb._2}:${urb._3}\\n\"\n",
    "   entries flatMap report map (branchInfo + _)\n",
    " }"
   ]
  },
  {
   "cell_type": "code",
   "execution_count": 54,
   "metadata": {},
   "outputs": [
    {
     "data": {
      "text/plain": [
       "defined \u001b[32mfunction\u001b[39m \u001b[36mgetGithubReports\u001b[39m"
      ]
     },
     "execution_count": 54,
     "metadata": {},
     "output_type": "execute_result"
    }
   ],
   "source": [
    " def getGithubReports(urbs: List[(String,String,String)]): String = {\n",
    "   val commits = urbs flatMap getGithubCommitReports\n",
    "   val separator = \"\\n\" + \"=\"*60 + \"\\n\"\n",
    "   val title = s\"Github activity for ${urbs map (_._1) mkString (\", \")} repos\"\n",
    "   title :: commits mkString separator\n",
    " }"
   ]
  },
  {
   "cell_type": "code",
   "execution_count": 55,
   "metadata": {},
   "outputs": [
    {
     "name": "stdout",
     "output_type": "stream",
     "text": [
      "Github activity for akka, slick repos\n",
      "============================================================\n",
      "branch: akka:master\n",
      "title:  Merge pull request #29089 from chbatey/issue-29060\n",
      "date:   2020-05-18\n",
      "author: patriknw\n",
      "============================================================\n",
      "branch: akka:master\n",
      "title:  Fix grammer error in cluster-concepts\n",
      "date:   2020-05-18\n",
      "author: chbatey\n",
      "============================================================\n",
      "branch: akka:master\n",
      "title:  Don&#39;t set fields of actor / actorcell using reflection (#27614)\n",
      "date:   2020-05-18\n",
      "author: jrudolph\n",
      "============================================================\n",
      "branch: akka:master\n",
      "title:  Use new TLS algorithm defaults in remoting tests (#29074)\n",
      "date:   2020-05-18\n",
      "author: ignasi35\n",
      "============================================================\n",
      "branch: akka:master\n",
      "title:  Adds support to read PEM keys (#29039)\n",
      "date:   2020-05-16\n",
      "author: ignasi35\n",
      "============================================================\n",
      "branch: akka:master\n",
      "title:  Docs for lazy stream operators (#28897)\n",
      "date:   2020-05-15\n",
      "author: johanandren\n",
      "============================================================\n",
      "branch: akka:master\n",
      "title:  Merge pull request #29070 from ennru/log-capture-init\n",
      "date:   2020-05-14\n",
      "author: patriknw\n",
      "============================================================\n",
      "branch: akka:master\n",
      "title:  Typed testkit: log capture logger initalisation\n",
      "date:   2020-05-14\n",
      "author: ennru\n",
      "============================================================\n",
      "branch: akka:master\n",
      "title:  Replace LazyFlow with FutureFlow (#28729)\n",
      "date:   2020-05-14\n",
      "author: eyalfa\n",
      "============================================================\n",
      "branch: akka:master\n",
      "title:  Allow taking a stream snapshot of a stream that uses TLS (#29047)\n",
      "date:   2020-05-13\n",
      "author: raboof\n",
      "============================================================\n",
      "branch: akka:master\n",
      "title:  Merge pull request #29049 from ignasi35/bump-algorithm-defaults\n",
      "date:   2020-05-12\n",
      "author: ignasi35\n",
      "============================================================\n",
      "branch: akka:master\n",
      "title:  Additional testing of duplicated extensions (#29013)\n",
      "date:   2020-05-12\n",
      "author: patriknw\n",
      "============================================================\n",
      "branch: akka:master\n",
      "title:  Reviews tests asserting default values\n",
      "date:   2020-05-11\n",
      "author: ignasi35\n",
      "============================================================\n",
      "branch: akka:master\n",
      "title:  =build Fix commandAlias for fixall and sortImports (#28984)\n",
      "date:   2020-05-11\n",
      "author: hepin1989\n",
      "============================================================\n",
      "branch: akka:master\n",
      "title:  cancellable var -&gt; private val (#29041)\n",
      "date:   2020-05-11\n",
      "author: YikSanChan\n",
      "============================================================\n",
      "branch: akka:master\n",
      "title:  Review defaults for TLS algorithms defaults\n",
      "date:   2020-05-08\n",
      "author: ignasi35\n",
      "============================================================\n",
      "branch: akka:master\n",
      "title:  Cleanup reference to TLS1.3 (#29048)\n",
      "date:   2020-05-08\n",
      "author: ignasi35\n",
      "============================================================\n",
      "branch: akka:master\n",
      "title:  Merge pull request #29032 from ignasi35/remove-signature-directive\n",
      "date:   2020-05-08\n",
      "author: ignasi35\n",
      "============================================================\n",
      "branch: akka:master\n",
      "title:  Clarification about receptionist subscription (#29046)\n",
      "date:   2020-05-08\n",
      "author: johanandren\n",
      "============================================================\n",
      "branch: akka:master\n",
      "title:  Merge pull request #29014 from akka/wip-protobuf-3.11-patriknw\n",
      "date:   2020-05-08\n",
      "author: patriknw\n",
      "============================================================\n",
      "branch: slick:master\n",
      "title:  Run OptionBooleanTest.testFilterWithOption test against all databases.\n",
      "date:   2020-02-13\n",
      "author: alexFrankfurt\n",
      "============================================================\n",
      "branch: slick:master\n",
      "title:  In oracle profile allow nullable fake boolean to play a role of condi…\n",
      "date:   2020-02-13\n",
      "author: alexFrankfurt\n",
      "============================================================\n",
      "branch: slick:master\n",
      "title:  reduce sdkman cache, fixes #2087 (#2095)\n",
      "date:   2020-02-12\n",
      "author: d6y\n",
      "============================================================\n",
      "branch: slick:master\n",
      "title:  Merge pull request #2067 from TimMoore/patch-1\n",
      "date:   2020-01-02\n",
      "author: marcospereira\n",
      "============================================================\n",
      "branch: slick:master\n",
      "title:  Merge pull request #2077 from xuwei-k/remove-asInstanceOf\n",
      "date:   2020-01-02\n",
      "author: marcospereira\n",
      "============================================================\n",
      "branch: slick:master\n",
      "title:  Merge pull request #2073 from WellingR/feature/test-with-jdk-13\n",
      "date:   2020-01-02\n",
      "author: marcospereira\n",
      "============================================================\n",
      "branch: slick:master\n",
      "title:  Merge pull request #2072 from sullis/scala-2.13.1\n",
      "date:   2020-01-02\n",
      "author: marcospereira\n",
      "============================================================\n",
      "branch: slick:master\n",
      "title:  typo fixed (#2062)\n",
      "date:   2019-12-03\n",
      "author: ikr0m\n",
      "============================================================\n",
      "branch: slick:master\n",
      "title:  typo fix: &quot;There cases&quot; → &quot;There are cases&quot; (#2068)\n",
      "date:   2019-12-03\n",
      "author: tymofij\n",
      "============================================================\n",
      "branch: slick:master\n",
      "title:  Fixing typo (#2075)\n",
      "date:   2019-12-03\n",
      "author: paulosman\n",
      "============================================================\n",
      "branch: slick:master\n",
      "title:  Fix link to code generator api documentation (#2086)\n",
      "date:   2019-12-03\n",
      "author: michih57\n",
      "============================================================\n",
      "branch: slick:master\n",
      "title:  remove unnecessary asInstanceOf\n",
      "date:   2019-10-08\n",
      "author: xuwei-k\n",
      "============================================================\n",
      "branch: slick:master\n",
      "title:  Swap JDK 12 for JDK 13 now that java 12 is EOL\n",
      "date:   2019-09-29\n",
      "author: WellingR\n",
      "============================================================\n",
      "branch: slick:master\n",
      "title:  Scala 2.13.1\n",
      "date:   2019-09-22\n",
      "author: sullis\n",
      "============================================================\n",
      "branch: slick:master\n",
      "title:  Link to Lightbend Community Code of Conduct\n",
      "date:   2019-09-03\n",
      "author: \n",
      "============================================================\n",
      "branch: slick:master\n",
      "title:  Merge pull request #2060 from TimMoore/scala-2.12.9\n",
      "date:   2019-08-09\n",
      "author: szeiger\n",
      "============================================================\n",
      "branch: slick:master\n",
      "title:  Update Scala 2.12 to 2.12.9\n",
      "date:   2019-08-08\n",
      "author: \n",
      "============================================================\n",
      "branch: slick:master\n",
      "title:  Merge pull request #2050 from eed3si9n/wip/adoptopenjdk\n",
      "date:   2019-08-08\n",
      "author: szeiger\n",
      "============================================================\n",
      "branch: slick:master\n",
      "title:  Install Java then run Docker\n",
      "date:   2019-08-07\n",
      "author: eed3si9n\n",
      "============================================================\n",
      "branch: slick:master\n",
      "title:  Use AdoptOpenJDK JDK 8 and 11\n",
      "date:   2019-08-07\n",
      "author: eed3si9n\n"
     ]
    }
   ],
   "source": [
    "println( getGithubReports(List(akkaUrb,slickUrb)) )"
   ]
  },
  {
   "cell_type": "markdown",
   "metadata": {},
   "source": [
    "### c"
   ]
  },
  {
   "cell_type": "code",
   "execution_count": 56,
   "metadata": {},
   "outputs": [
    {
     "data": {
      "text/plain": [
       "defined \u001b[32mfunction\u001b[39m \u001b[36mgetGithubReports\u001b[39m"
      ]
     },
     "execution_count": 56,
     "metadata": {},
     "output_type": "execute_result"
    }
   ],
   "source": [
    "def getGithubReports(urbs: List[(String,String,String)]): String = {\n",
    "    val commits = List.newBuilder[String]\n",
    "     \n",
    "     import concurrent.ExecutionContext.Implicits.global\n",
    "        val futures = urbs map { urb =>\n",
    "          concurrent.Future { commits ++= getGithubCommitReports(urb) }\n",
    "        }\n",
    "        val future = concurrent.Future.sequence(futures)\n",
    "             import concurrent.duration._\n",
    "        concurrent.Await.result(future, Duration(5, SECONDS))\n",
    "     \n",
    "        val separator = \"\\n\" + \"=\"*60 + \"\\n\"\n",
    "        val title = s\"Github activity for ${urbs map (_._1) mkString (\", \")} repos\"\n",
    "        (title :: commits.result) mkString separator\n",
    "      }"
   ]
  },
  {
   "cell_type": "markdown",
   "metadata": {},
   "source": [
    "### d"
   ]
  },
  {
   "cell_type": "code",
   "execution_count": 57,
   "metadata": {},
   "outputs": [
    {
     "data": {
      "text/plain": [
       "defined \u001b[32mfunction\u001b[39m \u001b[36mgetGithubReports\u001b[39m"
      ]
     },
     "execution_count": 57,
     "metadata": {},
     "output_type": "execute_result"
    }
   ],
   "source": [
    "def getGithubReports(urbs: List[(String,String,String)]): String = {\n",
    "        val commits = List.newBuilder[String]\n",
    "     \n",
    "        import concurrent.ExecutionContext.Implicits.global\n",
    "        val futures = urbs map { urb =>\n",
    "          concurrent.Future { commits ++= getGithubCommitReports(urb) }\n",
    "       }\n",
    "        val future = concurrent.Future.sequence(futures)\n",
    "     \n",
    "        import concurrent.duration._\n",
    "        concurrent.Await.result(future, Duration(5, SECONDS))\n",
    "     \n",
    "        val separator = \"\\n\" + \"=\"*60 + \"\\n\"\n",
    "        val title = s\"Github activity for ${urbs map (_._1) mkString (\", \")} repos\"\n",
    "     \n",
    "        val sortedCommits = commits.result.sortBy { c =>\n",
    "          c.replaceAll(\"(?s).*date:   \",\"\").replaceAll(\"(?s)\\\\s.*\",\"\")\n",
    "        }.reverse\n",
    "     \n",
    "        (title :: sortedCommits) mkString separator\n",
    "      }"
   ]
  },
  {
   "cell_type": "code",
   "execution_count": null,
   "metadata": {},
   "outputs": [],
   "source": []
  }
 ],
 "metadata": {
  "kernelspec": {
   "display_name": "Scala",
   "language": "scala",
   "name": "scala"
  },
  "language_info": {
   "codemirror_mode": "text/x-scala",
   "file_extension": ".scala",
   "mimetype": "text/x-scala",
   "name": "scala",
   "nbconvert_exporter": "script",
   "version": "2.12.10"
  }
 },
 "nbformat": 4,
 "nbformat_minor": 4
}
