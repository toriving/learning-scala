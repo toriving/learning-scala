{
 "cells": [
  {
   "cell_type": "markdown",
   "metadata": {},
   "source": [
    "# Chapter 7.  Exercises\n",
    "## 1"
   ]
  },
  {
   "cell_type": "markdown",
   "metadata": {},
   "source": [
    "a"
   ]
  },
  {
   "cell_type": "code",
   "execution_count": 1,
   "metadata": {},
   "outputs": [
    {
     "data": {
      "text/plain": [
       "defined \u001b[32mfunction\u001b[39m \u001b[36mfibo\u001b[39m"
      ]
     },
     "execution_count": 1,
     "metadata": {},
     "output_type": "execute_result"
    }
   ],
   "source": [
    "def fibo(n: Int): List[Int] = {\n",
    "    val b = List(1, 1).toBuffer\n",
    "    while (b.size < n) b += b.takeRight(2).sum\n",
    "    b.toList\n",
    "}"
   ]
  },
  {
   "cell_type": "code",
   "execution_count": 2,
   "metadata": {},
   "outputs": [
    {
     "data": {
      "text/plain": [
       "\u001b[36mf\u001b[39m: \u001b[32mList\u001b[39m[\u001b[32mInt\u001b[39m] = \u001b[33mList\u001b[39m(\u001b[32m1\u001b[39m, \u001b[32m1\u001b[39m, \u001b[32m2\u001b[39m, \u001b[32m3\u001b[39m, \u001b[32m5\u001b[39m, \u001b[32m8\u001b[39m, \u001b[32m13\u001b[39m, \u001b[32m21\u001b[39m, \u001b[32m34\u001b[39m, \u001b[32m55\u001b[39m, \u001b[32m89\u001b[39m, \u001b[32m144\u001b[39m)"
      ]
     },
     "execution_count": 2,
     "metadata": {},
     "output_type": "execute_result"
    }
   ],
   "source": [
    "val f = fibo(12)"
   ]
  },
  {
   "cell_type": "markdown",
   "metadata": {},
   "source": [
    "b"
   ]
  },
  {
   "cell_type": "code",
   "execution_count": 3,
   "metadata": {},
   "outputs": [
    {
     "data": {
      "text/plain": [
       "defined \u001b[32mfunction\u001b[39m \u001b[36mfibo2\u001b[39m"
      ]
     },
     "execution_count": 3,
     "metadata": {},
     "output_type": "execute_result"
    }
   ],
   "source": [
    "def fibo2(l: List[Int], n:Int): List[Int] = {\n",
    "    val b = l.toBuffer\n",
    "    for (i <- 1 to n) b += b.takeRight(2).sum\n",
    "    b.toList\n",
    "}"
   ]
  },
  {
   "cell_type": "code",
   "execution_count": 4,
   "metadata": {},
   "outputs": [
    {
     "data": {
      "text/plain": [
       "\u001b[36mf2\u001b[39m: \u001b[32mList\u001b[39m[\u001b[32mInt\u001b[39m] = \u001b[33mList\u001b[39m(\u001b[32m1\u001b[39m, \u001b[32m1\u001b[39m, \u001b[32m2\u001b[39m, \u001b[32m3\u001b[39m, \u001b[32m5\u001b[39m, \u001b[32m8\u001b[39m, \u001b[32m13\u001b[39m, \u001b[32m21\u001b[39m, \u001b[32m34\u001b[39m, \u001b[32m55\u001b[39m, \u001b[32m89\u001b[39m, \u001b[32m144\u001b[39m, \u001b[32m233\u001b[39m, \u001b[32m377\u001b[39m)"
      ]
     },
     "execution_count": 4,
     "metadata": {},
     "output_type": "execute_result"
    }
   ],
   "source": [
    "val f2 = fibo2(List(1,1,2,3), 10)"
   ]
  },
  {
   "cell_type": "markdown",
   "metadata": {},
   "source": [
    "c"
   ]
  },
  {
   "cell_type": "code",
   "execution_count": 5,
   "metadata": {},
   "outputs": [
    {
     "data": {
      "text/plain": [
       "defined \u001b[32mfunction\u001b[39m \u001b[36mfibo3\u001b[39m"
      ]
     },
     "execution_count": 5,
     "metadata": {},
     "output_type": "execute_result"
    }
   ],
   "source": [
    "def fibo3(t: Int, n: Int): Stream[Int] = t #:: fibo3(n, t+n)"
   ]
  },
  {
   "cell_type": "code",
   "execution_count": 6,
   "metadata": {},
   "outputs": [
    {
     "data": {
      "text/plain": [
       "\u001b[36mf3\u001b[39m: \u001b[32mList\u001b[39m[\u001b[32mInt\u001b[39m] = \u001b[33mList\u001b[39m(\n",
       "  \u001b[32m1\u001b[39m,\n",
       "  \u001b[32m1\u001b[39m,\n",
       "  \u001b[32m2\u001b[39m,\n",
       "  \u001b[32m3\u001b[39m,\n",
       "  \u001b[32m5\u001b[39m,\n",
       "  \u001b[32m8\u001b[39m,\n",
       "  \u001b[32m13\u001b[39m,\n",
       "  \u001b[32m21\u001b[39m,\n",
       "  \u001b[32m34\u001b[39m,\n",
       "  \u001b[32m55\u001b[39m,\n",
       "  \u001b[32m89\u001b[39m,\n",
       "  \u001b[32m144\u001b[39m,\n",
       "  \u001b[32m233\u001b[39m,\n",
       "  \u001b[32m377\u001b[39m,\n",
       "  \u001b[32m610\u001b[39m,\n",
       "  \u001b[32m987\u001b[39m,\n",
       "  \u001b[32m1597\u001b[39m,\n",
       "  \u001b[32m2584\u001b[39m,\n",
       "  \u001b[32m4181\u001b[39m,\n",
       "  \u001b[32m6765\u001b[39m,\n",
       "  \u001b[32m10946\u001b[39m,\n",
       "  \u001b[32m17711\u001b[39m,\n",
       "  \u001b[32m28657\u001b[39m,\n",
       "  \u001b[32m46368\u001b[39m,\n",
       "  \u001b[32m75025\u001b[39m,\n",
       "  \u001b[32m121393\u001b[39m,\n",
       "  \u001b[32m196418\u001b[39m,\n",
       "  \u001b[32m317811\u001b[39m,\n",
       "  \u001b[32m514229\u001b[39m,\n",
       "  \u001b[32m832040\u001b[39m,\n",
       "  \u001b[32m1346269\u001b[39m,\n",
       "  \u001b[32m2178309\u001b[39m,\n",
       "  \u001b[32m3524578\u001b[39m,\n",
       "  \u001b[32m5702887\u001b[39m,\n",
       "  \u001b[32m9227465\u001b[39m,\n",
       "  \u001b[32m14930352\u001b[39m,\n",
       "  \u001b[32m24157817\u001b[39m,\n",
       "  \u001b[32m39088169\u001b[39m,\n",
       "..."
      ]
     },
     "execution_count": 6,
     "metadata": {},
     "output_type": "execute_result"
    }
   ],
   "source": [
    "val f3 = fibo3(1, 1).take(100).toList"
   ]
  },
  {
   "cell_type": "code",
   "execution_count": 8,
   "metadata": {},
   "outputs": [
    {
     "data": {
      "text/plain": [
       "\u001b[36mtemp\u001b[39m: \u001b[32mIterator\u001b[39m[\u001b[32mString\u001b[39m] = \u001b[32mnon-empty iterator\u001b[39m"
      ]
     },
     "execution_count": 8,
     "metadata": {},
     "output_type": "execute_result"
    }
   ],
   "source": [
    "val temp = f3 grouped 10 map (_.mkString(\",\"))"
   ]
  },
  {
   "cell_type": "code",
   "execution_count": 9,
   "metadata": {},
   "outputs": [
    {
     "name": "stdout",
     "output_type": "stream",
     "text": [
      "1,1,2,3,5,8,13,21,34,55\n",
      "89,144,233,377,610,987,1597,2584,4181,6765\n",
      "10946,17711,28657,46368,75025,121393,196418,317811,514229,832040\n",
      "1346269,2178309,3524578,5702887,9227465,14930352,24157817,39088169,63245986,102334155\n",
      "165580141,267914296,433494437,701408733,1134903170,1836311903,-1323752223,512559680,-811192543,-298632863\n",
      "-1109825406,-1408458269,1776683621,368225352,2144908973,-1781832971,363076002,-1418756969,-1055680967,1820529360\n",
      "764848393,-1709589543,-944741150,1640636603,695895453,-1958435240,-1262539787,1073992269,-188547518,885444751\n",
      "696897233,1582341984,-2015728079,-433386095,1845853122,1412467027,-1036647147,375819880,-660827267,-285007387\n",
      "-945834654,-1230842041,2118290601,887448560,-1289228135,-401779575,-1691007710,-2092787285,511172301,-1581614984\n",
      "-1070442683,1642909629,572466946,-2079590721,-1507123775,708252800,-798870975,-90618175,-889489150,-980107325\n"
     ]
    }
   ],
   "source": [
    "temp foreach println"
   ]
  },
  {
   "cell_type": "markdown",
   "metadata": {},
   "source": [
    "d"
   ]
  },
  {
   "cell_type": "code",
   "execution_count": 10,
   "metadata": {},
   "outputs": [
    {
     "data": {
      "text/plain": [
       "defined \u001b[32mfunction\u001b[39m \u001b[36mfibo4\u001b[39m"
      ]
     },
     "execution_count": 10,
     "metadata": {},
     "output_type": "execute_result"
    }
   ],
   "source": [
    "def fibo4(t: Long, n: Long): Stream[Long] = t #:: fibo4(n, t+n)"
   ]
  },
  {
   "cell_type": "code",
   "execution_count": 11,
   "metadata": {},
   "outputs": [
    {
     "data": {
      "text/plain": [
       "defined \u001b[32mfunction\u001b[39m \u001b[36mnext\u001b[39m"
      ]
     },
     "execution_count": 11,
     "metadata": {},
     "output_type": "execute_result"
    }
   ],
   "source": [
    "def next(i: Int): Option[Long] = {\n",
    "    val start = fibo4(1,1)\n",
    "    val preceeding = start.takeWhile( _ <= i).toList\n",
    "    if (preceeding.last == i) Some(preceeding.takeRight(2).sum)\n",
    "    else None\n",
    "}"
   ]
  },
  {
   "cell_type": "code",
   "execution_count": 12,
   "metadata": {},
   "outputs": [
    {
     "data": {
      "text/plain": [
       "\u001b[36mx\u001b[39m: \u001b[32mOption\u001b[39m[\u001b[32mLong\u001b[39m] = \u001b[33mSome\u001b[39m(\u001b[32m34L\u001b[39m)"
      ]
     },
     "execution_count": 12,
     "metadata": {},
     "output_type": "execute_result"
    }
   ],
   "source": [
    "val x = next(21)"
   ]
  },
  {
   "cell_type": "code",
   "execution_count": 13,
   "metadata": {},
   "outputs": [
    {
     "data": {
      "text/plain": [
       "\u001b[36my\u001b[39m: \u001b[32mOption\u001b[39m[\u001b[32mLong\u001b[39m] = \u001b[32mNone\u001b[39m"
      ]
     },
     "execution_count": 13,
     "metadata": {},
     "output_type": "execute_result"
    }
   ],
   "source": [
    "val y = next(22)"
   ]
  },
  {
   "cell_type": "markdown",
   "metadata": {},
   "source": [
    "## 2"
   ]
  },
  {
   "cell_type": "code",
   "execution_count": 14,
   "metadata": {},
   "outputs": [
    {
     "data": {
      "text/plain": [
       "defined \u001b[32mfunction\u001b[39m \u001b[36mprintFiles\u001b[39m"
      ]
     },
     "execution_count": 14,
     "metadata": {},
     "output_type": "execute_result"
    }
   ],
   "source": [
    "def printFiles(path: String): List[String] = {\n",
    "    val files = new java.io.File(path).listFiles.toList\n",
    "    files.map(_.toString.replaceFirst(\"./\", \"\"))\n",
    "}"
   ]
  },
  {
   "cell_type": "code",
   "execution_count": 15,
   "metadata": {},
   "outputs": [
    {
     "data": {
      "text/plain": [
       "\u001b[36mfiles\u001b[39m: \u001b[32mList\u001b[39m[\u001b[32mString\u001b[39m] = \u001b[33mList\u001b[39m(\n",
       "  \u001b[32m\"Hello.scala\"\u001b[39m,\n",
       "  \u001b[32m\"ch4.ipynb\"\u001b[39m,\n",
       "  \u001b[32m\"ch3.ipynb\"\u001b[39m,\n",
       "  \u001b[32m\"ch5.ipynb\"\u001b[39m,\n",
       "  \u001b[32m\".ipynb_checkpoints\"\u001b[39m,\n",
       "  \u001b[32m\"ch2.ipynb\"\u001b[39m,\n",
       "  \u001b[32m\"ch7.ipynb\"\u001b[39m,\n",
       "  \u001b[32m\"ch6.ipynb\"\u001b[39m\n",
       ")"
      ]
     },
     "execution_count": 15,
     "metadata": {},
     "output_type": "execute_result"
    }
   ],
   "source": [
    "val files = printFiles(\".\")"
   ]
  },
  {
   "cell_type": "code",
   "execution_count": 16,
   "metadata": {},
   "outputs": [
    {
     "data": {
      "text/plain": [
       "\u001b[36mfiles\u001b[39m: \u001b[32mList\u001b[39m[\u001b[32mString\u001b[39m] = \u001b[33mList\u001b[39m(\n",
       "  \u001b[32m\"Hello.scala\"\u001b[39m,\n",
       "  \u001b[32m\"ch4.ipynb\"\u001b[39m,\n",
       "  \u001b[32m\"ch3.ipynb\"\u001b[39m,\n",
       "  \u001b[32m\"ch5.ipynb\"\u001b[39m,\n",
       "  \u001b[32m\"ch2.ipynb\"\u001b[39m,\n",
       "  \u001b[32m\"ch7.ipynb\"\u001b[39m,\n",
       "  \u001b[32m\"ch6.ipynb\"\u001b[39m\n",
       ")"
      ]
     },
     "execution_count": 16,
     "metadata": {},
     "output_type": "execute_result"
    }
   ],
   "source": [
    "val files = printFiles(\".\").filterNot(_ startsWith \".\")"
   ]
  },
  {
   "cell_type": "code",
   "execution_count": 17,
   "metadata": {},
   "outputs": [
    {
     "name": "stdout",
     "output_type": "stream",
     "text": [
      "Found these files: Hello.scala;ch4.ipynb;ch3.ipynb;ch5.ipynb;ch2.ipynb;ch7.ipynb;ch6.ipynb\n"
     ]
    }
   ],
   "source": [
    "println(\"Found these files: \" + files.mkString(\";\"))"
   ]
  },
  {
   "cell_type": "markdown",
   "metadata": {},
   "source": [
    "## 3"
   ]
  },
  {
   "cell_type": "code",
   "execution_count": 18,
   "metadata": {},
   "outputs": [
    {
     "data": {
      "text/plain": [
       "\u001b[36mfindAlphabet\u001b[39m: \u001b[32mList\u001b[39m[(\u001b[32mChar\u001b[39m, \u001b[32mList\u001b[39m[\u001b[32mString\u001b[39m])] = \u001b[33mList\u001b[39m(\n",
       "  (\n",
       "    \u001b[32m'c'\u001b[39m,\n",
       "    \u001b[33mList\u001b[39m(\n",
       "      \u001b[32m\"ch4.ipynb\"\u001b[39m,\n",
       "      \u001b[32m\"ch3.ipynb\"\u001b[39m,\n",
       "      \u001b[32m\"ch5.ipynb\"\u001b[39m,\n",
       "      \u001b[32m\"ch2.ipynb\"\u001b[39m,\n",
       "      \u001b[32m\"ch7.ipynb\"\u001b[39m,\n",
       "      \u001b[32m\"ch6.ipynb\"\u001b[39m\n",
       "    )\n",
       "  ),\n",
       "  (\u001b[32m'h'\u001b[39m, \u001b[33mList\u001b[39m(\u001b[32m\"Hello.scala\"\u001b[39m))\n",
       ")"
      ]
     },
     "execution_count": 18,
     "metadata": {},
     "output_type": "execute_result"
    }
   ],
   "source": [
    "val findAlphabet = files.groupBy(_.head.toLower).toList.sortBy(_._1)"
   ]
  },
  {
   "cell_type": "code",
   "execution_count": 19,
   "metadata": {},
   "outputs": [
    {
     "name": "stdout",
     "output_type": "stream",
     "text": [
      "'c' has 6 files\n",
      "'h' has 1 files\n"
     ]
    }
   ],
   "source": [
    "for { (c,l) <- findAlphabet } {println(s\"'$c' has ${l.size} files\")}"
   ]
  },
  {
   "cell_type": "markdown",
   "metadata": {},
   "source": [
    "## 4"
   ]
  },
  {
   "cell_type": "code",
   "execution_count": 20,
   "metadata": {},
   "outputs": [
    {
     "data": {
      "text/plain": [
       "\u001b[32mimport \u001b[39m\u001b[36mscala.util\u001b[39m"
      ]
     },
     "execution_count": 20,
     "metadata": {},
     "output_type": "execute_result"
    }
   ],
   "source": [
    "import scala.util"
   ]
  },
  {
   "cell_type": "code",
   "execution_count": 21,
   "metadata": {},
   "outputs": [
    {
     "data": {
      "text/plain": [
       "defined \u001b[32mfunction\u001b[39m \u001b[36mtoDouble\u001b[39m"
      ]
     },
     "execution_count": 21,
     "metadata": {},
     "output_type": "execute_result"
    }
   ],
   "source": [
    "def toDouble(a: String) = util.Try(a.toDouble).toOption"
   ]
  },
  {
   "cell_type": "code",
   "execution_count": 27,
   "metadata": {},
   "outputs": [
    {
     "data": {
      "text/plain": [
       "defined \u001b[32mfunction\u001b[39m \u001b[36mproductString\u001b[39m"
      ]
     },
     "execution_count": 27,
     "metadata": {},
     "output_type": "execute_result"
    }
   ],
   "source": [
    "def productString(a: String, b: String): Option[Double] = {\n",
    "    (toDouble(a), toDouble(b)) match {\n",
    "        case (Some(a1), Some(b1)) => Some(a1 * b1)\n",
    "        case _ => None\n",
    "    }\n",
    "}"
   ]
  },
  {
   "cell_type": "code",
   "execution_count": 28,
   "metadata": {},
   "outputs": [
    {
     "data": {
      "text/plain": [
       "\u001b[36mx\u001b[39m: \u001b[32mOption\u001b[39m[\u001b[32mDouble\u001b[39m] = \u001b[33mSome\u001b[39m(\u001b[32m22.0\u001b[39m)"
      ]
     },
     "execution_count": 28,
     "metadata": {},
     "output_type": "execute_result"
    }
   ],
   "source": [
    "val x = productString(\"2\", \"11\")"
   ]
  },
  {
   "cell_type": "code",
   "execution_count": 24,
   "metadata": {},
   "outputs": [
    {
     "data": {
      "text/plain": [
       "\u001b[36my\u001b[39m: \u001b[32mOption\u001b[39m[\u001b[32mDouble\u001b[39m] = \u001b[32mNone\u001b[39m"
      ]
     },
     "execution_count": 24,
     "metadata": {},
     "output_type": "execute_result"
    }
   ],
   "source": [
    "val y = productString(\"asd\", \"12\")"
   ]
  },
  {
   "cell_type": "markdown",
   "metadata": {},
   "source": [
    "## 5"
   ]
  },
  {
   "cell_type": "code",
   "execution_count": 29,
   "metadata": {},
   "outputs": [
    {
     "ename": "",
     "evalue": "",
     "output_type": "error",
     "traceback": [
      "\u001b[31mjava.lang.NullPointerException: key can't be null\u001b[39m\n  java.lang.System.checkKey(\u001b[32mSystem.java\u001b[39m:\u001b[32m840\u001b[39m)\n  java.lang.System.getProperty(\u001b[32mSystem.java\u001b[39m:\u001b[32m716\u001b[39m)\n  ammonite.$sess.cmd28$Helper.<init>(\u001b[32mcmd28.sc\u001b[39m:\u001b[32m1\u001b[39m)\n  ammonite.$sess.cmd28$.<init>(\u001b[32mcmd28.sc\u001b[39m:\u001b[32m7\u001b[39m)\n  ammonite.$sess.cmd28$.<clinit>(\u001b[32mcmd28.sc\u001b[39m:\u001b[32m-1\u001b[39m)"
     ]
    }
   ],
   "source": [
    "System.getProperty(null)"
   ]
  },
  {
   "cell_type": "code",
   "execution_count": 30,
   "metadata": {},
   "outputs": [
    {
     "data": {
      "text/plain": [
       "\u001b[36march\u001b[39m: \u001b[32mString\u001b[39m = \u001b[32m\"amd64\"\u001b[39m"
      ]
     },
     "execution_count": 30,
     "metadata": {},
     "output_type": "execute_result"
    }
   ],
   "source": [
    "val arch = System.getProperty(\"os.arch\")"
   ]
  },
  {
   "cell_type": "code",
   "execution_count": 31,
   "metadata": {},
   "outputs": [
    {
     "data": {
      "text/plain": [
       "\u001b[36mblarg\u001b[39m: \u001b[32mString\u001b[39m = \u001b[32mnull\u001b[39m"
      ]
     },
     "execution_count": 31,
     "metadata": {},
     "output_type": "execute_result"
    }
   ],
   "source": [
    "val blarg = System.getProperty(\"blarg\")"
   ]
  },
  {
   "cell_type": "code",
   "execution_count": 32,
   "metadata": {},
   "outputs": [
    {
     "data": {
      "text/plain": [
       "defined \u001b[32mfunction\u001b[39m \u001b[36mgetProperty\u001b[39m"
      ]
     },
     "execution_count": 32,
     "metadata": {},
     "output_type": "execute_result"
    }
   ],
   "source": [
    "def getProperty(s: String): Option[String] = {\n",
    "    util.Try(System.getProperty(s)) match {\n",
    "        case util.Success(x) => Option(x)\n",
    "        case util.Failure(ex) => None\n",
    "    }\n",
    "}"
   ]
  },
  {
   "cell_type": "code",
   "execution_count": 33,
   "metadata": {},
   "outputs": [
    {
     "data": {
      "text/plain": [
       "\u001b[36mres32\u001b[39m: \u001b[32mOption\u001b[39m[\u001b[32mString\u001b[39m] = \u001b[32mNone\u001b[39m"
      ]
     },
     "execution_count": 33,
     "metadata": {},
     "output_type": "execute_result"
    }
   ],
   "source": [
    "getProperty(null)"
   ]
  },
  {
   "cell_type": "code",
   "execution_count": 34,
   "metadata": {},
   "outputs": [
    {
     "data": {
      "text/plain": [
       "\u001b[36mres33\u001b[39m: \u001b[32mOption\u001b[39m[\u001b[32mString\u001b[39m] = \u001b[33mSome\u001b[39m(\u001b[32m\"amd64\"\u001b[39m)"
      ]
     },
     "execution_count": 34,
     "metadata": {},
     "output_type": "execute_result"
    }
   ],
   "source": [
    "getProperty(\"os.arch\")"
   ]
  },
  {
   "cell_type": "code",
   "execution_count": 35,
   "metadata": {},
   "outputs": [
    {
     "data": {
      "text/plain": [
       "\u001b[36mres34\u001b[39m: \u001b[32mOption\u001b[39m[\u001b[32mString\u001b[39m] = \u001b[32mNone\u001b[39m"
      ]
     },
     "execution_count": 35,
     "metadata": {},
     "output_type": "execute_result"
    }
   ],
   "source": [
    "getProperty(\"blarg\")"
   ]
  },
  {
   "cell_type": "markdown",
   "metadata": {},
   "source": [
    "## 6"
   ]
  },
  {
   "cell_type": "code",
   "execution_count": null,
   "metadata": {},
   "outputs": [],
   "source": []
  }
 ],
 "metadata": {
  "kernelspec": {
   "display_name": "Scala",
   "language": "scala",
   "name": "scala"
  },
  "language_info": {
   "codemirror_mode": "text/x-scala",
   "file_extension": ".scala",
   "mimetype": "text/x-scala",
   "name": "scala",
   "nbconvert_exporter": "script",
   "version": "2.12.10"
  }
 },
 "nbformat": 4,
 "nbformat_minor": 4
}
