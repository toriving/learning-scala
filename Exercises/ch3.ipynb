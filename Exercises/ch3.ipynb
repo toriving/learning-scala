{
 "cells": [
  {
   "cell_type": "markdown",
   "metadata": {},
   "source": [
    "# Chapter 2.  Exercises\n",
    "## 1"
   ]
  },
  {
   "cell_type": "code",
   "execution_count": 1,
   "metadata": {},
   "outputs": [
    {
     "data": {
      "text/plain": [
       "\u001b[36mname\u001b[39m: \u001b[32mString\u001b[39m = \u001b[32m\"danny\"\u001b[39m"
      ]
     },
     "execution_count": 1,
     "metadata": {},
     "output_type": "execute_result"
    }
   ],
   "source": [
    "val name = \"danny\""
   ]
  },
  {
   "cell_type": "code",
   "execution_count": 4,
   "metadata": {},
   "outputs": [
    {
     "name": "stdout",
     "output_type": "stream",
     "text": [
      "danny\n"
     ]
    }
   ],
   "source": [
    "if (name != null) {println(name)} else println(\"n/a\")"
   ]
  },
  {
   "cell_type": "code",
   "execution_count": 5,
   "metadata": {},
   "outputs": [
    {
     "data": {
      "text/plain": [
       "\u001b[36mres4\u001b[39m: \u001b[32mString\u001b[39m = \u001b[32m\"danny\"\u001b[39m"
      ]
     },
     "execution_count": 5,
     "metadata": {},
     "output_type": "execute_result"
    }
   ],
   "source": [
    "name match{\n",
    "    case \"\" => \"n/a\"\n",
    "    case n => n\n",
    "}"
   ]
  },
  {
   "cell_type": "markdown",
   "metadata": {},
   "source": [
    "## 2"
   ]
  },
  {
   "cell_type": "code",
   "execution_count": 6,
   "metadata": {},
   "outputs": [
    {
     "data": {
      "text/plain": [
       "\u001b[36mamount\u001b[39m: \u001b[32mDouble\u001b[39m = \u001b[32m3.6\u001b[39m"
      ]
     },
     "execution_count": 6,
     "metadata": {},
     "output_type": "execute_result"
    }
   ],
   "source": [
    "val amount: Double = 3.6"
   ]
  },
  {
   "cell_type": "code",
   "execution_count": 7,
   "metadata": {},
   "outputs": [
    {
     "data": {
      "text/plain": [
       "\u001b[36mres6\u001b[39m: \u001b[32mString\u001b[39m = \u001b[32m\"greater\"\u001b[39m"
      ]
     },
     "execution_count": 7,
     "metadata": {},
     "output_type": "execute_result"
    }
   ],
   "source": [
    "amount match{\n",
    "    case x if x > 0 => \"greater\"\n",
    "    case x if x == 0 => \"same\"\n",
    "    case x if x < 0 => \"less\"\n",
    "}"
   ]
  },
  {
   "cell_type": "code",
   "execution_count": 8,
   "metadata": {},
   "outputs": [
    {
     "data": {
      "text/plain": [
       "\u001b[36mres7\u001b[39m: \u001b[32mString\u001b[39m = \u001b[32m\"greater\"\u001b[39m"
      ]
     },
     "execution_count": 8,
     "metadata": {},
     "output_type": "execute_result"
    }
   ],
   "source": [
    "if (amount > 0) \"greater\" else if (amount == 0) \"same\" else \"less\""
   ]
  },
  {
   "cell_type": "markdown",
   "metadata": {},
   "source": [
    "## 3"
   ]
  },
  {
   "cell_type": "code",
   "execution_count": 9,
   "metadata": {},
   "outputs": [
    {
     "data": {
      "text/plain": [
       "\u001b[36mcolor\u001b[39m: \u001b[32mString\u001b[39m = \u001b[32m\"cyan\"\u001b[39m"
      ]
     },
     "execution_count": 9,
     "metadata": {},
     "output_type": "execute_result"
    }
   ],
   "source": [
    "val color = \"cyan\""
   ]
  },
  {
   "cell_type": "code",
   "execution_count": 10,
   "metadata": {},
   "outputs": [
    {
     "data": {
      "text/plain": [
       "\u001b[36mres9\u001b[39m: \u001b[32mString\u001b[39m = \u001b[32m\"00ffff\"\u001b[39m"
      ]
     },
     "execution_count": 10,
     "metadata": {},
     "output_type": "execute_result"
    }
   ],
   "source": [
    "color match {\n",
    "    case \"cyan\" => \"00ffff\"\n",
    "    case \"magenta\" => \"00ff00\"\n",
    "    case \"yellow\" => \"ffff00\"\n",
    "    case x => {\n",
    "    println(s\"Didn't expect $x !\")\n",
    "    \"333333\"\n",
    "    }\n",
    "}"
   ]
  },
  {
   "cell_type": "markdown",
   "metadata": {},
   "source": [
    "## 4"
   ]
  },
  {
   "cell_type": "code",
   "execution_count": 16,
   "metadata": {},
   "outputs": [
    {
     "name": "stdout",
     "output_type": "stream",
     "text": [
      "1, 2, 3, 4, 5, \n",
      "6, 7, 8, 9, 10, \n",
      "11, 12, 13, 14, 15, \n",
      "16, 17, 18, 19, 20, \n",
      "21, 22, 23, 24, 25, \n",
      "26, 27, 28, 29, 30, \n",
      "31, 32, 33, 34, 35, \n",
      "36, 37, 38, 39, 40, \n",
      "41, 42, 43, 44, 45, \n",
      "46, 47, 48, 49, 50, \n",
      "51, 52, 53, 54, 55, \n",
      "56, 57, 58, 59, 60, \n",
      "61, 62, 63, 64, 65, \n",
      "66, 67, 68, 69, 70, \n",
      "71, 72, 73, 74, 75, \n",
      "76, 77, 78, 79, 80, \n",
      "81, 82, 83, 84, 85, \n",
      "86, 87, 88, 89, 90, \n",
      "91, 92, 93, 94, 95, \n",
      "96, 97, 98, 99, 100, \n"
     ]
    }
   ],
   "source": [
    "for (i <- 1 to 100 by 5) {\n",
    "    for (j <- i to ( i + 4 )) {print(s\"$j, \")}\n",
    "    println(\"\")\n",
    "}"
   ]
  },
  {
   "cell_type": "markdown",
   "metadata": {},
   "source": [
    "## 5"
   ]
  },
  {
   "cell_type": "code",
   "execution_count": 1,
   "metadata": {},
   "outputs": [
    {
     "name": "stdout",
     "output_type": "stream",
     "text": [
      "1\n",
      "2\n",
      "type\n",
      "4\n",
      "safe\n",
      "type\n",
      "7\n",
      "8\n",
      "type\n",
      "safe\n",
      "11\n",
      "type\n",
      "13\n",
      "14\n",
      "typesafe\n",
      "16\n",
      "17\n",
      "type\n",
      "19\n",
      "safe\n",
      "type\n",
      "22\n",
      "23\n",
      "type\n",
      "safe\n",
      "26\n",
      "type\n",
      "28\n",
      "29\n",
      "typesafe\n",
      "31\n",
      "32\n",
      "type\n",
      "34\n",
      "safe\n",
      "type\n",
      "37\n",
      "38\n",
      "type\n",
      "safe\n",
      "41\n",
      "type\n",
      "43\n",
      "44\n",
      "typesafe\n",
      "46\n",
      "47\n",
      "type\n",
      "49\n",
      "safe\n",
      "type\n",
      "52\n",
      "53\n",
      "type\n",
      "safe\n",
      "56\n",
      "type\n",
      "58\n",
      "59\n",
      "typesafe\n",
      "61\n",
      "62\n",
      "type\n",
      "64\n",
      "safe\n",
      "type\n",
      "67\n",
      "68\n",
      "type\n",
      "safe\n",
      "71\n",
      "type\n",
      "73\n",
      "74\n",
      "typesafe\n",
      "76\n",
      "77\n",
      "type\n",
      "79\n",
      "safe\n",
      "type\n",
      "82\n",
      "83\n",
      "type\n",
      "safe\n",
      "86\n",
      "type\n",
      "88\n",
      "89\n",
      "typesafe\n",
      "91\n",
      "92\n",
      "type\n",
      "94\n",
      "safe\n",
      "type\n",
      "97\n",
      "98\n",
      "type\n",
      "safe\n"
     ]
    }
   ],
   "source": [
    "for (i <- 1 to 100){\n",
    "    if (i % 3 == 0 & i % 5 == 0) println(\"typesafe\")\n",
    "    else if (i % 3 == 0) println(\"type\")\n",
    "    else if (i % 5 == 0) println(\"safe\")\n",
    "    else println(i)\n",
    "} "
   ]
  },
  {
   "cell_type": "code",
   "execution_count": 2,
   "metadata": {},
   "outputs": [
    {
     "name": "stdout",
     "output_type": "stream",
     "text": [
      "1\n",
      "2\n",
      "type\n",
      "4\n",
      "safe\n",
      "type\n",
      "7\n",
      "8\n",
      "type\n",
      "safe\n",
      "11\n",
      "type\n",
      "13\n",
      "14\n",
      "typesafe\n",
      "16\n",
      "17\n",
      "type\n",
      "19\n",
      "safe\n",
      "type\n",
      "22\n",
      "23\n",
      "type\n",
      "safe\n",
      "26\n",
      "type\n",
      "28\n",
      "29\n",
      "typesafe\n",
      "31\n",
      "32\n",
      "type\n",
      "34\n",
      "safe\n",
      "type\n",
      "37\n",
      "38\n",
      "type\n",
      "safe\n",
      "41\n",
      "type\n",
      "43\n",
      "44\n",
      "typesafe\n",
      "46\n",
      "47\n",
      "type\n",
      "49\n",
      "safe\n",
      "type\n",
      "52\n",
      "53\n",
      "type\n",
      "safe\n",
      "56\n",
      "type\n",
      "58\n",
      "59\n",
      "typesafe\n",
      "61\n",
      "62\n",
      "type\n",
      "64\n",
      "safe\n",
      "type\n",
      "67\n",
      "68\n",
      "type\n",
      "safe\n",
      "71\n",
      "type\n",
      "73\n",
      "74\n",
      "typesafe\n",
      "76\n",
      "77\n",
      "type\n",
      "79\n",
      "safe\n",
      "type\n",
      "82\n",
      "83\n",
      "type\n",
      "safe\n",
      "86\n",
      "type\n",
      "88\n",
      "89\n",
      "typesafe\n",
      "91\n",
      "92\n",
      "type\n",
      "94\n",
      "safe\n",
      "type\n",
      "97\n",
      "98\n",
      "type\n",
      "safe\n"
     ]
    }
   ],
   "source": [
    "for (i <- 1 to 100){\n",
    "    i match {\n",
    "        case x if x % 15 == 0 => println(\"typesafe\")\n",
    "        case x if x % 5 == 0 => println(\"safe\")\n",
    "        case x if x % 3 == 0 => println(\"type\")\n",
    "        case x => println(x)\n",
    "    }\n",
    "}"
   ]
  },
  {
   "cell_type": "markdown",
   "metadata": {},
   "source": [
    "## 6"
   ]
  },
  {
   "cell_type": "code",
   "execution_count": 3,
   "metadata": {},
   "outputs": [
    {
     "name": "stdout",
     "output_type": "stream",
     "text": [
      "1\n",
      "2\n",
      "type\n",
      "4\n",
      "safe\n",
      "type\n",
      "7\n",
      "8\n",
      "type\n",
      "safe\n",
      "11\n",
      "type\n",
      "13\n",
      "14\n",
      "typesafe\n",
      "16\n",
      "17\n",
      "type\n",
      "19\n",
      "safe\n",
      "type\n",
      "22\n",
      "23\n",
      "type\n",
      "safe\n",
      "26\n",
      "type\n",
      "28\n",
      "29\n",
      "typesafe\n",
      "31\n",
      "32\n",
      "type\n",
      "34\n",
      "safe\n",
      "type\n",
      "37\n",
      "38\n",
      "type\n",
      "safe\n",
      "41\n",
      "type\n",
      "43\n",
      "44\n",
      "typesafe\n",
      "46\n",
      "47\n",
      "type\n",
      "49\n",
      "safe\n",
      "type\n",
      "52\n",
      "53\n",
      "type\n",
      "safe\n",
      "56\n",
      "type\n",
      "58\n",
      "59\n",
      "typesafe\n",
      "61\n",
      "62\n",
      "type\n",
      "64\n",
      "safe\n",
      "type\n",
      "67\n",
      "68\n",
      "type\n",
      "safe\n",
      "71\n",
      "type\n",
      "73\n",
      "74\n",
      "typesafe\n",
      "76\n",
      "77\n",
      "type\n",
      "79\n",
      "safe\n",
      "type\n",
      "82\n",
      "83\n",
      "type\n",
      "safe\n",
      "86\n",
      "type\n",
      "88\n",
      "89\n",
      "typesafe\n",
      "91\n",
      "92\n",
      "type\n",
      "94\n",
      "safe\n",
      "type\n",
      "97\n",
      "98\n",
      "type\n",
      "safe\n"
     ]
    }
   ],
   "source": [
    "for (i <- 1 to 100) {var s=\"\"; if (i%3==0) s=\"type\"; if(i%5==0) s+=\"safe\"; if(s.isEmpty) s += i; println(s)}"
   ]
  },
  {
   "cell_type": "code",
   "execution_count": null,
   "metadata": {},
   "outputs": [],
   "source": []
  }
 ],
 "metadata": {
  "kernelspec": {
   "display_name": "Scala",
   "language": "scala",
   "name": "scala"
  },
  "language_info": {
   "codemirror_mode": "text/x-scala",
   "file_extension": ".scala",
   "mimetype": "text/x-scala",
   "name": "scala",
   "nbconvert_exporter": "script",
   "version": "2.12.10"
  }
 },
 "nbformat": 4,
 "nbformat_minor": 4
}
