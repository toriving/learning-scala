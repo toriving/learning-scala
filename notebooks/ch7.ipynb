{
 "cells": [
  {
   "cell_type": "markdown",
   "metadata": {},
   "source": [
    "# 그 외의 컬렉션"
   ]
  },
  {
   "cell_type": "markdown",
   "metadata": {},
   "source": [
    "## 가변적인 컬렉션"
   ]
  },
  {
   "cell_type": "code",
   "execution_count": 1,
   "metadata": {},
   "outputs": [
    {
     "data": {
      "text/plain": [
       "\u001b[36mm\u001b[39m: \u001b[32mMap\u001b[39m[\u001b[32mString\u001b[39m, \u001b[32mInt\u001b[39m] = \u001b[33mMap\u001b[39m(\u001b[32m\"AAPL\"\u001b[39m -> \u001b[32m597\u001b[39m, \u001b[32m\"MSFT\"\u001b[39m -> \u001b[32m40\u001b[39m)"
      ]
     },
     "execution_count": 1,
     "metadata": {},
     "output_type": "execute_result"
    }
   ],
   "source": [
    "val m = Map(\"AAPL\" -> 597, \"MSFT\" -> 40)"
   ]
  },
  {
   "cell_type": "code",
   "execution_count": 3,
   "metadata": {},
   "outputs": [
    {
     "data": {
      "text/plain": [
       "\u001b[36mn\u001b[39m: \u001b[32mMap\u001b[39m[\u001b[32mString\u001b[39m, \u001b[32mInt\u001b[39m] = \u001b[33mMap\u001b[39m(\u001b[32m\"MSFT\"\u001b[39m -> \u001b[32m40\u001b[39m, \u001b[32m\"GOOG\"\u001b[39m -> \u001b[32m521\u001b[39m)"
      ]
     },
     "execution_count": 3,
     "metadata": {},
     "output_type": "execute_result"
    }
   ],
   "source": [
    "val n = m - \"AAPL\" + (\"GOOG\" -> 521)"
   ]
  },
  {
   "cell_type": "code",
   "execution_count": 4,
   "metadata": {},
   "outputs": [
    {
     "name": "stdout",
     "output_type": "stream",
     "text": [
      "Map(AAPL -> 597, MSFT -> 40)\n"
     ]
    }
   ],
   "source": [
    "println(m)"
   ]
  },
  {
   "cell_type": "markdown",
   "metadata": {},
   "source": [
    "## 새로운 가변 컬렉션 생성하기"
   ]
  },
  {
   "cell_type": "code",
   "execution_count": 5,
   "metadata": {},
   "outputs": [
    {
     "data": {
      "text/plain": [
       "\u001b[36mnums\u001b[39m: \u001b[32mcollection\u001b[39m.\u001b[32mmutable\u001b[39m.\u001b[32mBuffer\u001b[39m[\u001b[32mInt\u001b[39m] = \u001b[33mArrayBuffer\u001b[39m(\u001b[32m1\u001b[39m)"
      ]
     },
     "execution_count": 5,
     "metadata": {},
     "output_type": "execute_result"
    }
   ],
   "source": [
    "val nums = collection.mutable.Buffer(1)"
   ]
  },
  {
   "cell_type": "code",
   "execution_count": 6,
   "metadata": {},
   "outputs": [],
   "source": [
    "for (i <- 2 to 10) nums += i"
   ]
  },
  {
   "cell_type": "code",
   "execution_count": 7,
   "metadata": {},
   "outputs": [
    {
     "name": "stdout",
     "output_type": "stream",
     "text": [
      "ArrayBuffer(1, 2, 3, 4, 5, 6, 7, 8, 9, 10)\n"
     ]
    }
   ],
   "source": [
    "println(nums)"
   ]
  },
  {
   "cell_type": "code",
   "execution_count": 8,
   "metadata": {},
   "outputs": [
    {
     "data": {
      "text/plain": [
       "\u001b[36ml\u001b[39m: \u001b[32mList\u001b[39m[\u001b[32mInt\u001b[39m] = \u001b[33mList\u001b[39m(\u001b[32m1\u001b[39m, \u001b[32m2\u001b[39m, \u001b[32m3\u001b[39m, \u001b[32m4\u001b[39m, \u001b[32m5\u001b[39m, \u001b[32m6\u001b[39m, \u001b[32m7\u001b[39m, \u001b[32m8\u001b[39m, \u001b[32m9\u001b[39m, \u001b[32m10\u001b[39m)"
      ]
     },
     "execution_count": 8,
     "metadata": {},
     "output_type": "execute_result"
    }
   ],
   "source": [
    "val l = nums.toList"
   ]
  },
  {
   "cell_type": "markdown",
   "metadata": {},
   "source": [
    "## 불변의 컬렉션으로부터 가변적인 컬렉션 만들기"
   ]
  },
  {
   "cell_type": "code",
   "execution_count": 9,
   "metadata": {},
   "outputs": [
    {
     "data": {
      "text/plain": [
       "\u001b[36mm\u001b[39m: \u001b[32mMap\u001b[39m[\u001b[32mString\u001b[39m, \u001b[32mInt\u001b[39m] = \u001b[33mMap\u001b[39m(\u001b[32m\"AAPL\"\u001b[39m -> \u001b[32m597\u001b[39m, \u001b[32m\"MSFT\"\u001b[39m -> \u001b[32m40\u001b[39m)"
      ]
     },
     "execution_count": 9,
     "metadata": {},
     "output_type": "execute_result"
    }
   ],
   "source": [
    "val m = Map(\"AAPL\" -> 597, \"MSFT\" -> 40)"
   ]
  },
  {
   "cell_type": "code",
   "execution_count": 10,
   "metadata": {},
   "outputs": [
    {
     "data": {
      "text/plain": [
       "\u001b[36mb\u001b[39m: \u001b[32mcollection\u001b[39m.\u001b[32mmutable\u001b[39m.\u001b[32mBuffer\u001b[39m[(\u001b[32mString\u001b[39m, \u001b[32mInt\u001b[39m)] = \u001b[33mArrayBuffer\u001b[39m(\n",
       "  (\u001b[32m\"AAPL\"\u001b[39m, \u001b[32m597\u001b[39m),\n",
       "  (\u001b[32m\"MSFT\"\u001b[39m, \u001b[32m40\u001b[39m)\n",
       ")"
      ]
     },
     "execution_count": 10,
     "metadata": {},
     "output_type": "execute_result"
    }
   ],
   "source": [
    "val b = m.toBuffer"
   ]
  },
  {
   "cell_type": "code",
   "execution_count": 11,
   "metadata": {},
   "outputs": [],
   "source": [
    "b trimStart 1"
   ]
  },
  {
   "cell_type": "code",
   "execution_count": 12,
   "metadata": {},
   "outputs": [
    {
     "name": "stdout",
     "output_type": "stream",
     "text": [
      "ArrayBuffer((MSFT,40))\n"
     ]
    }
   ],
   "source": [
    "println(b)"
   ]
  },
  {
   "cell_type": "code",
   "execution_count": 13,
   "metadata": {},
   "outputs": [
    {
     "data": {
      "text/plain": [
       "\u001b[36mres12\u001b[39m: \u001b[32mcollection\u001b[39m.\u001b[32mmutable\u001b[39m.\u001b[32mBuffer\u001b[39m[(\u001b[32mString\u001b[39m, \u001b[32mInt\u001b[39m)] = \u001b[33mArrayBuffer\u001b[39m(\n",
       "  (\u001b[32m\"MSFT\"\u001b[39m, \u001b[32m40\u001b[39m),\n",
       "  (\u001b[32m\"GOOG\"\u001b[39m, \u001b[32m521\u001b[39m)\n",
       ")"
      ]
     },
     "execution_count": 13,
     "metadata": {},
     "output_type": "execute_result"
    }
   ],
   "source": [
    "b += (\"GOOG\" -> 521)"
   ]
  },
  {
   "cell_type": "code",
   "execution_count": 14,
   "metadata": {},
   "outputs": [
    {
     "data": {
      "text/plain": [
       "\u001b[36mn\u001b[39m: \u001b[32mMap\u001b[39m[\u001b[32mString\u001b[39m, \u001b[32mInt\u001b[39m] = \u001b[33mMap\u001b[39m(\u001b[32m\"MSFT\"\u001b[39m -> \u001b[32m40\u001b[39m, \u001b[32m\"GOOG\"\u001b[39m -> \u001b[32m521\u001b[39m)"
      ]
     },
     "execution_count": 14,
     "metadata": {},
     "output_type": "execute_result"
    }
   ],
   "source": [
    "val n = b.toMap"
   ]
  },
  {
   "cell_type": "code",
   "execution_count": 18,
   "metadata": {},
   "outputs": [
    {
     "data": {
      "text/plain": [
       "\u001b[36mres17\u001b[39m: \u001b[32mcollection\u001b[39m.\u001b[32mmutable\u001b[39m.\u001b[32mBuffer\u001b[39m[(\u001b[32mString\u001b[39m, \u001b[32mInt\u001b[39m)] = \u001b[33mArrayBuffer\u001b[39m(\n",
       "  (\u001b[32m\"MSFT\"\u001b[39m, \u001b[32m40\u001b[39m),\n",
       "  (\u001b[32m\"GOOG\"\u001b[39m, \u001b[32m521\u001b[39m),\n",
       "  (\u001b[32m\"GGOG\"\u001b[39m, \u001b[32m521\u001b[39m),\n",
       "  (\u001b[32m\"GOOG\"\u001b[39m, \u001b[32m521\u001b[39m)\n",
       ")"
      ]
     },
     "execution_count": 18,
     "metadata": {},
     "output_type": "execute_result"
    }
   ],
   "source": [
    "b += (\"GOOG\" -> 521)"
   ]
  },
  {
   "cell_type": "code",
   "execution_count": 19,
   "metadata": {},
   "outputs": [
    {
     "data": {
      "text/plain": [
       "\u001b[36ml\u001b[39m: \u001b[32mList\u001b[39m[(\u001b[32mString\u001b[39m, \u001b[32mInt\u001b[39m)] = \u001b[33mList\u001b[39m(\n",
       "  (\u001b[32m\"MSFT\"\u001b[39m, \u001b[32m40\u001b[39m),\n",
       "  (\u001b[32m\"GOOG\"\u001b[39m, \u001b[32m521\u001b[39m),\n",
       "  (\u001b[32m\"GGOG\"\u001b[39m, \u001b[32m521\u001b[39m),\n",
       "  (\u001b[32m\"GOOG\"\u001b[39m, \u001b[32m521\u001b[39m)\n",
       ")"
      ]
     },
     "execution_count": 19,
     "metadata": {},
     "output_type": "execute_result"
    }
   ],
   "source": [
    "val l = b.toList"
   ]
  },
  {
   "cell_type": "code",
   "execution_count": 20,
   "metadata": {},
   "outputs": [
    {
     "data": {
      "text/plain": [
       "\u001b[36ms\u001b[39m: \u001b[32mSet\u001b[39m[(\u001b[32mString\u001b[39m, \u001b[32mInt\u001b[39m)] = \u001b[33mSet\u001b[39m((\u001b[32m\"MSFT\"\u001b[39m, \u001b[32m40\u001b[39m), (\u001b[32m\"GOOG\"\u001b[39m, \u001b[32m521\u001b[39m), (\u001b[32m\"GGOG\"\u001b[39m, \u001b[32m521\u001b[39m))"
      ]
     },
     "execution_count": 20,
     "metadata": {},
     "output_type": "execute_result"
    }
   ],
   "source": [
    "val s = b.toSet"
   ]
  },
  {
   "cell_type": "code",
   "execution_count": 21,
   "metadata": {},
   "outputs": [
    {
     "data": {
      "text/plain": [
       "\u001b[36ms2\u001b[39m: \u001b[32mSet\u001b[39m[(\u001b[32mString\u001b[39m, \u001b[32mInt\u001b[39m)] = \u001b[33mSet\u001b[39m((\u001b[32m\"MSFT\"\u001b[39m, \u001b[32m40\u001b[39m), (\u001b[32m\"GOOG\"\u001b[39m, \u001b[32m521\u001b[39m), (\u001b[32m\"GGOG\"\u001b[39m, \u001b[32m521\u001b[39m))"
      ]
     },
     "execution_count": 21,
     "metadata": {},
     "output_type": "execute_result"
    }
   ],
   "source": [
    "val s2= b.toSet"
   ]
  },
  {
   "cell_type": "markdown",
   "metadata": {},
   "source": [
    "## 컬렉션 빌더 사용하기"
   ]
  },
  {
   "cell_type": "code",
   "execution_count": 22,
   "metadata": {},
   "outputs": [
    {
     "data": {
      "text/plain": [
       "\u001b[36mb\u001b[39m: \u001b[32mcollection\u001b[39m.\u001b[32mmutable\u001b[39m.\u001b[32mBuilder\u001b[39m[\u001b[32mChar\u001b[39m, \u001b[32mSet\u001b[39m[\u001b[32mChar\u001b[39m]] = scala.collection.mutable.SetBuilder@5a5030dc"
      ]
     },
     "execution_count": 22,
     "metadata": {},
     "output_type": "execute_result"
    }
   ],
   "source": [
    "val b = Set.newBuilder[Char]"
   ]
  },
  {
   "cell_type": "code",
   "execution_count": 23,
   "metadata": {},
   "outputs": [
    {
     "data": {
      "text/plain": [
       "\u001b[36mres22\u001b[39m: \u001b[32mcollection\u001b[39m.\u001b[32mmutable\u001b[39m.\u001b[32mBuilder\u001b[39m[\u001b[32mChar\u001b[39m, \u001b[32mSet\u001b[39m[\u001b[32mChar\u001b[39m]] = scala.collection.mutable.SetBuilder@5a5030dc"
      ]
     },
     "execution_count": 23,
     "metadata": {},
     "output_type": "execute_result"
    }
   ],
   "source": [
    "b += 'h'"
   ]
  },
  {
   "cell_type": "code",
   "execution_count": 24,
   "metadata": {},
   "outputs": [
    {
     "data": {
      "text/plain": [
       "\u001b[36mres23\u001b[39m: \u001b[32mcollection\u001b[39m.\u001b[32mmutable\u001b[39m.\u001b[32mBuilder\u001b[39m[\u001b[32mChar\u001b[39m, \u001b[32mSet\u001b[39m[\u001b[32mChar\u001b[39m]] = scala.collection.mutable.SetBuilder@5a5030dc"
      ]
     },
     "execution_count": 24,
     "metadata": {},
     "output_type": "execute_result"
    }
   ],
   "source": [
    "b ++= List('e', 'l', 'l', 'o')"
   ]
  },
  {
   "cell_type": "code",
   "execution_count": 25,
   "metadata": {},
   "outputs": [
    {
     "data": {
      "text/plain": [
       "\u001b[36mhelloSet\u001b[39m: \u001b[32mSet\u001b[39m[\u001b[32mChar\u001b[39m] = \u001b[33mSet\u001b[39m(\u001b[32m'h'\u001b[39m, \u001b[32m'e'\u001b[39m, \u001b[32m'l'\u001b[39m, \u001b[32m'o'\u001b[39m)"
      ]
     },
     "execution_count": 25,
     "metadata": {},
     "output_type": "execute_result"
    }
   ],
   "source": [
    "val helloSet = b.result"
   ]
  },
  {
   "cell_type": "code",
   "execution_count": 31,
   "metadata": {},
   "outputs": [
    {
     "name": "stdout",
     "output_type": "stream",
     "text": [
      "scala.collection.mutable.SetBuilder@5a5030dc"
     ]
    }
   ],
   "source": [
    "print(b)"
   ]
  },
  {
   "cell_type": "code",
   "execution_count": 27,
   "metadata": {},
   "outputs": [
    {
     "data": {
      "text/plain": [
       "\u001b[36mb2\u001b[39m: \u001b[32mcollection\u001b[39m.\u001b[32mmutable\u001b[39m.\u001b[32mBuilder\u001b[39m[\u001b[32mInt\u001b[39m, \u001b[32mList\u001b[39m[\u001b[32mInt\u001b[39m]] = \u001b[33mListBuffer\u001b[39m()"
      ]
     },
     "execution_count": 27,
     "metadata": {},
     "output_type": "execute_result"
    }
   ],
   "source": [
    "val b2 = List.newBuilder[Int]"
   ]
  },
  {
   "cell_type": "code",
   "execution_count": 28,
   "metadata": {},
   "outputs": [
    {
     "data": {
      "text/plain": [
       "\u001b[36mres27\u001b[39m: \u001b[32mcollection\u001b[39m.\u001b[32mmutable\u001b[39m.\u001b[32mBuilder\u001b[39m[\u001b[32mInt\u001b[39m, \u001b[32mList\u001b[39m[\u001b[32mInt\u001b[39m]] = \u001b[33mListBuffer\u001b[39m(\u001b[32m1\u001b[39m)"
      ]
     },
     "execution_count": 28,
     "metadata": {},
     "output_type": "execute_result"
    }
   ],
   "source": [
    "b2 += 1"
   ]
  },
  {
   "cell_type": "code",
   "execution_count": 29,
   "metadata": {},
   "outputs": [
    {
     "data": {
      "text/plain": [
       "\u001b[36mres28\u001b[39m: \u001b[32mcollection\u001b[39m.\u001b[32mmutable\u001b[39m.\u001b[32mBuilder\u001b[39m[\u001b[32mInt\u001b[39m, \u001b[32mList\u001b[39m[\u001b[32mInt\u001b[39m]] = \u001b[33mListBuffer\u001b[39m(\u001b[32m1\u001b[39m, \u001b[32m1\u001b[39m, \u001b[32m2\u001b[39m, \u001b[32m3\u001b[39m, \u001b[32m4\u001b[39m, \u001b[32m5\u001b[39m)"
      ]
     },
     "execution_count": 29,
     "metadata": {},
     "output_type": "execute_result"
    }
   ],
   "source": [
    "b2 ++= List(1,2,3,4,5)"
   ]
  },
  {
   "cell_type": "code",
   "execution_count": 30,
   "metadata": {},
   "outputs": [
    {
     "name": "stdout",
     "output_type": "stream",
     "text": [
      "ListBuffer(1, 1, 2, 3, 4, 5)"
     ]
    }
   ],
   "source": [
    "print(b2)"
   ]
  },
  {
   "cell_type": "code",
   "execution_count": 32,
   "metadata": {},
   "outputs": [
    {
     "data": {
      "text/plain": [
       "\u001b[36mtest\u001b[39m: \u001b[32mList\u001b[39m[\u001b[32mInt\u001b[39m] = \u001b[33mList\u001b[39m(\u001b[32m1\u001b[39m, \u001b[32m1\u001b[39m, \u001b[32m2\u001b[39m, \u001b[32m3\u001b[39m, \u001b[32m4\u001b[39m, \u001b[32m5\u001b[39m)"
      ]
     },
     "execution_count": 32,
     "metadata": {},
     "output_type": "execute_result"
    }
   ],
   "source": [
    "val test = b2.result"
   ]
  },
  {
   "cell_type": "markdown",
   "metadata": {},
   "source": [
    "## 배열"
   ]
  },
  {
   "cell_type": "code",
   "execution_count": 33,
   "metadata": {},
   "outputs": [
    {
     "data": {
      "text/plain": [
       "\u001b[36mcolors\u001b[39m: \u001b[32mArray\u001b[39m[\u001b[32mString\u001b[39m] = \u001b[33mArray\u001b[39m(\u001b[32m\"red\"\u001b[39m, \u001b[32m\"green\"\u001b[39m, \u001b[32m\"blue\"\u001b[39m)"
      ]
     },
     "execution_count": 33,
     "metadata": {},
     "output_type": "execute_result"
    }
   ],
   "source": [
    "val colors = Array(\"red\", \"green\", \"blue\")"
   ]
  },
  {
   "cell_type": "code",
   "execution_count": 34,
   "metadata": {},
   "outputs": [],
   "source": [
    "colors(0) = \"purple\""
   ]
  },
  {
   "cell_type": "code",
   "execution_count": 35,
   "metadata": {},
   "outputs": [
    {
     "data": {
      "text/plain": [
       "\u001b[36mres34\u001b[39m: \u001b[32mArray\u001b[39m[\u001b[32mString\u001b[39m] = \u001b[33mArray\u001b[39m(\u001b[32m\"purple\"\u001b[39m, \u001b[32m\"green\"\u001b[39m, \u001b[32m\"blue\"\u001b[39m)"
      ]
     },
     "execution_count": 35,
     "metadata": {},
     "output_type": "execute_result"
    }
   ],
   "source": [
    "colors"
   ]
  },
  {
   "cell_type": "code",
   "execution_count": 36,
   "metadata": {},
   "outputs": [
    {
     "name": "stdout",
     "output_type": "stream",
     "text": [
      "very purple: [Ljava.lang.String;@1e82d628\n"
     ]
    }
   ],
   "source": [
    "println(\"very purple: \" + colors)"
   ]
  },
  {
   "cell_type": "code",
   "execution_count": 37,
   "metadata": {},
   "outputs": [
    {
     "data": {
      "text/plain": [
       "\u001b[36mfiles\u001b[39m: \u001b[32mArray\u001b[39m[\u001b[32mjava\u001b[39m.\u001b[32mio\u001b[39m.\u001b[32mFile\u001b[39m] = \u001b[33mArray\u001b[39m(\n",
       "  ./ch4.ipynb,\n",
       "  ./ch1.ipynb,\n",
       "  ./ch3.ipynb,\n",
       "  ./ch5.ipynb,\n",
       "  ./.ipynb_checkpoints,\n",
       "  ./ch2.ipynb,\n",
       "  ./ch7.ipynb,\n",
       "  ./ch6.ipynb\n",
       ")"
      ]
     },
     "execution_count": 37,
     "metadata": {},
     "output_type": "execute_result"
    }
   ],
   "source": [
    "val files = new java.io.File(\".\").listFiles"
   ]
  },
  {
   "cell_type": "code",
   "execution_count": 39,
   "metadata": {},
   "outputs": [
    {
     "data": {
      "text/plain": [
       "\u001b[36mscala\u001b[39m: \u001b[32mArray\u001b[39m[\u001b[32mString\u001b[39m] = \u001b[33mArray\u001b[39m(\n",
       "  \u001b[32m\"ch4.ipynb\"\u001b[39m,\n",
       "  \u001b[32m\"ch1.ipynb\"\u001b[39m,\n",
       "  \u001b[32m\"ch3.ipynb\"\u001b[39m,\n",
       "  \u001b[32m\"ch5.ipynb\"\u001b[39m,\n",
       "  \u001b[32m\"ch2.ipynb\"\u001b[39m,\n",
       "  \u001b[32m\"ch7.ipynb\"\u001b[39m,\n",
       "  \u001b[32m\"ch6.ipynb\"\u001b[39m\n",
       ")"
      ]
     },
     "execution_count": 39,
     "metadata": {},
     "output_type": "execute_result"
    }
   ],
   "source": [
    "val scala = files map (_.getName) filter(_ endsWith \"ipynb\")"
   ]
  },
  {
   "cell_type": "code",
   "execution_count": 43,
   "metadata": {},
   "outputs": [
    {
     "data": {
      "text/plain": [
       "\u001b[36mres42\u001b[39m: \u001b[32mString\u001b[39m = \u001b[32m\"purple\"\u001b[39m"
      ]
     },
     "execution_count": 43,
     "metadata": {},
     "output_type": "execute_result"
    }
   ],
   "source": [
    "colors(0).toString()"
   ]
  },
  {
   "cell_type": "markdown",
   "metadata": {},
   "source": [
    "## Seq와 시퀀스"
   ]
  },
  {
   "cell_type": "code",
   "execution_count": 44,
   "metadata": {},
   "outputs": [
    {
     "data": {
      "text/plain": [
       "\u001b[36minks\u001b[39m: \u001b[32mSeq\u001b[39m[\u001b[32mChar\u001b[39m] = \u001b[33mList\u001b[39m(\u001b[32m'C'\u001b[39m, \u001b[32m'M'\u001b[39m, \u001b[32m'Y'\u001b[39m, \u001b[32m'K'\u001b[39m)"
      ]
     },
     "execution_count": 44,
     "metadata": {},
     "output_type": "execute_result"
    }
   ],
   "source": [
    "val inks = Seq('C', 'M', 'Y', 'K')"
   ]
  },
  {
   "cell_type": "code",
   "execution_count": 45,
   "metadata": {},
   "outputs": [
    {
     "data": {
      "text/plain": [
       "\u001b[36mhi\u001b[39m: \u001b[32mString\u001b[39m = \u001b[32m\"Hello, World\"\u001b[39m"
      ]
     },
     "execution_count": 45,
     "metadata": {},
     "output_type": "execute_result"
    }
   ],
   "source": [
    "val hi = \"Hello, \" ++ \"worldly\" take 12 replaceAll (\"w\", \"W\")"
   ]
  },
  {
   "cell_type": "markdown",
   "metadata": {},
   "source": [
    "## 스트림"
   ]
  },
  {
   "cell_type": "code",
   "execution_count": 46,
   "metadata": {},
   "outputs": [
    {
     "data": {
      "text/plain": [
       "defined \u001b[32mfunction\u001b[39m \u001b[36minc\u001b[39m"
      ]
     },
     "execution_count": 46,
     "metadata": {},
     "output_type": "execute_result"
    }
   ],
   "source": [
    "def inc(i: Int): Stream[Int] = Stream.cons(i, inc(i+1))"
   ]
  },
  {
   "cell_type": "code",
   "execution_count": 47,
   "metadata": {},
   "outputs": [
    {
     "data": {
      "text/plain": [
       "\u001b[36ms\u001b[39m: \u001b[32mStream\u001b[39m[\u001b[32mInt\u001b[39m] = \u001b[33mStream\u001b[39m(\n",
       "  \u001b[32m1\u001b[39m,\n",
       "  \u001b[32m2\u001b[39m,\n",
       "  \u001b[32m3\u001b[39m,\n",
       "  \u001b[32m4\u001b[39m,\n",
       "  \u001b[32m5\u001b[39m,\n",
       "  \u001b[32m6\u001b[39m,\n",
       "  \u001b[32m7\u001b[39m,\n",
       "  \u001b[32m8\u001b[39m,\n",
       "  \u001b[32m9\u001b[39m,\n",
       "  \u001b[32m10\u001b[39m,\n",
       "  \u001b[32m11\u001b[39m,\n",
       "  \u001b[32m12\u001b[39m,\n",
       "  \u001b[32m13\u001b[39m,\n",
       "  \u001b[32m14\u001b[39m,\n",
       "  \u001b[32m15\u001b[39m,\n",
       "  \u001b[32m16\u001b[39m,\n",
       "  \u001b[32m17\u001b[39m,\n",
       "  \u001b[32m18\u001b[39m,\n",
       "  \u001b[32m19\u001b[39m,\n",
       "  \u001b[32m20\u001b[39m,\n",
       "  \u001b[32m21\u001b[39m,\n",
       "  \u001b[32m22\u001b[39m,\n",
       "  \u001b[32m23\u001b[39m,\n",
       "  \u001b[32m24\u001b[39m,\n",
       "  \u001b[32m25\u001b[39m,\n",
       "  \u001b[32m26\u001b[39m,\n",
       "  \u001b[32m27\u001b[39m,\n",
       "  \u001b[32m28\u001b[39m,\n",
       "  \u001b[32m29\u001b[39m,\n",
       "  \u001b[32m30\u001b[39m,\n",
       "  \u001b[32m31\u001b[39m,\n",
       "  \u001b[32m32\u001b[39m,\n",
       "  \u001b[32m33\u001b[39m,\n",
       "  \u001b[32m34\u001b[39m,\n",
       "  \u001b[32m35\u001b[39m,\n",
       "  \u001b[32m36\u001b[39m,\n",
       "  \u001b[32m37\u001b[39m,\n",
       "  \u001b[32m38\u001b[39m,\n",
       "..."
      ]
     },
     "execution_count": 47,
     "metadata": {},
     "output_type": "execute_result"
    }
   ],
   "source": [
    "val s = inc(1)"
   ]
  },
  {
   "cell_type": "code",
   "execution_count": 48,
   "metadata": {},
   "outputs": [
    {
     "data": {
      "text/plain": [
       "\u001b[36ml\u001b[39m: \u001b[32mList\u001b[39m[\u001b[32mInt\u001b[39m] = \u001b[33mList\u001b[39m(\u001b[32m1\u001b[39m, \u001b[32m2\u001b[39m, \u001b[32m3\u001b[39m, \u001b[32m4\u001b[39m, \u001b[32m5\u001b[39m)"
      ]
     },
     "execution_count": 48,
     "metadata": {},
     "output_type": "execute_result"
    }
   ],
   "source": [
    "val l = s.take(5).toList"
   ]
  },
  {
   "cell_type": "code",
   "execution_count": 49,
   "metadata": {},
   "outputs": [
    {
     "data": {
      "text/plain": [
       "\u001b[36mres48\u001b[39m: \u001b[32mStream\u001b[39m[\u001b[32mInt\u001b[39m] = \u001b[33mStream\u001b[39m(\n",
       "  \u001b[32m1\u001b[39m,\n",
       "  \u001b[32m2\u001b[39m,\n",
       "  \u001b[32m3\u001b[39m,\n",
       "  \u001b[32m4\u001b[39m,\n",
       "  \u001b[32m5\u001b[39m,\n",
       "  \u001b[32m6\u001b[39m,\n",
       "  \u001b[32m7\u001b[39m,\n",
       "  \u001b[32m8\u001b[39m,\n",
       "  \u001b[32m9\u001b[39m,\n",
       "  \u001b[32m10\u001b[39m,\n",
       "  \u001b[32m11\u001b[39m,\n",
       "  \u001b[32m12\u001b[39m,\n",
       "  \u001b[32m13\u001b[39m,\n",
       "  \u001b[32m14\u001b[39m,\n",
       "  \u001b[32m15\u001b[39m,\n",
       "  \u001b[32m16\u001b[39m,\n",
       "  \u001b[32m17\u001b[39m,\n",
       "  \u001b[32m18\u001b[39m,\n",
       "  \u001b[32m19\u001b[39m,\n",
       "  \u001b[32m20\u001b[39m,\n",
       "  \u001b[32m21\u001b[39m,\n",
       "  \u001b[32m22\u001b[39m,\n",
       "  \u001b[32m23\u001b[39m,\n",
       "  \u001b[32m24\u001b[39m,\n",
       "  \u001b[32m25\u001b[39m,\n",
       "  \u001b[32m26\u001b[39m,\n",
       "  \u001b[32m27\u001b[39m,\n",
       "  \u001b[32m28\u001b[39m,\n",
       "  \u001b[32m29\u001b[39m,\n",
       "  \u001b[32m30\u001b[39m,\n",
       "  \u001b[32m31\u001b[39m,\n",
       "  \u001b[32m32\u001b[39m,\n",
       "  \u001b[32m33\u001b[39m,\n",
       "  \u001b[32m34\u001b[39m,\n",
       "  \u001b[32m35\u001b[39m,\n",
       "  \u001b[32m36\u001b[39m,\n",
       "  \u001b[32m37\u001b[39m,\n",
       "  \u001b[32m38\u001b[39m,\n",
       "..."
      ]
     },
     "execution_count": 49,
     "metadata": {},
     "output_type": "execute_result"
    }
   ],
   "source": [
    "s"
   ]
  },
  {
   "cell_type": "code",
   "execution_count": 50,
   "metadata": {},
   "outputs": [
    {
     "data": {
      "text/plain": [
       "defined \u001b[32mfunction\u001b[39m \u001b[36minc\u001b[39m"
      ]
     },
     "execution_count": 50,
     "metadata": {},
     "output_type": "execute_result"
    }
   ],
   "source": [
    "def inc(head: Int): Stream[Int] = head #:: inc(head+1)"
   ]
  },
  {
   "cell_type": "code",
   "execution_count": 51,
   "metadata": {},
   "outputs": [
    {
     "data": {
      "text/plain": [
       "\u001b[36mres50\u001b[39m: \u001b[32mList\u001b[39m[\u001b[32mInt\u001b[39m] = \u001b[33mList\u001b[39m(\u001b[32m10\u001b[39m, \u001b[32m11\u001b[39m, \u001b[32m12\u001b[39m, \u001b[32m13\u001b[39m, \u001b[32m14\u001b[39m, \u001b[32m15\u001b[39m, \u001b[32m16\u001b[39m, \u001b[32m17\u001b[39m, \u001b[32m18\u001b[39m, \u001b[32m19\u001b[39m)"
      ]
     },
     "execution_count": 51,
     "metadata": {},
     "output_type": "execute_result"
    }
   ],
   "source": [
    "inc(10).take(10).toList"
   ]
  },
  {
   "cell_type": "code",
   "execution_count": 52,
   "metadata": {},
   "outputs": [
    {
     "data": {
      "text/plain": [
       "defined \u001b[32mfunction\u001b[39m \u001b[36mto\u001b[39m"
      ]
     },
     "execution_count": 52,
     "metadata": {},
     "output_type": "execute_result"
    }
   ],
   "source": [
    "def to(head: Char, end: Char): Stream[Char] = (head > end) match {\n",
    "    case true => Stream.empty\n",
    "    case false => head #:: to((head+1).toChar, end)\n",
    "}"
   ]
  },
  {
   "cell_type": "code",
   "execution_count": 53,
   "metadata": {},
   "outputs": [
    {
     "data": {
      "text/plain": [
       "\u001b[36mhexChars\u001b[39m: \u001b[32mList\u001b[39m[\u001b[32mChar\u001b[39m] = \u001b[33mList\u001b[39m(\u001b[32m'A'\u001b[39m, \u001b[32m'B'\u001b[39m, \u001b[32m'C'\u001b[39m, \u001b[32m'D'\u001b[39m, \u001b[32m'E'\u001b[39m, \u001b[32m'F'\u001b[39m)"
      ]
     },
     "execution_count": 53,
     "metadata": {},
     "output_type": "execute_result"
    }
   ],
   "source": [
    "val hexChars = to('A', 'F').take(20).toList"
   ]
  },
  {
   "cell_type": "code",
   "execution_count": 54,
   "metadata": {},
   "outputs": [
    {
     "data": {
      "text/plain": [
       "\u001b[36mhexChars2\u001b[39m: \u001b[32mList\u001b[39m[\u001b[32mChar\u001b[39m] = \u001b[33mList\u001b[39m(\u001b[32m'A'\u001b[39m, \u001b[32m'B'\u001b[39m, \u001b[32m'C'\u001b[39m, \u001b[32m'D'\u001b[39m, \u001b[32m'E'\u001b[39m, \u001b[32m'F'\u001b[39m)"
      ]
     },
     "execution_count": 54,
     "metadata": {},
     "output_type": "execute_result"
    }
   ],
   "source": [
    "val hexChars2 = to('A', 'F').take(10).toList"
   ]
  },
  {
   "cell_type": "code",
   "execution_count": 55,
   "metadata": {},
   "outputs": [
    {
     "data": {
      "text/plain": [
       "\u001b[36mhexChars3\u001b[39m: \u001b[32mList\u001b[39m[\u001b[32mChar\u001b[39m] = \u001b[33mList\u001b[39m(\u001b[32m'A'\u001b[39m, \u001b[32m'B'\u001b[39m, \u001b[32m'C'\u001b[39m)"
      ]
     },
     "execution_count": 55,
     "metadata": {},
     "output_type": "execute_result"
    }
   ],
   "source": [
    "val hexChars3 = to('A', 'F').take(3).toList"
   ]
  },
  {
   "cell_type": "markdown",
   "metadata": {},
   "source": [
    "## 모나딕 컬렉션"
   ]
  },
  {
   "cell_type": "code",
   "execution_count": 56,
   "metadata": {},
   "outputs": [
    {
     "data": {
      "text/html": [
       "<div class=\"jp-RenderedText\">\n",
       "<pre><code><span style=\"color: rgb(0, 187, 187)\"><span class=\"ansi-cyan-fg\">x</span></span>: <span style=\"color: rgb(0, 187, 0)\"><span class=\"ansi-green-fg\">String</span></span> = <style>@keyframes fadein { from { opacity: 0; } to { opacity: 1; } }</style><span style=\"animation: fadein 2s;\"><span style=\"color: rgb(0, 187, 0)\"><span class=\"ansi-green-fg\">null</span></span></span></code></pre>\n",
       "</div>"
      ],
      "text/plain": [
       "\u001b[36mx\u001b[39m: \u001b[32mString\u001b[39m = \u001b[32mnull\u001b[39m"
      ]
     },
     "metadata": {},
     "output_type": "display_data"
    }
   ],
   "source": [
    "var x: String = \"Indeed\""
   ]
  },
  {
   "cell_type": "code",
   "execution_count": 57,
   "metadata": {},
   "outputs": [
    {
     "data": {
      "text/html": [
       "<div class=\"jp-RenderedText\">\n",
       "<pre><code><span style=\"color: rgb(0, 187, 187)\"><span class=\"ansi-cyan-fg\">a</span></span>: <span style=\"color: rgb(0, 187, 0)\"><span class=\"ansi-green-fg\">Option</span></span>[<span style=\"color: rgb(0, 187, 0)\"><span class=\"ansi-green-fg\">String</span></span>] = <span style=\"color: yellow\"><span class=\"ansi-yellow-fg\">Some</span></span>(<span style=\"color: rgb(0, 187, 0)\"><span class=\"ansi-green-fg\">&quot;Indeed&quot;</span></span>)</code></pre>\n",
       "</div>"
      ],
      "text/plain": [
       "\u001b[36ma\u001b[39m: \u001b[32mOption\u001b[39m[\u001b[32mString\u001b[39m] = \u001b[33mSome\u001b[39m(\u001b[32m\"Indeed\"\u001b[39m)"
      ]
     },
     "metadata": {},
     "output_type": "display_data"
    }
   ],
   "source": [
    "var a = Option(x)"
   ]
  },
  {
   "cell_type": "code",
   "execution_count": 58,
   "metadata": {},
   "outputs": [],
   "source": [
    "x = null"
   ]
  },
  {
   "cell_type": "code",
   "execution_count": 59,
   "metadata": {},
   "outputs": [
    {
     "data": {
      "text/html": [
       "<div class=\"jp-RenderedText\">\n",
       "<pre><code><span style=\"color: rgb(0, 187, 187)\"><span class=\"ansi-cyan-fg\">b</span></span>: <span style=\"color: rgb(0, 187, 0)\"><span class=\"ansi-green-fg\">Option</span></span>[<span style=\"color: rgb(0, 187, 0)\"><span class=\"ansi-green-fg\">String</span></span>] = <span style=\"color: rgb(0, 187, 0)\"><span class=\"ansi-green-fg\">None</span></span></code></pre>\n",
       "</div>"
      ],
      "text/plain": [
       "\u001b[36mb\u001b[39m: \u001b[32mOption\u001b[39m[\u001b[32mString\u001b[39m] = \u001b[32mNone\u001b[39m"
      ]
     },
     "metadata": {},
     "output_type": "display_data"
    }
   ],
   "source": [
    "var b = Option(x)"
   ]
  },
  {
   "cell_type": "code",
   "execution_count": 60,
   "metadata": {},
   "outputs": [
    {
     "name": "stdout",
     "output_type": "stream",
     "text": [
      "a is defined? true\n"
     ]
    }
   ],
   "source": [
    "println(s\"a is defined? ${a.isDefined}\")"
   ]
  },
  {
   "cell_type": "code",
   "execution_count": 61,
   "metadata": {},
   "outputs": [
    {
     "name": "stdout",
     "output_type": "stream",
     "text": [
      "b is defined? false\n"
     ]
    }
   ],
   "source": [
    "println(s\"b is defined? ${b.isDefined}\")"
   ]
  },
  {
   "cell_type": "code",
   "execution_count": 62,
   "metadata": {},
   "outputs": [
    {
     "data": {
      "text/plain": [
       "defined \u001b[32mfunction\u001b[39m \u001b[36mdivide\u001b[39m"
      ]
     },
     "execution_count": 62,
     "metadata": {},
     "output_type": "execute_result"
    }
   ],
   "source": [
    "def divide(amt: Double, divisor: Double): Option[Double] = {\n",
    "    if (divisor == 0) None\n",
    "    else Option(amt / divisor)\n",
    "}"
   ]
  },
  {
   "cell_type": "code",
   "execution_count": 63,
   "metadata": {},
   "outputs": [
    {
     "data": {
      "text/plain": [
       "\u001b[36mlegit\u001b[39m: \u001b[32mOption\u001b[39m[\u001b[32mDouble\u001b[39m] = \u001b[33mSome\u001b[39m(\u001b[32m2.5\u001b[39m)"
      ]
     },
     "execution_count": 63,
     "metadata": {},
     "output_type": "execute_result"
    }
   ],
   "source": [
    "val legit = divide(5, 2)"
   ]
  },
  {
   "cell_type": "code",
   "execution_count": 64,
   "metadata": {},
   "outputs": [
    {
     "data": {
      "text/plain": [
       "\u001b[36millegit\u001b[39m: \u001b[32mOption\u001b[39m[\u001b[32mDouble\u001b[39m] = \u001b[32mNone\u001b[39m"
      ]
     },
     "execution_count": 64,
     "metadata": {},
     "output_type": "execute_result"
    }
   ],
   "source": [
    "val illegit = divide(3, 0)"
   ]
  },
  {
   "cell_type": "code",
   "execution_count": 65,
   "metadata": {},
   "outputs": [
    {
     "data": {
      "text/plain": [
       "\u001b[36modds\u001b[39m: \u001b[32mList\u001b[39m[\u001b[32mInt\u001b[39m] = \u001b[33mList\u001b[39m(\u001b[32m1\u001b[39m, \u001b[32m3\u001b[39m, \u001b[32m5\u001b[39m)"
      ]
     },
     "execution_count": 65,
     "metadata": {},
     "output_type": "execute_result"
    }
   ],
   "source": [
    "val odds = List(1, 3, 5)"
   ]
  },
  {
   "cell_type": "code",
   "execution_count": 66,
   "metadata": {},
   "outputs": [
    {
     "data": {
      "text/plain": [
       "\u001b[36mfirstOdd\u001b[39m: \u001b[32mOption\u001b[39m[\u001b[32mInt\u001b[39m] = \u001b[33mSome\u001b[39m(\u001b[32m1\u001b[39m)"
      ]
     },
     "execution_count": 66,
     "metadata": {},
     "output_type": "execute_result"
    }
   ],
   "source": [
    "val firstOdd = odds.headOption"
   ]
  },
  {
   "cell_type": "code",
   "execution_count": 67,
   "metadata": {},
   "outputs": [
    {
     "data": {
      "text/plain": [
       "\u001b[36mevens\u001b[39m: \u001b[32mList\u001b[39m[\u001b[32mInt\u001b[39m] = \u001b[33mList\u001b[39m()"
      ]
     },
     "execution_count": 67,
     "metadata": {},
     "output_type": "execute_result"
    }
   ],
   "source": [
    "val evens = odds filter (_ % 2 == 0)"
   ]
  },
  {
   "cell_type": "code",
   "execution_count": 68,
   "metadata": {},
   "outputs": [
    {
     "data": {
      "text/plain": [
       "\u001b[36mfirstEven\u001b[39m: \u001b[32mOption\u001b[39m[\u001b[32mInt\u001b[39m] = \u001b[32mNone\u001b[39m"
      ]
     },
     "execution_count": 68,
     "metadata": {},
     "output_type": "execute_result"
    }
   ],
   "source": [
    "val firstEven = evens.headOption"
   ]
  },
  {
   "cell_type": "code",
   "execution_count": 69,
   "metadata": {},
   "outputs": [
    {
     "data": {
      "text/plain": [
       "\u001b[36mwords\u001b[39m: \u001b[32mList\u001b[39m[\u001b[32mString\u001b[39m] = \u001b[33mList\u001b[39m(\u001b[32m\"risible\"\u001b[39m, \u001b[32m\"scavenger\"\u001b[39m, \u001b[32m\"gist\"\u001b[39m)"
      ]
     },
     "execution_count": 69,
     "metadata": {},
     "output_type": "execute_result"
    }
   ],
   "source": [
    "val words = List(\"risible\", \"scavenger\", \"gist\")"
   ]
  },
  {
   "cell_type": "code",
   "execution_count": 70,
   "metadata": {},
   "outputs": [
    {
     "data": {
      "text/plain": [
       "\u001b[36muppercase\u001b[39m: \u001b[32mOption\u001b[39m[\u001b[32mString\u001b[39m] = \u001b[32mNone\u001b[39m"
      ]
     },
     "execution_count": 70,
     "metadata": {},
     "output_type": "execute_result"
    }
   ],
   "source": [
    "val uppercase = words find (w => w == w.toUpperCase)"
   ]
  },
  {
   "cell_type": "code",
   "execution_count": 71,
   "metadata": {},
   "outputs": [
    {
     "data": {
      "text/plain": [
       "\u001b[36mlowercase\u001b[39m: \u001b[32mOption\u001b[39m[\u001b[32mString\u001b[39m] = \u001b[33mSome\u001b[39m(\u001b[32m\"risible\"\u001b[39m)"
      ]
     },
     "execution_count": 71,
     "metadata": {},
     "output_type": "execute_result"
    }
   ],
   "source": [
    "val lowercase = words find (w => w == w.toLowerCase)"
   ]
  },
  {
   "cell_type": "code",
   "execution_count": 72,
   "metadata": {},
   "outputs": [
    {
     "data": {
      "text/plain": [
       "\u001b[36mfiltered\u001b[39m: \u001b[32mOption\u001b[39m[\u001b[32mString\u001b[39m] = \u001b[33mSome\u001b[39m(\u001b[32m\"RISIBLE\"\u001b[39m)"
      ]
     },
     "execution_count": 72,
     "metadata": {},
     "output_type": "execute_result"
    }
   ],
   "source": [
    "val filtered = lowercase filter (_ endsWith \"ible\") map (_.toUpperCase)"
   ]
  },
  {
   "cell_type": "code",
   "execution_count": 73,
   "metadata": {},
   "outputs": [
    {
     "data": {
      "text/plain": [
       "\u001b[36mexactSize\u001b[39m: \u001b[32mOption\u001b[39m[\u001b[32mInt\u001b[39m] = \u001b[32mNone\u001b[39m"
      ]
     },
     "execution_count": 73,
     "metadata": {},
     "output_type": "execute_result"
    }
   ],
   "source": [
    "val exactSize = filtered filter (_.size > 15) map (_.size)"
   ]
  },
  {
   "cell_type": "markdown",
   "metadata": {},
   "source": [
    "## Option으로부터 값 추출하기"
   ]
  },
  {
   "cell_type": "code",
   "execution_count": 1,
   "metadata": {},
   "outputs": [
    {
     "data": {
      "text/plain": [
       "\u001b[32mimport \u001b[39m\u001b[36mscala.util\u001b[39m"
      ]
     },
     "execution_count": 1,
     "metadata": {},
     "output_type": "execute_result"
    }
   ],
   "source": [
    "import scala.util"
   ]
  },
  {
   "cell_type": "code",
   "execution_count": 2,
   "metadata": {},
   "outputs": [
    {
     "data": {
      "text/plain": [
       "defined \u001b[32mfunction\u001b[39m \u001b[36mnextOption\u001b[39m"
      ]
     },
     "execution_count": 2,
     "metadata": {},
     "output_type": "execute_result"
    }
   ],
   "source": [
    "def nextOption = if (util.Random.nextInt > 0) Some(1) else None"
   ]
  },
  {
   "cell_type": "code",
   "execution_count": 3,
   "metadata": {},
   "outputs": [
    {
     "data": {
      "text/plain": [
       "\u001b[36ma\u001b[39m: \u001b[32mOption\u001b[39m[\u001b[32mInt\u001b[39m] = \u001b[33mSome\u001b[39m(\u001b[32m1\u001b[39m)"
      ]
     },
     "execution_count": 3,
     "metadata": {},
     "output_type": "execute_result"
    }
   ],
   "source": [
    "val a = nextOption"
   ]
  },
  {
   "cell_type": "code",
   "execution_count": 12,
   "metadata": {},
   "outputs": [
    {
     "data": {
      "text/plain": [
       "\u001b[36mb\u001b[39m: \u001b[32mOption\u001b[39m[\u001b[32mInt\u001b[39m] = \u001b[32mNone\u001b[39m"
      ]
     },
     "execution_count": 12,
     "metadata": {},
     "output_type": "execute_result"
    }
   ],
   "source": [
    "val b = nextOption"
   ]
  },
  {
   "cell_type": "code",
   "execution_count": 25,
   "metadata": {},
   "outputs": [
    {
     "data": {
      "text/plain": [
       "\u001b[36mres24\u001b[39m: \u001b[32mInt\u001b[39m = \u001b[32m1\u001b[39m"
      ]
     },
     "execution_count": 25,
     "metadata": {},
     "output_type": "execute_result"
    }
   ],
   "source": [
    "nextOption.fold(-1)(x => x)"
   ]
  },
  {
   "cell_type": "code",
   "execution_count": 26,
   "metadata": {},
   "outputs": [
    {
     "data": {
      "text/plain": [
       "\u001b[36mres25\u001b[39m: \u001b[32mInt\u001b[39m = \u001b[32m5\u001b[39m"
      ]
     },
     "execution_count": 26,
     "metadata": {},
     "output_type": "execute_result"
    }
   ],
   "source": [
    "nextOption getOrElse 5"
   ]
  },
  {
   "cell_type": "code",
   "execution_count": 27,
   "metadata": {},
   "outputs": [
    {
     "data": {
      "text/plain": [
       "\u001b[36mres26\u001b[39m: \u001b[32mOption\u001b[39m[\u001b[32mInt\u001b[39m] = \u001b[32mNone\u001b[39m"
      ]
     },
     "execution_count": 27,
     "metadata": {},
     "output_type": "execute_result"
    }
   ],
   "source": [
    "nextOption orElse nextOption"
   ]
  },
  {
   "cell_type": "code",
   "execution_count": 28,
   "metadata": {},
   "outputs": [
    {
     "data": {
      "text/plain": [
       "\u001b[36mres27\u001b[39m: \u001b[32mInt\u001b[39m = \u001b[32m-1\u001b[39m"
      ]
     },
     "execution_count": 28,
     "metadata": {},
     "output_type": "execute_result"
    }
   ],
   "source": [
    "nextOption match { case Some(x) => x; case None => -1}"
   ]
  },
  {
   "cell_type": "markdown",
   "metadata": {},
   "source": [
    "## Try 컬렉션"
   ]
  },
  {
   "cell_type": "code",
   "execution_count": 13,
   "metadata": {},
   "outputs": [
    {
     "ename": "",
     "evalue": "",
     "output_type": "error",
     "traceback": [
      "\u001b[31mjava.lang.Exception: No DB connection, exiting...\u001b[39m\n  ammonite.$sess.cmd12$Helper.<init>(\u001b[32mcmd12.sc\u001b[39m:\u001b[32m1\u001b[39m)\n  ammonite.$sess.cmd12$.<init>(\u001b[32mcmd12.sc\u001b[39m:\u001b[32m7\u001b[39m)\n  ammonite.$sess.cmd12$.<clinit>(\u001b[32mcmd12.sc\u001b[39m:\u001b[32m-1\u001b[39m)"
     ]
    }
   ],
   "source": [
    "throw new Exception(\"No DB connection, exiting...\")"
   ]
  },
  {
   "cell_type": "code",
   "execution_count": 14,
   "metadata": {},
   "outputs": [
    {
     "data": {
      "text/plain": [
       "defined \u001b[32mfunction\u001b[39m \u001b[36mloopAndFail\u001b[39m"
      ]
     },
     "execution_count": 14,
     "metadata": {},
     "output_type": "execute_result"
    }
   ],
   "source": [
    "def loopAndFail(end: Int, failAt: Int): Int = {\n",
    "    for (i <- 1 to end) {\n",
    "        println(s\"$i) \")\n",
    "        if (i == failAt) throw new Exception(\"Too many iterations\")\n",
    "    }\n",
    "    end\n",
    "}"
   ]
  },
  {
   "cell_type": "code",
   "execution_count": 15,
   "metadata": {},
   "outputs": [
    {
     "name": "stdout",
     "output_type": "stream",
     "text": [
      "1) \n",
      "2) \n",
      "3) \n"
     ]
    },
    {
     "ename": "",
     "evalue": "",
     "output_type": "error",
     "traceback": [
      "\u001b[31mjava.lang.Exception: Too many iterations\u001b[39m\n  ammonite.$sess.cmd13$Helper.$anonfun$loopAndFail$1(\u001b[32mcmd13.sc\u001b[39m:\u001b[32m4\u001b[39m)\n  scala.collection.immutable.Range.foreach$mVc$sp(\u001b[32mRange.scala\u001b[39m:\u001b[32m158\u001b[39m)\n  ammonite.$sess.cmd13$Helper.loopAndFail(\u001b[32mcmd13.sc\u001b[39m:\u001b[32m2\u001b[39m)\n  ammonite.$sess.cmd14$Helper.<init>(\u001b[32mcmd14.sc\u001b[39m:\u001b[32m1\u001b[39m)\n  ammonite.$sess.cmd14$.<init>(\u001b[32mcmd14.sc\u001b[39m:\u001b[32m7\u001b[39m)\n  ammonite.$sess.cmd14$.<clinit>(\u001b[32mcmd14.sc\u001b[39m:\u001b[32m-1\u001b[39m)"
     ]
    }
   ],
   "source": [
    "loopAndFail(10, 3)"
   ]
  },
  {
   "cell_type": "code",
   "execution_count": 16,
   "metadata": {},
   "outputs": [
    {
     "name": "stdout",
     "output_type": "stream",
     "text": [
      "1) \n",
      "2) \n"
     ]
    },
    {
     "data": {
      "text/plain": [
       "\u001b[36mt1\u001b[39m: \u001b[32mutil\u001b[39m.\u001b[32mTry\u001b[39m[\u001b[32mInt\u001b[39m] = \u001b[33mSuccess\u001b[39m(\u001b[32m2\u001b[39m)"
      ]
     },
     "execution_count": 16,
     "metadata": {},
     "output_type": "execute_result"
    }
   ],
   "source": [
    "val t1 = util.Try(loopAndFail(2,3))"
   ]
  },
  {
   "cell_type": "code",
   "execution_count": 17,
   "metadata": {},
   "outputs": [
    {
     "name": "stdout",
     "output_type": "stream",
     "text": [
      "1) \n",
      "2) \n"
     ]
    },
    {
     "data": {
      "text/plain": [
       "\u001b[36mt1\u001b[39m: \u001b[32mutil\u001b[39m.\u001b[32mTry\u001b[39m[\u001b[32mInt\u001b[39m] = \u001b[33mFailure\u001b[39m(java.lang.Exception: Too many iterations)"
      ]
     },
     "execution_count": 17,
     "metadata": {},
     "output_type": "execute_result"
    }
   ],
   "source": [
    "val t1 = util.Try(loopAndFail(4,2))"
   ]
  },
  {
   "cell_type": "code",
   "execution_count": 18,
   "metadata": {},
   "outputs": [
    {
     "data": {
      "text/plain": [
       "defined \u001b[32mfunction\u001b[39m \u001b[36mnextError\u001b[39m"
      ]
     },
     "execution_count": 18,
     "metadata": {},
     "output_type": "execute_result"
    }
   ],
   "source": [
    "def nextError = util.Try { 1/ util.Random.nextInt(2)}"
   ]
  },
  {
   "cell_type": "code",
   "execution_count": 19,
   "metadata": {},
   "outputs": [
    {
     "data": {
      "text/plain": [
       "\u001b[36mx\u001b[39m: \u001b[32mutil\u001b[39m.\u001b[32mTry\u001b[39m[\u001b[32mInt\u001b[39m] = \u001b[33mSuccess\u001b[39m(\u001b[32m1\u001b[39m)"
      ]
     },
     "execution_count": 19,
     "metadata": {},
     "output_type": "execute_result"
    }
   ],
   "source": [
    "val x = nextError"
   ]
  },
  {
   "cell_type": "code",
   "execution_count": 24,
   "metadata": {},
   "outputs": [
    {
     "data": {
      "text/plain": [
       "\u001b[36my\u001b[39m: \u001b[32mutil\u001b[39m.\u001b[32mTry\u001b[39m[\u001b[32mInt\u001b[39m] = \u001b[33mFailure\u001b[39m(java.lang.ArithmeticException: / by zero)"
      ]
     },
     "execution_count": 24,
     "metadata": {},
     "output_type": "execute_result"
    }
   ],
   "source": [
    "val y = nextError"
   ]
  },
  {
   "cell_type": "code",
   "execution_count": 29,
   "metadata": {},
   "outputs": [
    {
     "data": {
      "text/plain": [
       "\u001b[36mres28\u001b[39m: \u001b[32mutil\u001b[39m.\u001b[32mTry\u001b[39m[\u001b[32mInt\u001b[39m] = \u001b[33mFailure\u001b[39m(java.lang.ArithmeticException: / by zero)"
      ]
     },
     "execution_count": 29,
     "metadata": {},
     "output_type": "execute_result"
    }
   ],
   "source": [
    "nextError flatMap { _ => nextError}"
   ]
  },
  {
   "cell_type": "code",
   "execution_count": 30,
   "metadata": {},
   "outputs": [],
   "source": [
    "nextError foreach(x=>println(\"success!\" + x))"
   ]
  },
  {
   "cell_type": "code",
   "execution_count": 31,
   "metadata": {},
   "outputs": [
    {
     "data": {
      "text/plain": [
       "\u001b[36mres30\u001b[39m: \u001b[32mInt\u001b[39m = \u001b[32m0\u001b[39m"
      ]
     },
     "execution_count": 31,
     "metadata": {},
     "output_type": "execute_result"
    }
   ],
   "source": [
    "nextError getOrElse 0"
   ]
  },
  {
   "cell_type": "code",
   "execution_count": 32,
   "metadata": {},
   "outputs": [
    {
     "data": {
      "text/plain": [
       "\u001b[36mres31\u001b[39m: \u001b[32mutil\u001b[39m.\u001b[32mTry\u001b[39m[\u001b[32mInt\u001b[39m] = \u001b[33mSuccess\u001b[39m(\u001b[32m1\u001b[39m)"
      ]
     },
     "execution_count": 32,
     "metadata": {},
     "output_type": "execute_result"
    }
   ],
   "source": [
    "nextError orElse nextError"
   ]
  },
  {
   "cell_type": "code",
   "execution_count": 33,
   "metadata": {},
   "outputs": [
    {
     "data": {
      "text/plain": [
       "\u001b[36mres32\u001b[39m: \u001b[32mOption\u001b[39m[\u001b[32mInt\u001b[39m] = \u001b[33mSome\u001b[39m(\u001b[32m1\u001b[39m)"
      ]
     },
     "execution_count": 33,
     "metadata": {},
     "output_type": "execute_result"
    }
   ],
   "source": [
    "nextError.toOption"
   ]
  },
  {
   "cell_type": "code",
   "execution_count": 34,
   "metadata": {},
   "outputs": [
    {
     "data": {
      "text/plain": [
       "\u001b[36mres33\u001b[39m: \u001b[32mutil\u001b[39m.\u001b[32mTry\u001b[39m[\u001b[32mInt\u001b[39m] = \u001b[33mFailure\u001b[39m(java.lang.ArithmeticException: / by zero)"
      ]
     },
     "execution_count": 34,
     "metadata": {},
     "output_type": "execute_result"
    }
   ],
   "source": [
    "nextError map (_ * 2)"
   ]
  },
  {
   "cell_type": "code",
   "execution_count": 35,
   "metadata": {},
   "outputs": [
    {
     "data": {
      "text/plain": [
       "\u001b[36mres34\u001b[39m: \u001b[32mInt\u001b[39m = \u001b[32m-1\u001b[39m"
      ]
     },
     "execution_count": 35,
     "metadata": {},
     "output_type": "execute_result"
    }
   ],
   "source": [
    "nextError match { case util.Success(x) => x;\n",
    "                case util.Failure(error) => -1}"
   ]
  },
  {
   "cell_type": "code",
   "execution_count": 49,
   "metadata": {},
   "outputs": [
    {
     "data": {
      "text/plain": [
       "\u001b[36mres48\u001b[39m: \u001b[32mutil\u001b[39m.\u001b[32mTry\u001b[39m[\u001b[32mInt\u001b[39m] = \u001b[33mSuccess\u001b[39m(\u001b[32m1\u001b[39m)"
      ]
     },
     "execution_count": 49,
     "metadata": {},
     "output_type": "execute_result"
    }
   ],
   "source": [
    "nextError"
   ]
  },
  {
   "cell_type": "code",
   "execution_count": 37,
   "metadata": {},
   "outputs": [
    {
     "data": {
      "text/plain": [
       "\u001b[36minput\u001b[39m: \u001b[32mString\u001b[39m = \u001b[32m\" 123 \"\u001b[39m"
      ]
     },
     "execution_count": 37,
     "metadata": {},
     "output_type": "execute_result"
    }
   ],
   "source": [
    "val input = \" 123 \""
   ]
  },
  {
   "cell_type": "code",
   "execution_count": 50,
   "metadata": {},
   "outputs": [
    {
     "data": {
      "text/plain": [
       "\u001b[36mresult\u001b[39m: \u001b[32mutil\u001b[39m.\u001b[32mTry\u001b[39m[\u001b[32mInt\u001b[39m] = \u001b[33mSuccess\u001b[39m(\u001b[32m123\u001b[39m)"
      ]
     },
     "execution_count": 50,
     "metadata": {},
     "output_type": "execute_result"
    }
   ],
   "source": [
    "val result = util.Try(input.toInt) orElse util.Try(input.trim.toInt)"
   ]
  },
  {
   "cell_type": "code",
   "execution_count": 51,
   "metadata": {},
   "outputs": [
    {
     "name": "stdout",
     "output_type": "stream",
     "text": [
      "Parsed ' 123 ' to 123!\n"
     ]
    }
   ],
   "source": [
    "result foreach { r => println(s\"Parsed '$input' to $r!\")}"
   ]
  },
  {
   "cell_type": "code",
   "execution_count": 52,
   "metadata": {},
   "outputs": [
    {
     "data": {
      "text/plain": [
       "\u001b[36mx\u001b[39m: \u001b[32mOption\u001b[39m[\u001b[32mInt\u001b[39m] = \u001b[33mSome\u001b[39m(\u001b[32m123\u001b[39m)"
      ]
     },
     "execution_count": 52,
     "metadata": {},
     "output_type": "execute_result"
    }
   ],
   "source": [
    "val x = result match {\n",
    "    case util.Success(x) => Some(x)\n",
    "    case util.Failure(ex) => {\n",
    "        println(s\"Couldn't parse input '$input'\")\n",
    "        None\n",
    "    }\n",
    "}"
   ]
  },
  {
   "cell_type": "markdown",
   "metadata": {},
   "source": [
    "## 퓨처 컬렉션"
   ]
  },
  {
   "cell_type": "code",
   "execution_count": 53,
   "metadata": {},
   "outputs": [
    {
     "data": {
      "text/plain": [
       "\u001b[32mimport \u001b[39m\u001b[36mconcurrent.ExecutionContext.Implicits.global\u001b[39m"
      ]
     },
     "execution_count": 53,
     "metadata": {},
     "output_type": "execute_result"
    }
   ],
   "source": [
    "import concurrent.ExecutionContext.Implicits.global"
   ]
  },
  {
   "cell_type": "code",
   "execution_count": 54,
   "metadata": {},
   "outputs": [
    {
     "name": "stdout",
     "output_type": "stream",
     "text": [
      "hi\n"
     ]
    },
    {
     "data": {
      "text/html": [
       "<div class=\"jp-RenderedText\">\n",
       "<pre><code><span style=\"color: rgb(0, 187, 187)\"><span class=\"ansi-cyan-fg\">f</span></span>: <span style=\"color: rgb(0, 187, 0)\"><span class=\"ansi-green-fg\">concurrent</span></span>.<span style=\"color: rgb(0, 187, 0)\"><span class=\"ansi-green-fg\">Future</span></span>[<span style=\"color: rgb(0, 187, 0)\"><span class=\"ansi-green-fg\">Unit</span></span>] = <span style=\"color: rgb(0, 187, 0)\"><span class=\"ansi-green-fg\"><span style=\"color: yellow\"><span class=\"ansi-yellow-fg\">Success</span></span>(())</span></span></code></pre>\n",
       "</div>"
      ],
      "text/plain": [
       "\u001b[36mf\u001b[39m: \u001b[32mconcurrent\u001b[39m.\u001b[32mFuture\u001b[39m[\u001b[32mUnit\u001b[39m] = \u001b[32m\u001b[33mSuccess\u001b[39m(())\u001b[39m"
      ]
     },
     "metadata": {},
     "output_type": "display_data"
    }
   ],
   "source": [
    "val f = concurrent.Future { println(\"hi\")}"
   ]
  },
  {
   "cell_type": "code",
   "execution_count": 57,
   "metadata": {},
   "outputs": [
    {
     "data": {
      "text/html": [
       "<div class=\"jp-RenderedText\">\n",
       "<pre><code><span style=\"color: rgb(0, 187, 187)\"><span class=\"ansi-cyan-fg\">f</span></span>: <span style=\"color: rgb(0, 187, 0)\"><span class=\"ansi-green-fg\">concurrent</span></span>.<span style=\"color: rgb(0, 187, 0)\"><span class=\"ansi-green-fg\">Future</span></span>[<span style=\"color: rgb(0, 187, 0)\"><span class=\"ansi-green-fg\">Unit</span></span>] = <span style=\"color: rgb(0, 187, 0)\"><span class=\"ansi-green-fg\"><style>@keyframes fadein { from { opacity: 0; } to { opacity: 1; } }</style><span style=\"animation: fadein 2s;\"><span style=\"color: yellow\"><span class=\"ansi-yellow-fg\">Success</span></span>(())</span></span></span></code></pre>\n",
       "</div>"
      ],
      "text/plain": [
       "\u001b[36mf\u001b[39m: \u001b[32mconcurrent\u001b[39m.\u001b[32mFuture\u001b[39m[\u001b[32mUnit\u001b[39m] = \u001b[32m\u001b[33mSuccess\u001b[39m(())\u001b[39m"
      ]
     },
     "metadata": {},
     "output_type": "display_data"
    }
   ],
   "source": [
    "val f =  concurrent.Future { Thread.sleep(5000); println(\"hi\")}"
   ]
  },
  {
   "cell_type": "code",
   "execution_count": 58,
   "metadata": {},
   "outputs": [
    {
     "name": "stdout",
     "output_type": "stream",
     "text": [
      "waiting\n"
     ]
    }
   ],
   "source": [
    "println(\"waiting\")"
   ]
  },
  {
   "cell_type": "code",
   "execution_count": 61,
   "metadata": {},
   "outputs": [
    {
     "data": {
      "text/plain": [
       "defined \u001b[32mfunction\u001b[39m \u001b[36mnextFtr\u001b[39m"
      ]
     },
     "execution_count": 61,
     "metadata": {},
     "output_type": "execute_result"
    }
   ],
   "source": [
    "def nextFtr(i: Int = 0 ) = concurrent.Future {\n",
    "    def rand(x: Int) = util.Random.nextInt(x)\n",
    "    \n",
    "    Thread.sleep(rand(3000))\n",
    "    if (rand(3) > 0) ( i + 1) else throw new Exception\n",
    "}"
   ]
  },
  {
   "cell_type": "code",
   "execution_count": 60,
   "metadata": {},
   "outputs": [
    {
     "data": {
      "text/html": [
       "<div class=\"jp-RenderedText\">\n",
       "<pre><code><span style=\"color: rgb(0, 187, 187)\"><span class=\"ansi-cyan-fg\">res59</span></span>: <span style=\"color: rgb(0, 187, 0)\"><span class=\"ansi-green-fg\">concurrent</span></span>.<span style=\"color: rgb(0, 187, 0)\"><span class=\"ansi-green-fg\">Future</span></span>[<span style=\"color: rgb(0, 187, 0)\"><span class=\"ansi-green-fg\">Int</span></span>] = <span style=\"color: rgb(0, 187, 0)\"><span class=\"ansi-green-fg\"><style>@keyframes fadein { from { opacity: 0; } to { opacity: 1; } }</style><span style=\"animation: fadein 2s;\"><span style=\"color: yellow\"><span class=\"ansi-yellow-fg\">Success</span></span>(<span style=\"color: rgb(0, 187, 0)\"><span class=\"ansi-green-fg\">2</span></span>)</span></span></span></code></pre>\n",
       "</div>"
      ],
      "text/plain": [
       "\u001b[36mres59\u001b[39m: \u001b[32mconcurrent\u001b[39m.\u001b[32mFuture\u001b[39m[\u001b[32mInt\u001b[39m] = \u001b[32m\u001b[33mSuccess\u001b[39m(\u001b[32m2\u001b[39m)\u001b[39m"
      ]
     },
     "metadata": {},
     "output_type": "display_data"
    }
   ],
   "source": [
    "nextFtr(1) fallbackTo nextFtr(2)"
   ]
  },
  {
   "cell_type": "code",
   "execution_count": 62,
   "metadata": {},
   "outputs": [
    {
     "data": {
      "text/html": [
       "<div class=\"jp-RenderedText\">\n",
       "<pre><code><span style=\"color: rgb(0, 187, 187)\"><span class=\"ansi-cyan-fg\">res61</span></span>: <span style=\"color: rgb(0, 187, 0)\"><span class=\"ansi-green-fg\">concurrent</span></span>.<span style=\"color: rgb(0, 187, 0)\"><span class=\"ansi-green-fg\">Future</span></span>[<span style=\"color: rgb(0, 187, 0)\"><span class=\"ansi-green-fg\">Int</span></span>] = <span style=\"color: rgb(0, 187, 0)\"><span class=\"ansi-green-fg\"><style>@keyframes fadein { from { opacity: 0; } to { opacity: 1; } }</style><span style=\"animation: fadein 2s;\"><span style=\"color: yellow\"><span class=\"ansi-yellow-fg\">Failure</span></span>(java.lang.Exception)</span></span></span></code></pre>\n",
       "</div>"
      ],
      "text/plain": [
       "\u001b[36mres61\u001b[39m: \u001b[32mconcurrent\u001b[39m.\u001b[32mFuture\u001b[39m[\u001b[32mInt\u001b[39m] = \u001b[32m\u001b[33mFailure\u001b[39m(java.lang.Exception)\u001b[39m"
      ]
     },
     "metadata": {},
     "output_type": "display_data"
    }
   ],
   "source": [
    "nextFtr(1).flatMap(int => nextFtr())"
   ]
  },
  {
   "cell_type": "code",
   "execution_count": 63,
   "metadata": {},
   "outputs": [
    {
     "data": {
      "text/html": [
       "<div class=\"jp-RenderedText\">\n",
       "<pre><code><span style=\"color: rgb(0, 187, 187)\"><span class=\"ansi-cyan-fg\">res62</span></span>: <span style=\"color: rgb(0, 187, 0)\"><span class=\"ansi-green-fg\">concurrent</span></span>.<span style=\"color: rgb(0, 187, 0)\"><span class=\"ansi-green-fg\">Future</span></span>[<span style=\"color: rgb(0, 187, 0)\"><span class=\"ansi-green-fg\">Int</span></span>] = <span style=\"color: rgb(0, 187, 0)\"><span class=\"ansi-green-fg\"><style>@keyframes fadein { from { opacity: 0; } to { opacity: 1; } }</style><span style=\"animation: fadein 2s;\"><span style=\"color: yellow\"><span class=\"ansi-yellow-fg\">Success</span></span>(<span style=\"color: rgb(0, 187, 0)\"><span class=\"ansi-green-fg\">4</span></span>)</span></span></span></code></pre>\n",
       "</div>"
      ],
      "text/plain": [
       "\u001b[36mres62\u001b[39m: \u001b[32mconcurrent\u001b[39m.\u001b[32mFuture\u001b[39m[\u001b[32mInt\u001b[39m] = \u001b[32m\u001b[33mSuccess\u001b[39m(\u001b[32m4\u001b[39m)\u001b[39m"
      ]
     },
     "metadata": {},
     "output_type": "display_data"
    }
   ],
   "source": [
    "nextFtr(1) map (_ * 2)"
   ]
  },
  {
   "cell_type": "code",
   "execution_count": 64,
   "metadata": {},
   "outputs": [],
   "source": [
    "nextFtr() onComplete { _ getOrElse 0}"
   ]
  },
  {
   "cell_type": "code",
   "execution_count": 64,
   "metadata": {},
   "outputs": [
    {
     "name": "stderr",
     "output_type": "stream",
     "text": [
      "cmd64.sc:1: missing argument list for method nextFtr in class Helper\n",
      "Unapplied methods are only converted to functions when a function type is expected.\n",
      "You can make this conversion explicit by writing `nextFtr _` or `nextFtr(_)` instead of `nextFtr`.\n",
      "val res64 = nextFtr onFailure { case _ => \"Error !\"}\n",
      "            ^Compilation Failed"
     ]
    },
    {
     "ename": "",
     "evalue": "",
     "output_type": "error",
     "traceback": [
      "Compilation Failed"
     ]
    }
   ],
   "source": [
    "nextFtr onFailure { case _ => \"Error !\"}"
   ]
  },
  {
   "cell_type": "code",
   "execution_count": 65,
   "metadata": {},
   "outputs": [],
   "source": [
    "nextFtr() onSuccess {case x => s\"Got $x\"}"
   ]
  },
  {
   "cell_type": "code",
   "execution_count": 66,
   "metadata": {},
   "outputs": [
    {
     "data": {
      "text/html": [
       "<div class=\"jp-RenderedText\">\n",
       "<pre><code><span style=\"color: rgb(0, 187, 187)\"><span class=\"ansi-cyan-fg\">res65</span></span>: <span style=\"color: rgb(0, 187, 0)\"><span class=\"ansi-green-fg\">concurrent</span></span>.<span style=\"color: rgb(0, 187, 0)\"><span class=\"ansi-green-fg\">Future</span></span>[<span style=\"color: rgb(0, 187, 0)\"><span class=\"ansi-green-fg\">List</span></span>[<span style=\"color: rgb(0, 187, 0)\"><span class=\"ansi-green-fg\">Int</span></span>]] = <span style=\"color: rgb(0, 187, 0)\"><span class=\"ansi-green-fg\"><style>@keyframes fadein { from { opacity: 0; } to { opacity: 1; } }</style><span style=\"animation: fadein 2s;\"><span style=\"color: yellow\"><span class=\"ansi-yellow-fg\">Success</span></span>(<span style=\"color: yellow\"><span class=\"ansi-yellow-fg\">List</span></span>(<span style=\"color: rgb(0, 187, 0)\"><span class=\"ansi-green-fg\">2</span></span>, <span style=\"color: rgb(0, 187, 0)\"><span class=\"ansi-green-fg\">6</span></span>))</span></span></span></code></pre>\n",
       "</div>"
      ],
      "text/plain": [
       "\u001b[36mres65\u001b[39m: \u001b[32mconcurrent\u001b[39m.\u001b[32mFuture\u001b[39m[\u001b[32mList\u001b[39m[\u001b[32mInt\u001b[39m]] = \u001b[32m\u001b[33mSuccess\u001b[39m(\u001b[33mList\u001b[39m(\u001b[32m2\u001b[39m, \u001b[32m6\u001b[39m))\u001b[39m"
      ]
     },
     "metadata": {},
     "output_type": "display_data"
    }
   ],
   "source": [
    "concurrent.Future sequence List(nextFtr(1), nextFtr(5))"
   ]
  },
  {
   "cell_type": "markdown",
   "metadata": {},
   "source": [
    "## 동기식으로 퓨쳐 처리하기"
   ]
  },
  {
   "cell_type": "code",
   "execution_count": 68,
   "metadata": {},
   "outputs": [
    {
     "data": {
      "text/plain": [
       "\u001b[32mimport \u001b[39m\u001b[36mconcurrent.duration._\u001b[39m"
      ]
     },
     "execution_count": 68,
     "metadata": {},
     "output_type": "execute_result"
    }
   ],
   "source": [
    "import concurrent.duration._"
   ]
  },
  {
   "cell_type": "code",
   "execution_count": 69,
   "metadata": {},
   "outputs": [
    {
     "data": {
      "text/plain": [
       "\u001b[36mmaxTime\u001b[39m: \u001b[32mFiniteDuration\u001b[39m = 10 seconds"
      ]
     },
     "execution_count": 69,
     "metadata": {},
     "output_type": "execute_result"
    }
   ],
   "source": [
    "val maxTime = Duration(10, SECONDS)"
   ]
  },
  {
   "cell_type": "code",
   "execution_count": 71,
   "metadata": {},
   "outputs": [
    {
     "data": {
      "text/plain": [
       "\u001b[36mamount\u001b[39m: \u001b[32mInt\u001b[39m = \u001b[32m6\u001b[39m"
      ]
     },
     "execution_count": 71,
     "metadata": {},
     "output_type": "execute_result"
    }
   ],
   "source": [
    "val amount = concurrent.Await.result(nextFtr(5), maxTime)"
   ]
  },
  {
   "cell_type": "code",
   "execution_count": null,
   "metadata": {},
   "outputs": [],
   "source": []
  }
 ],
 "metadata": {
  "kernelspec": {
   "display_name": "Scala",
   "language": "scala",
   "name": "scala"
  },
  "language_info": {
   "codemirror_mode": "text/x-scala",
   "file_extension": ".scala",
   "mimetype": "text/x-scala",
   "name": "scala",
   "nbconvert_exporter": "script",
   "version": "2.12.10"
  }
 },
 "nbformat": 4,
 "nbformat_minor": 4
}
